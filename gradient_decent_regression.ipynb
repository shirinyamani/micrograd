{
 "cells": [
  {
   "cell_type": "code",
   "execution_count": 1,
   "id": "325f67bb-6abe-4852-92da-58ca14c9aadb",
   "metadata": {},
   "outputs": [],
   "source": [
    "import numpy as np\n",
    "import matplotlib.pyplot as plt"
   ]
  },
  {
   "cell_type": "markdown",
   "id": "4c4cc5e6-000c-4b49-b4ee-fa80462d108a",
   "metadata": {},
   "source": [
    "## line search for adaptive step size"
   ]
  },
  {
   "cell_type": "code",
   "execution_count": 2,
   "id": "f919dafe-839a-4bde-9104-2b2fd21a8e55",
   "metadata": {},
   "outputs": [],
   "source": [
    "np.random.seed(0)"
   ]
  },
  {
   "cell_type": "markdown",
   "id": "58a0aa6b-1e90-42f4-9cb8-799721f06e74",
   "metadata": {},
   "source": [
    "## Generate Data"
   ]
  },
  {
   "cell_type": "code",
   "execution_count": 3,
   "id": "cf490792-bf92-45dd-a690-1a5fde76f713",
   "metadata": {},
   "outputs": [
    {
     "data": {
      "text/plain": [
       "(100, 3)"
      ]
     },
     "execution_count": 3,
     "metadata": {},
     "output_type": "execute_result"
    }
   ],
   "source": [
    "n, d = 100, 3\n",
    "X = np.random.rand(n, d)\n",
    "X.shape"
   ]
  },
  {
   "cell_type": "code",
   "execution_count": 4,
   "id": "1523c379-1a95-4e48-b679-ee1990113cd7",
   "metadata": {},
   "outputs": [
    {
     "data": {
      "text/plain": [
       "(3,)"
      ]
     },
     "execution_count": 4,
     "metadata": {},
     "output_type": "execute_result"
    }
   ],
   "source": [
    "w_gt = np.array([1,2,3])\n",
    "w_gt.shape"
   ]
  },
  {
   "cell_type": "code",
   "execution_count": 5,
   "id": "3751e5b2-acad-47af-a1cf-1b7054f71d98",
   "metadata": {},
   "outputs": [],
   "source": [
    "error = np.random.randn(100,1)"
   ]
  },
  {
   "cell_type": "code",
   "execution_count": 6,
   "id": "a0361a33-9875-4bd5-bea5-3832af3b14be",
   "metadata": {},
   "outputs": [
    {
     "data": {
      "text/plain": [
       "(100, 1)"
      ]
     },
     "execution_count": 6,
     "metadata": {},
     "output_type": "execute_result"
    }
   ],
   "source": [
    "y = X @ w_gt.reshape(-1, 1) + error\n",
    "y.shape"
   ]
  },
  {
   "cell_type": "code",
   "execution_count": 7,
   "id": "297ef104-ba09-4f14-906d-39c81d456be4",
   "metadata": {},
   "outputs": [
    {
     "data": {
      "text/plain": [
       "(100, 4)"
      ]
     },
     "execution_count": 7,
     "metadata": {},
     "output_type": "execute_result"
    }
   ],
   "source": [
    "#for w0 adding 1 for the general dimensionality purpose according to formula\n",
    "X = np.hstack((np.ones((n,1)), X))\n",
    "\n",
    "X.shape\n"
   ]
  },
  {
   "cell_type": "markdown",
   "id": "177093af-aeb0-4c4a-b757-33ba706a1b1a",
   "metadata": {},
   "source": [
    "## Gradient decent\n",
    "defined limitations in problems\n",
    "- number of iterations (max defined)\n",
    "- error diff"
   ]
  },
  {
   "cell_type": "code",
   "execution_count": 8,
   "id": "8ebf4a04-6d6e-44f7-a0ef-bcfd502c4739",
   "metadata": {},
   "outputs": [],
   "source": [
    "def gradient(X, y, w):\n",
    "    n, d = X.shape\n",
    "    grad = X.T @ ((X @ w) - y) / n\n",
    "    return grad"
   ]
  },
  {
   "cell_type": "code",
   "execution_count": 9,
   "id": "1e6c76b4-ba5e-436d-87cc-ed38fc844fbb",
   "metadata": {},
   "outputs": [
    {
     "data": {
      "text/plain": [
       "(100, 4)"
      ]
     },
     "execution_count": 9,
     "metadata": {},
     "output_type": "execute_result"
    }
   ],
   "source": [
    "X.shape"
   ]
  },
  {
   "cell_type": "code",
   "execution_count": 10,
   "id": "e633ee00-5ed9-4c8d-b9ca-9cdedde4a369",
   "metadata": {},
   "outputs": [
    {
     "data": {
      "text/plain": [
       "array([[-2.90928278],\n",
       "       [-1.5532363 ],\n",
       "       [-1.56101271],\n",
       "       [-1.76752543]])"
      ]
     },
     "execution_count": 10,
     "metadata": {},
     "output_type": "execute_result"
    }
   ],
   "source": [
    "#lets test\n",
    "gradient(X, y, np.zeros((X.shape[1], 1)))"
   ]
  },
  {
   "cell_type": "code",
   "execution_count": 62,
   "id": "efda70e8-4d64-4a62-9e2d-759babf2f568",
   "metadata": {},
   "outputs": [],
   "source": [
    "def gradient_descent(X,y, num_iter):\n",
    "    #randomly initialize w, here we took zero but it can be anything\n",
    "    n, d = X.shape\n",
    "    w = np.zeros((d, 1))\n",
    "    costs = [cost_function(X,y,w)]\n",
    "    for _ in range(num_iter):\n",
    "        step_size = line_search(X,y, w)\n",
    "        w = w - step_size * gradient(X, y, w)\n",
    "\n",
    "        costs.append(cost_function(X,y,w))\n",
    "    return w, costs"
   ]
  },
  {
   "cell_type": "code",
   "execution_count": 16,
   "id": "7edb1f66-cea7-43b7-8d1b-1717b685e559",
   "metadata": {},
   "outputs": [],
   "source": [
    "def cost_function(X,y,w):\n",
    "    y_pred = X @ w\n",
    "    n, d = X.shape\n",
    "    return np.sum((y - y_pred) ** 2) / (2 * n)"
   ]
  },
  {
   "cell_type": "code",
   "execution_count": null,
   "id": "e5c5c035-909f-4875-b51b-a26900bace47",
   "metadata": {},
   "outputs": [],
   "source": []
  },
  {
   "cell_type": "code",
   "execution_count": 42,
   "id": "b7b4ccff-dcc9-4db1-91b1-35119b482bc8",
   "metadata": {},
   "outputs": [],
   "source": [
    "def line_search(X, y, w, alpha=0.001, beta=0.5):\n",
    "    old_cost = cost_function(X,y, w)\n",
    "    step_size = 10.0 #randomly to big number\n",
    "    grad = gradient(X, y, w)\n",
    "    new_cost = cost_function(X, y, w - step_size * grad)\n",
    "    while cost_function(X, y, w - step_size * grad) > old_cost + alpha:\n",
    "        step_size = beta * step_size #update stepsize with shib\n",
    "    return step_size"
   ]
  },
  {
   "cell_type": "code",
   "execution_count": null,
   "id": "13044260-31a9-4b68-87fc-2358cfae6771",
   "metadata": {},
   "outputs": [],
   "source": []
  },
  {
   "cell_type": "code",
   "execution_count": 64,
   "id": "54976961-6b1b-4123-a100-0413158a2712",
   "metadata": {},
   "outputs": [],
   "source": [
    "w ,costs = gradient_descent(X,y, 1000)\n"
   ]
  },
  {
   "cell_type": "code",
   "execution_count": 54,
   "id": "81b769b7-8e16-4ab0-8d1a-cb4f26275b20",
   "metadata": {},
   "outputs": [
    {
     "data": {
      "text/plain": [
       "array([[-0.07627808],\n",
       "       [ 0.57724156],\n",
       "       [ 1.96648145],\n",
       "       [ 3.23872071]])"
      ]
     },
     "execution_count": 54,
     "metadata": {},
     "output_type": "execute_result"
    }
   ],
   "source": [
    "w"
   ]
  },
  {
   "cell_type": "code",
   "execution_count": 58,
   "id": "86fc3b5c-2353-4eb1-804c-16720c17502f",
   "metadata": {},
   "outputs": [
    {
     "data": {
      "text/plain": [
       "array([[-0.07627808],\n",
       "       [ 0.57724156],\n",
       "       [ 1.96648145],\n",
       "       [ 3.23872071]])"
      ]
     },
     "execution_count": 58,
     "metadata": {},
     "output_type": "execute_result"
    }
   ],
   "source": [
    "w"
   ]
  },
  {
   "cell_type": "code",
   "execution_count": 55,
   "id": "2e75df89-c26a-4f74-a1c3-2e1e9dc5f908",
   "metadata": {},
   "outputs": [],
   "source": [
    "w_mle = np.linalg.inv(X.T @ X) @ X.T @ y"
   ]
  },
  {
   "cell_type": "code",
   "execution_count": 56,
   "id": "1267a811-dd5a-4660-8d04-2a8a3b8e86e9",
   "metadata": {},
   "outputs": [
    {
     "data": {
      "text/plain": [
       "array([[-0.0497861 ],\n",
       "       [ 0.59132477],\n",
       "       [ 1.97995663],\n",
       "       [ 3.25323099]])"
      ]
     },
     "execution_count": 56,
     "metadata": {},
     "output_type": "execute_result"
    }
   ],
   "source": [
    "w_mle"
   ]
  },
  {
   "cell_type": "code",
   "execution_count": 70,
   "id": "864729d2-2b4e-4b2f-8f73-e855ded46e94",
   "metadata": {},
   "outputs": [],
   "source": [
    "#costs"
   ]
  },
  {
   "cell_type": "code",
   "execution_count": 67,
   "id": "15caebde-1b41-42ce-9f1e-0612f3339242",
   "metadata": {},
   "outputs": [],
   "source": [
    "import matplotlib.pyplot as plt"
   ]
  },
  {
   "cell_type": "code",
   "execution_count": 69,
   "id": "03eeeef9-9d7a-4880-a6ff-3823b2e6502b",
   "metadata": {},
   "outputs": [
    {
     "data": {
      "text/plain": [
       "[<matplotlib.lines.Line2D at 0x1302ec220>]"
      ]
     },
     "execution_count": 69,
     "metadata": {},
     "output_type": "execute_result"
    },
    {
     "data": {
      "image/png": "[encoded data removed]",
      "text/plain": [
       "<Figure size 640x480 with 1 Axes>"
      ]
     },
     "metadata": {},
     "output_type": "display_data"
    }
   ],
   "source": [
    "plt.plot(\n",
    "    range(len(costs)),\n",
    "    costs\n",
    ")"
   ]
  },
  {
   "cell_type": "markdown",
   "id": "c9d084ed-5f60-4ec9-9c6d-53f8ecfa5f65",
   "metadata": {},
   "source": [
    "## mini-batch gradient descent"
   ]
  },
  {
   "cell_type": "code",
   "execution_count": 2,
   "id": "24a0b55c-262a-49ee-83dd-a7b4de3495f6",
   "metadata": {},
   "outputs": [],
   "source": [
    "np.random.seed(0)"
   ]
  },
  {
   "cell_type": "code",
   "execution_count": 5,
   "id": "9b5795b9-3c83-4fa2-9f67-470cd4f6d64f",
   "metadata": {},
   "outputs": [],
   "source": [
    " # sample, feature/dimension\n",
    "X = np.random.rand(1000, 3)\n",
    "y = X @ np.array([1,2,3]).reshape(-1, 1) + np.random.randn(1000, 1)"
   ]
  },
  {
   "cell_type": "code",
   "execution_count": 6,
   "id": "ef5914fa-b90e-4e67-9781-779ccee5fd61",
   "metadata": {},
   "outputs": [],
   "source": [
    "n, d = X.shape"
   ]
  },
  {
   "cell_type": "code",
   "execution_count": 7,
   "id": "a47d5f4a-dba0-4f6e-821b-e674b49b7e1b",
   "metadata": {},
   "outputs": [
    {
     "data": {
      "text/plain": [
       "(1000, 4)"
      ]
     },
     "execution_count": 7,
     "metadata": {},
     "output_type": "execute_result"
    }
   ],
   "source": [
    "X = np.hstack((np.ones((n, 1)), X))\n",
    "X.shape"
   ]
  },
  {
   "cell_type": "code",
   "execution_count": null,
   "id": "57aa4525-a0db-4884-bc11-18ef00ddff78",
   "metadata": {},
   "outputs": [],
   "source": []
  },
  {
   "cell_type": "code",
   "execution_count": 8,
   "id": "917ff46d-4dd1-4ded-ad59-005b24e59386",
   "metadata": {},
   "outputs": [],
   "source": [
    "def cost_function(X, y, w):\n",
    "    n, d = X.shape\n",
    "    y_pred = X @ w\n",
    "    return np.sum((y - y_pred) ** 2) / (2 * n)"
   ]
  },
  {
   "cell_type": "code",
   "execution_count": 9,
   "id": "ea3b1373-b222-467d-acc8-7c93515066a4",
   "metadata": {},
   "outputs": [],
   "source": [
    "def gradient(X, y, w):\n",
    "    n,d = X.shape\n",
    "    grad = X.T @ ((X @ w) - y) / n\n",
    "    return grad"
   ]
  },
  {
   "cell_type": "code",
   "execution_count": 29,
   "id": "b3ff124f-98e3-44d5-83af-9b843d84e574",
   "metadata": {},
   "outputs": [],
   "source": [
    "#test gradient\n",
    "w_grad = gradient(X,y, np.zeros((X.shape[1], 1)))"
   ]
  },
  {
   "cell_type": "code",
   "execution_count": null,
   "id": "13197e8e-013a-4575-9cd0-acf0d18fc1df",
   "metadata": {},
   "outputs": [],
   "source": []
  },
  {
   "cell_type": "code",
   "execution_count": 10,
   "id": "ea22f622-706a-4e29-b8c2-555fbd9dc3c2",
   "metadata": {},
   "outputs": [],
   "source": [
    "def line_search(X,y,w, alpha=0.001, beta= 0.7):\n",
    "    cost = cost_function(X, y, w)\n",
    "    grad = gradient(X, y, w)\n",
    "    step_size = 1\n",
    "    while cost_function(X, y, w - step_size * grad) > cost + alpha:\n",
    "        step_size = beta * step_size\n",
    "    return step_size"
   ]
  },
  {
   "cell_type": "code",
   "execution_count": 13,
   "id": "6c84f33d-a614-4b8a-ac2b-efecd8bd5e5d",
   "metadata": {},
   "outputs": [],
   "source": [
    "def minibatch_gradient_descent1(X, y, batch_size, alpha=0.01, beta=0.7, num_epochs=1000):\n",
    "    n, d = X.shape\n",
    "    w = np.zeros((d, 1))\n",
    "    print(f'Baseline Cost: {cost_function(X, y, w)}')\n",
    "\n",
    "    costs = []\n",
    "    for _ in range(num_epochs):\n",
    "        # randomly shuffle the indices of the training data\n",
    "        indices = np.random.permutation(n)\n",
    "        \n",
    "        # split the indices into batches of size batch_size\n",
    "        for j in range(0, n, batch_size):\n",
    "            batch_indices = indices[j: j + batch_size]\n",
    "            X_batch = X[batch_indices]\n",
    "            y_batch = y[batch_indices]\n",
    "            \n",
    "            # perform line search to find the optimal step size for the batch\n",
    "            step_size = line_search(X_batch, y_batch, w, alpha, beta)\n",
    "            \n",
    "            # update the parameters using the optimal step size and search direction\n",
    "            w = w - step_size * gradient(X, y, w)\n",
    "    \n",
    "        costs.append(cost_function(X, y, w))\n",
    "\n",
    "    return w, costs"
   ]
  },
  {
   "cell_type": "code",
   "execution_count": 21,
   "id": "d4b9b490-4d6f-4f7e-9379-31a380ba2f0b",
   "metadata": {},
   "outputs": [],
   "source": [
    "def minibatch_gradient_descent(X, y, batch_size, alpha=0.001, beta= 0.7, num_epochs=1000):\n",
    "    n,d = X.shape\n",
    "    w = np.zeros((d, 1))\n",
    "\n",
    "    for _ in range(num_epochs):\n",
    "        indices = np.random.permutation(n) #shuffle the data set\n",
    "\n",
    "        for start_index in range(0 , n, batch_size):\n",
    "            batch_indecies = indices[start_index: start_index + batch_size]\n",
    "            X_batch = X[batch_indecies]\n",
    "            y_batch = y[batch_indecies]\n",
    "\n",
    "            step_size = line_search(X_batch,  y_batch, w,  alpha, beta)\n",
    "\n",
    "            w = w - step_size * gradient(X_batch, y_batch, w)\n",
    "    return w\n"
   ]
  },
  {
   "cell_type": "code",
   "execution_count": 22,
   "id": "026d5f87-e5c3-452c-ab2e-d45085d6c893",
   "metadata": {},
   "outputs": [],
   "source": [
    "w = minibatch_gradient_descent(X, y, num_epochs=10, batch_size=100, alpha=0.001, beta= 0.7)"
   ]
  },
  {
   "cell_type": "code",
   "execution_count": 18,
   "id": "8540c26a-dac9-4acd-886f-2c56cf18c314",
   "metadata": {},
   "outputs": [
    {
     "data": {
      "text/plain": [
       "array([[0.33478212],\n",
       "       [0.78578462],\n",
       "       [1.89611501],\n",
       "       [2.89256657]])"
      ]
     },
     "execution_count": 18,
     "metadata": {},
     "output_type": "execute_result"
    }
   ],
   "source": [
    "w"
   ]
  },
  {
   "cell_type": "code",
   "execution_count": null,
   "id": "0a40d676-649d-4b59-9ab0-363ce42a0095",
   "metadata": {},
   "outputs": [],
   "source": []
  }
 ],
 "metadata": {
  "kernelspec": {
   "display_name": "Python 3 (ipykernel)",
   "language": "python",
   "name": "python3"
  },
  "language_info": {
   "codemirror_mode": {
    "name": "ipython",
    "version": 3
   },
   "file_extension": ".py",
   "mimetype": "text/x-python",
   "name": "python",
   "nbconvert_exporter": "python",
   "pygments_lexer": "ipython3",
   "version": "3.10.12"
  }
 },
 "nbformat": 4,
 "nbformat_minor": 5
}
