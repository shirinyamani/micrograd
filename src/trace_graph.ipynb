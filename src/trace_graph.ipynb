{
 "cells": [
  {
   "cell_type": "code",
   "execution_count": 1,
   "id": "17be426f-f7d6-45ce-a748-d5e623d926d2",
   "metadata": {},
   "outputs": [],
   "source": [
    "import math\n",
    "import numpy as np\n",
    "import matplotlib.pyplot as plt\n",
    "%matplotlib inline\n",
    "from graphviz import Digraph"
   ]
  },
  {
   "cell_type": "markdown",
   "id": "4723aae7-7a2d-40b0-bf2a-fde976f0ffa0",
   "metadata": {},
   "source": [
    "# be clear what is \"DERIVATIVE\" of one simple function with one input?"
   ]
  },
  {
   "cell_type": "code",
   "execution_count": 2,
   "id": "d68ed5f0-ad6b-4eca-baf5-3e93a49b06b6",
   "metadata": {},
   "outputs": [],
   "source": [
    "def f(x):\n",
    "    return 3*x**2 - 4*x + 5"
   ]
  },
  {
   "cell_type": "code",
   "execution_count": 3,
   "id": "69b25c77-3a3f-4e6a-aac5-245c9b9d66d6",
   "metadata": {},
   "outputs": [
    {
     "data": {
      "text/plain": [
       "20"
      ]
     },
     "execution_count": 3,
     "metadata": {},
     "output_type": "execute_result"
    }
   ],
   "source": [
    "f(3)"
   ]
  },
  {
   "cell_type": "code",
   "execution_count": 4,
   "id": "5f2f275e-0656-4b2c-9d3c-9f5f436f93e4",
   "metadata": {},
   "outputs": [
    {
     "data": {
      "text/plain": [
       "[<matplotlib.lines.Line2D at 0x11bb0a500>]"
      ]
     },
     "execution_count": 4,
     "metadata": {},
     "output_type": "execute_result"
    },
    {
     "data": {
      "image/png": "[encoded data removed]",
      "text/plain": [
       "<Figure size 640x480 with 1 Axes>"
      ]
     },
     "metadata": {},
     "output_type": "display_data"
    }
   ],
   "source": [
    "xs = np.arange(-5,5, 0.25) #from -5 t0 5 with step 0.5\n",
    "ys = f(xs)\n",
    "plt.plot(xs,ys)"
   ]
  },
  {
   "cell_type": "code",
   "execution_count": 5,
   "id": "cab1afb1-ce50-4d90-b5f9-a40296f38c56",
   "metadata": {},
   "outputs": [
    {
     "data": {
      "text/plain": [
       "array([100.    ,  91.6875,  83.75  ,  76.1875,  69.    ,  62.1875,\n",
       "        55.75  ,  49.6875,  44.    ,  38.6875,  33.75  ,  29.1875,\n",
       "        25.    ,  21.1875,  17.75  ,  14.6875,  12.    ,   9.6875,\n",
       "         7.75  ,   6.1875,   5.    ,   4.1875,   3.75  ,   3.6875,\n",
       "         4.    ,   4.6875,   5.75  ,   7.1875,   9.    ,  11.1875,\n",
       "        13.75  ,  16.6875,  20.    ,  23.6875,  27.75  ,  32.1875,\n",
       "        37.    ,  42.1875,  47.75  ,  53.6875])"
      ]
     },
     "execution_count": 5,
     "metadata": {},
     "output_type": "execute_result"
    }
   ],
   "source": [
    "ys"
   ]
  },
  {
   "cell_type": "code",
   "execution_count": 6,
   "id": "fd52bcbf-3ec4-4cbd-aadd-1bdddf022efa",
   "metadata": {
    "scrolled": true
   },
   "outputs": [
    {
     "data": {
      "text/plain": [
       "14.000003002223593"
      ]
     },
     "execution_count": 6,
     "metadata": {},
     "output_type": "execute_result"
    }
   ],
   "source": [
    "#definition of derivative\n",
    "h = 0.000001 #tent to zero by formula\n",
    "x = 3 #try -3, 2/3\n",
    "f(x)\n",
    "(f(x + h) - f(x)) / h"
   ]
  },
  {
   "cell_type": "code",
   "execution_count": 7,
   "id": "4aa29528-f4af-4b5d-a4a8-5ee340513a61",
   "metadata": {},
   "outputs": [
    {
     "name": "stdout",
     "output_type": "stream",
     "text": [
      "4\n"
     ]
    }
   ],
   "source": [
    "#lets get more complex function\n",
    "a = 2\n",
    "b = -3\n",
    "c = 10\n",
    "d = a*b + c\n",
    "print(d)"
   ]
  },
  {
   "cell_type": "code",
   "execution_count": 8,
   "id": "c80b82b5-bd02-4046-9a4e-19223cc28de9",
   "metadata": {},
   "outputs": [
    {
     "name": "stdout",
     "output_type": "stream",
     "text": [
      "d1 4\n",
      "d2 3.999699999999999\n",
      "actual slope -3.000000000010772\n"
     ]
    }
   ],
   "source": [
    "h = 0.0001\n",
    "\n",
    "#inputs\n",
    "a = 2\n",
    "b = -3\n",
    "c = 10\n",
    "\n",
    "d1 = a*b + c #initial \n",
    "a += h #bumped a to a positive direction by a lil bit \n",
    "d2 = a*b + c #how its gonna effect \n",
    "\n",
    "\n",
    "\n",
    "print('d1', d1)\n",
    "print('d2', d2)\n",
    "print('actual slope', (d2-d1)/h)"
   ]
  },
  {
   "cell_type": "markdown",
   "id": "e6782227-80e1-4897-8862-6d7aa01c17fb",
   "metadata": {},
   "source": [
    "## Core \"Value\" object of Micrograd"
   ]
  },
  {
   "cell_type": "code",
   "execution_count": 9,
   "id": "a138a1ac-5f98-4e71-a4db-31e427b17fea",
   "metadata": {},
   "outputs": [],
   "source": [
    "class Value:\n",
    "    def __init__(self, data, _children=(), _op='', label=''): #children to kinda relate them to one another!\n",
    "        self.data = data\n",
    "        self._children = set(_children) #children for understanding the created value is from what, e.g. d is from addition of a,b\n",
    "        self._op = _op #from what operation \n",
    "        self.label = label #to create a label for the dat values\n",
    "        self.grad = 0.0 #initial set to zero, meaning slight change in the variables does not impact the loss function \n",
    "        \n",
    "    def __repr__(self):\n",
    "        return f\"Value(data={self.data})\"\n",
    "\n",
    "    def __add__(self, other):\n",
    "        out = Value(self.data + other.data, (self, other), '+')\n",
    "        return out\n",
    "\n",
    "    def __mul__(self, other, _op='*'):\n",
    "        out = Value(self.data * other.data, (self,other), '*')\n",
    "        return out"
   ]
  },
  {
   "cell_type": "code",
   "execution_count": 10,
   "id": "5621c441-8318-4367-a3dd-ab9e15e70b7a",
   "metadata": {},
   "outputs": [],
   "source": [
    "obj1 = Value(3)\n",
    "a = Value(2, label= 'a')\n",
    "b = Value(-3, label='b')\n",
    "c = Value(10, label='c')\n",
    "#a + b #internally a.__add__(b)\n",
    "e=a*b; e.label = 'e'\n",
    "d=e + c; d.label = 'd'\n",
    "f = Value(-2, label='f')\n",
    "L = d * f; L.label='L' #overal output"
   ]
  },
  {
   "cell_type": "code",
   "execution_count": 11,
   "id": "2f1c86a4-19dd-40fd-9d78-ba395b35ba44",
   "metadata": {},
   "outputs": [
    {
     "data": {
      "text/plain": [
       "{Value(data=-6), Value(data=10)}"
      ]
     },
     "execution_count": 11,
     "metadata": {},
     "output_type": "execute_result"
    }
   ],
   "source": [
    "d._children"
   ]
  },
  {
   "cell_type": "code",
   "execution_count": 12,
   "id": "3ff9508c-8a97-46d5-b21a-d5d1e6da79b2",
   "metadata": {},
   "outputs": [
    {
     "data": {
      "text/plain": [
       "'+'"
      ]
     },
     "execution_count": 12,
     "metadata": {},
     "output_type": "execute_result"
    }
   ],
   "source": [
    "d._op"
   ]
  },
  {
   "cell_type": "markdown",
   "id": "4759ef18-0310-4d83-bd3b-16a8733b4369",
   "metadata": {},
   "source": [
    "## Graphical visualization "
   ]
  },
  {
   "cell_type": "code",
   "execution_count": 73,
   "id": "b0d4191b-cb00-4f2d-a228-5bfc2eacc006",
   "metadata": {},
   "outputs": [],
   "source": [
    "#visualualize in graph\n",
    "#trace is building the graph\n",
    "def trace(root):\n",
    "    #build a set of all nodes and edges in a graph\n",
    "    nodes, edges = set(), set()\n",
    "    def build_graph(v):\n",
    "        if v not in nodes:\n",
    "            nodes.add(v)\n",
    "            for child in v._children:\n",
    "                edges.add((child, v))\n",
    "                build_graph(child)\n",
    "    build_graph(root)\n",
    "    return nodes, edges\n",
    "\n",
    "def draw_dot(root):\n",
    "    dot = Digraph(format= 'svg', graph_attr={'rankdir':'LR'})\n",
    "    nodes, edges = trace(root)\n",
    "\n",
    "    for n in nodes:\n",
    "        #for any value in graph, create a rectangular ('record') for it \n",
    "        dot.node(name=str(id(n)), label=\"{%s | data %.4f | grad%.4f}\" % (n.label, n.data, n.grad), shape='record') #label = {%s | data %.4f | grad%.4f}\" % (n.label, n.data)\n",
    "        if n._op:\n",
    "            #if this value is a result of an +/* operation, create an op node for it \n",
    "            dot.node(str(id(n)) + n._op, label = n._op)\n",
    "            #connect it to the corresponding node \n",
    "            dot.edge(str(id(n)) + n._op, str(id(n)))\n",
    "\n",
    "    for n1, n2 in edges:\n",
    "        #connect n1 to the op node of n2\n",
    "        dot.edge(str(id(n1)),str(id(n2)) + n2._op)\n",
    "    return dot    "
   ]
  },
  {
   "cell_type": "code",
   "execution_count": 74,
   "id": "dd917c08-093e-4907-89e4-618f6cbc27d8",
   "metadata": {},
   "outputs": [
    {
     "data": {
      "image/svg+xml": [
       "<?xml version=\"1.0\" encoding=\"UTF-8\" standalone=\"no\"?>\n",
       "<!DOCTYPE svg PUBLIC \"-//W3C//DTD SVG 1.1//EN\"\n",
       " \"http://www.w3.org/Graphics/SVG/1.1/DTD/svg11.dtd\">\n",
       "<!-- Generated by graphviz version 9.0.0 (20230911.1827)\n",
       " -->\n",
       "<!-- Pages: 1 -->\n",
       "<svg width=\"1136pt\" height=\"128pt\"\n",
       " viewBox=\"0.00 0.00 1136.00 128.00\" xmlns=\"http://www.w3.org/2000/svg\" xmlns:xlink=\"http://www.w3.org/1999/xlink\">\n",
       "<g id=\"graph0\" class=\"graph\" transform=\"scale(1 1) rotate(0) translate(4 124)\">\n",
       "<polygon fill=\"white\" stroke=\"none\" points=\"-4,4 -4,-124 1132,-124 1132,4 -4,4\"/>\n",
       "<!-- 4760089504 -->\n",
       "<g id=\"node1\" class=\"node\">\n",
       "<title>4760089504</title>\n",
       "<polygon fill=\"none\" stroke=\"black\" points=\"632.62,-82.5 632.62,-118.5 814.88,-118.5 814.88,-82.5 632.62,-82.5\"/>\n",
       "<text text-anchor=\"middle\" x=\"642.88\" y=\"-95.7\" font-family=\"Times,serif\" font-size=\"14.00\">f</text>\n",
       "<polyline fill=\"none\" stroke=\"black\" points=\"653.12,-83 653.12,-118.5\"/>\n",
       "<text text-anchor=\"middle\" x=\"695.25\" y=\"-95.7\" font-family=\"Times,serif\" font-size=\"14.00\">data &#45;2.0000</text>\n",
       "<polyline fill=\"none\" stroke=\"black\" points=\"737.38,-83 737.38,-118.5\"/>\n",
       "<text text-anchor=\"middle\" x=\"776.12\" y=\"-95.7\" font-family=\"Times,serif\" font-size=\"14.00\">grad4.0000</text>\n",
       "</g>\n",
       "<!-- 4760091040* -->\n",
       "<g id=\"node9\" class=\"node\">\n",
       "<title>4760091040*</title>\n",
       "<ellipse fill=\"none\" stroke=\"black\" cx=\"879\" cy=\"-72.5\" rx=\"27\" ry=\"18\"/>\n",
       "<text text-anchor=\"middle\" x=\"879\" y=\"-67.45\" font-family=\"Times,serif\" font-size=\"14.00\">*</text>\n",
       "</g>\n",
       "<!-- 4760089504&#45;&gt;4760091040* -->\n",
       "<g id=\"edge8\" class=\"edge\">\n",
       "<title>4760089504&#45;&gt;4760091040*</title>\n",
       "<path fill=\"none\" stroke=\"black\" d=\"M815.23,-83.97C824.37,-82.3 833.24,-80.68 841.29,-79.21\"/>\n",
       "<polygon fill=\"black\" stroke=\"black\" points=\"841.75,-82.68 850.96,-77.44 840.49,-75.8 841.75,-82.68\"/>\n",
       "</g>\n",
       "<!-- 4760091424 -->\n",
       "<g id=\"node2\" class=\"node\">\n",
       "<title>4760091424</title>\n",
       "<polygon fill=\"none\" stroke=\"black\" points=\"631.5,-27.5 631.5,-63.5 816,-63.5 816,-27.5 631.5,-27.5\"/>\n",
       "<text text-anchor=\"middle\" x=\"642.88\" y=\"-40.7\" font-family=\"Times,serif\" font-size=\"14.00\">d</text>\n",
       "<polyline fill=\"none\" stroke=\"black\" points=\"654.25,-28 654.25,-63.5\"/>\n",
       "<text text-anchor=\"middle\" x=\"694.12\" y=\"-40.7\" font-family=\"Times,serif\" font-size=\"14.00\">data 4.0000</text>\n",
       "<polyline fill=\"none\" stroke=\"black\" points=\"734,-28 734,-63.5\"/>\n",
       "<text text-anchor=\"middle\" x=\"775\" y=\"-40.7\" font-family=\"Times,serif\" font-size=\"14.00\">grad&#45;2.0000</text>\n",
       "</g>\n",
       "<!-- 4760091424&#45;&gt;4760091040* -->\n",
       "<g id=\"edge9\" class=\"edge\">\n",
       "<title>4760091424&#45;&gt;4760091040*</title>\n",
       "<path fill=\"none\" stroke=\"black\" d=\"M816.11,-61.6C824.96,-63.16 833.54,-64.67 841.36,-66.04\"/>\n",
       "<polygon fill=\"black\" stroke=\"black\" points=\"840.61,-69.47 851.06,-67.75 841.82,-62.57 840.61,-69.47\"/>\n",
       "</g>\n",
       "<!-- 4760091424+ -->\n",
       "<g id=\"node3\" class=\"node\">\n",
       "<title>4760091424+</title>\n",
       "<ellipse fill=\"none\" stroke=\"black\" cx=\"568.5\" cy=\"-45.5\" rx=\"27\" ry=\"18\"/>\n",
       "<text text-anchor=\"middle\" x=\"568.5\" y=\"-40.45\" font-family=\"Times,serif\" font-size=\"14.00\">+</text>\n",
       "</g>\n",
       "<!-- 4760091424+&#45;&gt;4760091424 -->\n",
       "<g id=\"edge1\" class=\"edge\">\n",
       "<title>4760091424+&#45;&gt;4760091424</title>\n",
       "<path fill=\"none\" stroke=\"black\" d=\"M595.84,-45.5C603.01,-45.5 611.21,-45.5 619.94,-45.5\"/>\n",
       "<polygon fill=\"black\" stroke=\"black\" points=\"619.71,-49 629.71,-45.5 619.71,-42 619.71,-49\"/>\n",
       "</g>\n",
       "<!-- 4760090416 -->\n",
       "<g id=\"node4\" class=\"node\">\n",
       "<title>4760090416</title>\n",
       "<polygon fill=\"none\" stroke=\"black\" points=\"316.12,-55.5 316.12,-91.5 504.38,-91.5 504.38,-55.5 316.12,-55.5\"/>\n",
       "<text text-anchor=\"middle\" x=\"327.12\" y=\"-68.7\" font-family=\"Times,serif\" font-size=\"14.00\">e</text>\n",
       "<polyline fill=\"none\" stroke=\"black\" points=\"338.12,-56 338.12,-91.5\"/>\n",
       "<text text-anchor=\"middle\" x=\"380.25\" y=\"-68.7\" font-family=\"Times,serif\" font-size=\"14.00\">data &#45;6.0000</text>\n",
       "<polyline fill=\"none\" stroke=\"black\" points=\"422.38,-56 422.38,-91.5\"/>\n",
       "<text text-anchor=\"middle\" x=\"463.38\" y=\"-68.7\" font-family=\"Times,serif\" font-size=\"14.00\">grad&#45;2.0000</text>\n",
       "</g>\n",
       "<!-- 4760090416&#45;&gt;4760091424+ -->\n",
       "<g id=\"edge6\" class=\"edge\">\n",
       "<title>4760090416&#45;&gt;4760091424+</title>\n",
       "<path fill=\"none\" stroke=\"black\" d=\"M504.85,-56.73C514.02,-55.08 522.89,-53.49 530.94,-52.05\"/>\n",
       "<polygon fill=\"black\" stroke=\"black\" points=\"531.35,-55.53 540.58,-50.32 530.12,-48.64 531.35,-55.53\"/>\n",
       "</g>\n",
       "<!-- 4760090416* -->\n",
       "<g id=\"node5\" class=\"node\">\n",
       "<title>4760090416*</title>\n",
       "<ellipse fill=\"none\" stroke=\"black\" cx=\"252\" cy=\"-73.5\" rx=\"27\" ry=\"18\"/>\n",
       "<text text-anchor=\"middle\" x=\"252\" y=\"-68.45\" font-family=\"Times,serif\" font-size=\"14.00\">*</text>\n",
       "</g>\n",
       "<!-- 4760090416*&#45;&gt;4760090416 -->\n",
       "<g id=\"edge2\" class=\"edge\">\n",
       "<title>4760090416*&#45;&gt;4760090416</title>\n",
       "<path fill=\"none\" stroke=\"black\" d=\"M279.15,-73.5C286.63,-73.5 295.26,-73.5 304.46,-73.5\"/>\n",
       "<polygon fill=\"black\" stroke=\"black\" points=\"304.39,-77 314.39,-73.5 304.39,-70 304.39,-77\"/>\n",
       "</g>\n",
       "<!-- 4760088880 -->\n",
       "<g id=\"node6\" class=\"node\">\n",
       "<title>4760088880</title>\n",
       "<polygon fill=\"none\" stroke=\"black\" points=\"4.88,-83.5 4.88,-119.5 184.12,-119.5 184.12,-83.5 4.88,-83.5\"/>\n",
       "<text text-anchor=\"middle\" x=\"15.88\" y=\"-96.7\" font-family=\"Times,serif\" font-size=\"14.00\">a</text>\n",
       "<polyline fill=\"none\" stroke=\"black\" points=\"26.88,-84 26.88,-119.5\"/>\n",
       "<text text-anchor=\"middle\" x=\"66.75\" y=\"-96.7\" font-family=\"Times,serif\" font-size=\"14.00\">data 2.0000</text>\n",
       "<polyline fill=\"none\" stroke=\"black\" points=\"106.62,-84 106.62,-119.5\"/>\n",
       "<text text-anchor=\"middle\" x=\"145.38\" y=\"-96.7\" font-family=\"Times,serif\" font-size=\"14.00\">grad6.0000</text>\n",
       "</g>\n",
       "<!-- 4760088880&#45;&gt;4760090416* -->\n",
       "<g id=\"edge5\" class=\"edge\">\n",
       "<title>4760088880&#45;&gt;4760090416*</title>\n",
       "<path fill=\"none\" stroke=\"black\" d=\"M184.6,-85.46C194.98,-83.59 205.09,-81.77 214.15,-80.13\"/>\n",
       "<polygon fill=\"black\" stroke=\"black\" points=\"214.7,-83.59 223.92,-78.38 213.46,-76.7 214.7,-83.59\"/>\n",
       "</g>\n",
       "<!-- 4760092480 -->\n",
       "<g id=\"node7\" class=\"node\">\n",
       "<title>4760092480</title>\n",
       "<polygon fill=\"none\" stroke=\"black\" points=\"315,-0.5 315,-36.5 505.5,-36.5 505.5,-0.5 315,-0.5\"/>\n",
       "<text text-anchor=\"middle\" x=\"326\" y=\"-13.7\" font-family=\"Times,serif\" font-size=\"14.00\">c</text>\n",
       "<polyline fill=\"none\" stroke=\"black\" points=\"337,-1 337,-36.5\"/>\n",
       "<text text-anchor=\"middle\" x=\"380.25\" y=\"-13.7\" font-family=\"Times,serif\" font-size=\"14.00\">data 10.0000</text>\n",
       "<polyline fill=\"none\" stroke=\"black\" points=\"423.5,-1 423.5,-36.5\"/>\n",
       "<text text-anchor=\"middle\" x=\"464.5\" y=\"-13.7\" font-family=\"Times,serif\" font-size=\"14.00\">grad&#45;2.0000</text>\n",
       "</g>\n",
       "<!-- 4760092480&#45;&gt;4760091424+ -->\n",
       "<g id=\"edge7\" class=\"edge\">\n",
       "<title>4760092480&#45;&gt;4760091424+</title>\n",
       "<path fill=\"none\" stroke=\"black\" d=\"M505.75,-34.83C514.54,-36.35 523.04,-37.82 530.78,-39.15\"/>\n",
       "<polygon fill=\"black\" stroke=\"black\" points=\"529.94,-42.56 540.39,-40.81 531.13,-35.66 529.94,-42.56\"/>\n",
       "</g>\n",
       "<!-- 4760091040 -->\n",
       "<g id=\"node8\" class=\"node\">\n",
       "<title>4760091040</title>\n",
       "<polygon fill=\"none\" stroke=\"black\" points=\"942,-54.5 942,-90.5 1128,-90.5 1128,-54.5 942,-54.5\"/>\n",
       "<text text-anchor=\"middle\" x=\"954.12\" y=\"-67.7\" font-family=\"Times,serif\" font-size=\"14.00\">L</text>\n",
       "<polyline fill=\"none\" stroke=\"black\" points=\"966.25,-55 966.25,-90.5\"/>\n",
       "<text text-anchor=\"middle\" x=\"1008.38\" y=\"-67.7\" font-family=\"Times,serif\" font-size=\"14.00\">data &#45;8.0000</text>\n",
       "<polyline fill=\"none\" stroke=\"black\" points=\"1050.5,-55 1050.5,-90.5\"/>\n",
       "<text text-anchor=\"middle\" x=\"1089.25\" y=\"-67.7\" font-family=\"Times,serif\" font-size=\"14.00\">grad1.0000</text>\n",
       "</g>\n",
       "<!-- 4760091040*&#45;&gt;4760091040 -->\n",
       "<g id=\"edge3\" class=\"edge\">\n",
       "<title>4760091040*&#45;&gt;4760091040</title>\n",
       "<path fill=\"none\" stroke=\"black\" d=\"M906.47,-72.5C913.61,-72.5 921.78,-72.5 930.46,-72.5\"/>\n",
       "<polygon fill=\"black\" stroke=\"black\" points=\"930.19,-76 940.19,-72.5 930.19,-69 930.19,-76\"/>\n",
       "</g>\n",
       "<!-- 4760092096 -->\n",
       "<g id=\"node10\" class=\"node\">\n",
       "<title>4760092096</title>\n",
       "<polygon fill=\"none\" stroke=\"black\" points=\"0,-28.5 0,-64.5 189,-64.5 189,-28.5 0,-28.5\"/>\n",
       "<text text-anchor=\"middle\" x=\"11.38\" y=\"-41.7\" font-family=\"Times,serif\" font-size=\"14.00\">b</text>\n",
       "<polyline fill=\"none\" stroke=\"black\" points=\"22.75,-29 22.75,-64.5\"/>\n",
       "<text text-anchor=\"middle\" x=\"64.88\" y=\"-41.7\" font-family=\"Times,serif\" font-size=\"14.00\">data &#45;3.0000</text>\n",
       "<polyline fill=\"none\" stroke=\"black\" points=\"107,-29 107,-64.5\"/>\n",
       "<text text-anchor=\"middle\" x=\"148\" y=\"-41.7\" font-family=\"Times,serif\" font-size=\"14.00\">grad&#45;4.0000</text>\n",
       "</g>\n",
       "<!-- 4760092096&#45;&gt;4760090416* -->\n",
       "<g id=\"edge4\" class=\"edge\">\n",
       "<title>4760092096&#45;&gt;4760090416*</title>\n",
       "<path fill=\"none\" stroke=\"black\" d=\"M189.1,-62.75C197.98,-64.29 206.58,-65.79 214.39,-67.14\"/>\n",
       "<polygon fill=\"black\" stroke=\"black\" points=\"213.65,-70.57 224.1,-68.83 214.85,-63.67 213.65,-70.57\"/>\n",
       "</g>\n",
       "</g>\n",
       "</svg>\n"
      ],
      "text/plain": [
       "<graphviz.graphs.Digraph at 0x11bcfabf0>"
      ]
     },
     "execution_count": 74,
     "metadata": {},
     "output_type": "execute_result"
    }
   ],
   "source": [
    "draw_dot(L)"
   ]
  },
  {
   "cell_type": "markdown",
   "id": "3352d579-bdab-4987-a3d8-16f163d7a7d0",
   "metadata": {},
   "source": [
    "we know how d impact L, and we know how c impact d(dd/dc) (plus sign d = e + c), now we wanna know how c impact L!\n",
    "dd / dc=1\n",
    "dd/ de = 1 (local derivative bc this have no clue of the whole network derivative L that we know!)\n",
    "acheieved by Chain Rule\n",
    "d = e + c \n",
    "\n",
    "WANT:\n",
    "dL / dc = (dL/dd) * (dd/dc) second one is 1 bc of the plus sign so it sounds like it just passed it thro!\n",
    "\n",
    "KNOW:\n",
    "dL/dd\n",
    "dd / dc\n",
    "d = e + c\n",
    "\n",
    "\n",
    "\n",
    "L = d * f\n",
    "dl/dd = ? f\n",
    "\n",
    "dL/dc\n"
   ]
  },
  {
   "cell_type": "code",
   "execution_count": 59,
   "id": "6c6c4321-eb04-4138-87b9-b9998edd7d2f",
   "metadata": {},
   "outputs": [],
   "source": [
    "c.grad = -2\n",
    "e.grad = -2\n",
    "\n",
    "\n",
    "d.grad = -2\n",
    "f.grad = 4"
   ]
  },
  {
   "cell_type": "markdown",
   "id": "5628544a-296e-48c6-b9f7-b11ad6b2e684",
   "metadata": {},
   "source": [
    "again for a , b\n",
    "\n",
    "dL / de = -2\n",
    "e = a * b\n",
    "\n",
    "dL / da = (dL/de) * (de/da) = -2 * b = -2 * -3 = 6"
   ]
  },
  {
   "cell_type": "code",
   "execution_count": 72,
   "id": "a6b52362-0134-44cc-a168-eaffedc2e7b6",
   "metadata": {},
   "outputs": [],
   "source": [
    "a.grad = -2 * -3\n",
    "b.grad = -2 * 2"
   ]
  },
  {
   "cell_type": "markdown",
   "id": "e215b93b-f442-444c-9193-28c7bf74eec0",
   "metadata": {},
   "source": [
    "## Manual backpro; simple expression"
   ]
  },
  {
   "cell_type": "code",
   "execution_count": 75,
   "id": "5f2b6189-0fc8-4282-a661-35e6661a6f5b",
   "metadata": {},
   "outputs": [],
   "source": [
    "#what is the derivate of L with respect to L/ f to L\n",
    "#in other word if we change f a lil bit, how does it affect the l \n",
    "def lol():\n",
    "    h = 0.001\n",
    "    a = Value(2, label= 'a')\n",
    "    b = Value(-3, label='b')\n",
    "    c = Value(10, label='c')\n",
    "    #a + b #internally a.__add__(b)\n",
    "    e=a*b; e.label = 'e'\n",
    "    d=e + c; d.label = 'd'\n",
    "    f = Value(-2, label='f')\n",
    "    L = d * f; L.label='L' #overal output\n",
    "    L1 = L.data\n",
    "\n",
    "    a = Value(2, label= 'a') #2 +h change a w respect to a\n",
    "    #a.data += h\n",
    "    b = Value(-3, label='b')\n",
    "    b.data += h\n",
    "    c = Value(10, label='c')\n",
    "    #a + b #internally a.__add__(b)\n",
    "    e=a*b; e.label = 'e'\n",
    "    #e.data += h\n",
    "    d=e + c; d.label = 'd'\n",
    "    f = Value(-2, label='f')\n",
    "    L = d * f; L.label='L' #overal output\n",
    "    L2  = L.data  #chsnge l W respect to L \n",
    "\n",
    "    print((L2 - L1)/h)"
   ]
  },
  {
   "cell_type": "code",
   "execution_count": 76,
   "id": "3c7cda8f-8028-4b37-bff6-a1d111ed6bd4",
   "metadata": {},
   "outputs": [
    {
     "name": "stdout",
     "output_type": "stream",
     "text": [
      "-3.9999999999995595\n"
     ]
    }
   ],
   "source": [
    "lol()"
   ]
  },
  {
   "cell_type": "code",
   "execution_count": 33,
   "id": "f5cae234-55c6-4033-999f-f1eaa45d2c74",
   "metadata": {},
   "outputs": [],
   "source": [
    "L.grad = 1.0"
   ]
  },
  {
   "cell_type": "code",
   "execution_count": null,
   "id": "03f8a006-a972-48a5-82ed-4bdea4663207",
   "metadata": {},
   "outputs": [],
   "source": []
  }
 ],
 "metadata": {
  "kernelspec": {
   "display_name": "Python 3 (ipykernel)",
   "language": "python",
   "name": "python3"
  },
  "language_info": {
   "codemirror_mode": {
    "name": "ipython",
    "version": 3
   },
   "file_extension": ".py",
   "mimetype": "text/x-python",
   "name": "python",
   "nbconvert_exporter": "python",
   "pygments_lexer": "ipython3",
   "version": "3.10.12"
  }
 },
 "nbformat": 4,
 "nbformat_minor": 5
}
