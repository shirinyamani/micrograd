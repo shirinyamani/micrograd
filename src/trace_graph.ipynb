{
 "cells": [
  {
   "cell_type": "code",
   "execution_count": 5,
   "id": "17be426f-f7d6-45ce-a748-d5e623d926d2",
   "metadata": {},
   "outputs": [],
   "source": [
    "import math\n",
    "import numpy as np\n",
    "import matplotlib.pyplot as plt\n",
    "%matplotlib inline\n",
    "from graphviz import Digraph\n",
    "import random"
   ]
  },
  {
   "cell_type": "markdown",
   "id": "4723aae7-7a2d-40b0-bf2a-fde976f0ffa0",
   "metadata": {},
   "source": [
    "## Let's be clear what is \"DERIVATIVE\" of one simple function with one input?"
   ]
  },
  {
   "cell_type": "code",
   "execution_count": 2,
   "id": "d68ed5f0-ad6b-4eca-baf5-3e93a49b06b6",
   "metadata": {},
   "outputs": [],
   "source": [
    "def f(x):\n",
    "    return 3*x**2 - 4*x + 5"
   ]
  },
  {
   "cell_type": "code",
   "execution_count": 3,
   "id": "69b25c77-3a3f-4e6a-aac5-245c9b9d66d6",
   "metadata": {},
   "outputs": [
    {
     "data": {
      "text/plain": [
       "20"
      ]
     },
     "execution_count": 3,
     "metadata": {},
     "output_type": "execute_result"
    }
   ],
   "source": [
    "f(3)"
   ]
  },
  {
   "cell_type": "code",
   "execution_count": 4,
   "id": "5f2f275e-0656-4b2c-9d3c-9f5f436f93e4",
   "metadata": {},
   "outputs": [
    {
     "data": {
      "text/plain": [
       "[<matplotlib.lines.Line2D at 0x11760f7c0>]"
      ]
     },
     "execution_count": 4,
     "metadata": {},
     "output_type": "execute_result"
    },
    {
     "data": {
      "image/png": "[encoded data removed]",
      "text/plain": [
       "<Figure size 640x480 with 1 Axes>"
      ]
     },
     "metadata": {},
     "output_type": "display_data"
    }
   ],
   "source": [
    "xs = np.arange(-5,5, 0.25) #from -5 t0 5 with step 0.5\n",
    "ys = f(xs)\n",
    "plt.plot(xs,ys)"
   ]
  },
  {
   "cell_type": "code",
   "execution_count": 5,
   "id": "cab1afb1-ce50-4d90-b5f9-a40296f38c56",
   "metadata": {},
   "outputs": [
    {
     "data": {
      "text/plain": [
       "array([100.    ,  91.6875,  83.75  ,  76.1875,  69.    ,  62.1875,\n",
       "        55.75  ,  49.6875,  44.    ,  38.6875,  33.75  ,  29.1875,\n",
       "        25.    ,  21.1875,  17.75  ,  14.6875,  12.    ,   9.6875,\n",
       "         7.75  ,   6.1875,   5.    ,   4.1875,   3.75  ,   3.6875,\n",
       "         4.    ,   4.6875,   5.75  ,   7.1875,   9.    ,  11.1875,\n",
       "        13.75  ,  16.6875,  20.    ,  23.6875,  27.75  ,  32.1875,\n",
       "        37.    ,  42.1875,  47.75  ,  53.6875])"
      ]
     },
     "execution_count": 5,
     "metadata": {},
     "output_type": "execute_result"
    }
   ],
   "source": [
    "ys"
   ]
  },
  {
   "cell_type": "code",
   "execution_count": 6,
   "id": "fd52bcbf-3ec4-4cbd-aadd-1bdddf022efa",
   "metadata": {
    "scrolled": true
   },
   "outputs": [
    {
     "data": {
      "text/plain": [
       "14.000003002223593"
      ]
     },
     "execution_count": 6,
     "metadata": {},
     "output_type": "execute_result"
    }
   ],
   "source": [
    "#definition of derivative\n",
    "h = 0.000001 #tent to zero by formula\n",
    "x = 3 #try -3, 2/3\n",
    "f(x)\n",
    "(f(x + h) - f(x)) / h"
   ]
  },
  {
   "cell_type": "code",
   "execution_count": 7,
   "id": "4aa29528-f4af-4b5d-a4a8-5ee340513a61",
   "metadata": {},
   "outputs": [
    {
     "name": "stdout",
     "output_type": "stream",
     "text": [
      "4\n"
     ]
    }
   ],
   "source": [
    "#lets get more complex function\n",
    "a = 2\n",
    "b = -3\n",
    "c = 10\n",
    "d = a*b + c\n",
    "print(d)"
   ]
  },
  {
   "cell_type": "code",
   "execution_count": 8,
   "id": "c80b82b5-bd02-4046-9a4e-19223cc28de9",
   "metadata": {},
   "outputs": [
    {
     "name": "stdout",
     "output_type": "stream",
     "text": [
      "d1 4\n",
      "d2 3.999699999999999\n",
      "actual slope -3.000000000010772\n"
     ]
    }
   ],
   "source": [
    "h = 0.0001\n",
    "\n",
    "#inputs\n",
    "a = 2\n",
    "b = -3\n",
    "c = 10\n",
    "\n",
    "d1 = a*b + c #initial \n",
    "a += h #bumped a to a positive direction by a lil bit \n",
    "d2 = a*b + c #how its gonna effect \n",
    "\n",
    "\n",
    "\n",
    "print('d1', d1)\n",
    "print('d2', d2)\n",
    "print('actual slope', (d2-d1)/h)"
   ]
  },
  {
   "cell_type": "markdown",
   "id": "e6782227-80e1-4897-8862-6d7aa01c17fb",
   "metadata": {},
   "source": [
    "## Core \"Value\" object of Micrograd"
   ]
  },
  {
   "cell_type": "code",
   "execution_count": 19,
   "id": "a138a1ac-5f98-4e71-a4db-31e427b17fea",
   "metadata": {},
   "outputs": [],
   "source": [
    "class Value:\n",
    "    def __init__(self, data, _children=(), _op='', label=''): #children to kinda relate them to one another!\n",
    "        self.data = data\n",
    "        self._children = set(_children) #children for understanding the created value is from what, e.g. d is from addition of a,b\n",
    "        self._op = _op #from what operation \n",
    "        self.label = label #to create a label for the dat values\n",
    "        self.grad = 0.0 #initial set to zero, meaning slight change in the variables does not impact the loss function\n",
    "        self._backward = lambda: None #chain rule at each node empty by default bc of the some of the biases #for leaf node\n",
    "        \n",
    "    def __repr__(self):\n",
    "        return f\"Value(data={self.data})\"\n",
    "\n",
    "    def __add__(self, other):\n",
    "        other = other if isinstance(other,Value) else Value(other) #a+1\n",
    "        out = Value(self.data + other.data, (self, other), '+')\n",
    "        def _backward():\n",
    "            self.grad += 1.0 * out.grad #local der * global der (der of final w respect to that data)\n",
    "            other.grad += 1.0 * out.grad #copied\n",
    "        out._backward = _backward\n",
    "        return out\n",
    "\n",
    "\n",
    "\n",
    "    def __pow__(self, other):\n",
    "        assert isinstance(other, (int,float)), \"inly supporting int/float powers\"\n",
    "        out = Value(self.data**other, (self, ), f'**{other}')\n",
    "        \n",
    "        def _backward():\n",
    "            self.grad +=  other * (self.data **(other-1)) * out.grad \n",
    "            \n",
    "        out._backward = _backward\n",
    "\n",
    "        return out\n",
    "        \n",
    "    def __mul__(self, other, _op='*'):\n",
    "        other = other if isinstance(other, Value) else Value(other) #aa*2\n",
    "        out = Value(self.data * other.data, (self,other), '*')\n",
    "        def _backward():\n",
    "            self.grad +=  other.data * out.grad #local der * global der (der of final w respect to that data)\n",
    "            other.grad += self.data * out.grad # we wanna chain the out.grad into other.grad \n",
    "            \n",
    "        out._backward = _backward\n",
    "\n",
    "        return out\n",
    "\n",
    "    def __rmul__(self, other): #2 * a == a * 2 (a.__mul__(2)):\n",
    "        return self * other \n",
    "\n",
    "\n",
    "    def __truediv__(self, other): #self / other\n",
    "        return self * other**-1\n",
    "\n",
    "    def __neg__(self): #-self\n",
    "        return self * -1\n",
    "\n",
    "    def __sub__(self, other): # self - other\n",
    "        return self + (-other)\n",
    "\n",
    "    \n",
    "    def exp(self):\n",
    "        x = self.data\n",
    "        out = Value(math.exp(x), (self,),'exp')\n",
    "\n",
    "        def _backward():\n",
    "            self.grad +=  out.data * out.grad #deriv e*x is e*x that we already calculated inside the out \n",
    "        out._backward = _backward\n",
    "\n",
    "        return out\n",
    "\n",
    "    \n",
    "    def tanh(self): #dont need atomic function of, up to us how complicated \n",
    "        x = self.data\n",
    "        t = (math.exp(2*x)-1)/ (math.exp(2*x)+1)\n",
    "        out = Value(t, (self, ),'tanh') #tuple is the children of this node \n",
    "\n",
    "        def _backward():\n",
    "            self.grad += (1-t**2) * out.grad\n",
    "        out._backward = _backward\n",
    "        return out\n",
    "\n",
    "\n",
    "    def backward(self):\n",
    "        topo = []\n",
    "        visited = set()\n",
    "        def build_topo(v):\n",
    "            if v not in visited:\n",
    "                visited.add(v) #mark as visied \n",
    "                for child in v._children:\n",
    "                    build_topo(child)\n",
    "                topo.append(v) #after all children are processed go and add yourself \n",
    "        build_topo(self)\n",
    "\n",
    "        self.grad = 1.0\n",
    "        for node in reversed(topo):\n",
    "            node._backward()\n"
   ]
  },
  {
   "cell_type": "code",
   "execution_count": 1,
   "id": "2cff2aa5-7ec1-4c03-b90e-a229f1744034",
   "metadata": {},
   "outputs": [],
   "source": [
    "\n",
    "class Value:\n",
    "    \"\"\" stores a single scalar value and its gradient \"\"\"\n",
    "\n",
    "    def __init__(self, data, _children=(), _op='', label=''):\n",
    "        self.data = data\n",
    "        self.grad = 0\n",
    "        self.label = label\n",
    "        # internal variables used for autograd graph construction\n",
    "        self._backward = lambda: None\n",
    "        self._prev = set(_children)\n",
    "        self._op = _op # the op that produced this node, for graphviz / debugging / etc\n",
    "\n",
    "    def __add__(self, other):\n",
    "        other = other if isinstance(other, Value) else Value(other)\n",
    "        out = Value(self.data + other.data, (self, other), '+')\n",
    "\n",
    "        def _backward():\n",
    "            self.grad += out.grad\n",
    "            other.grad += out.grad\n",
    "        out._backward = _backward\n",
    "\n",
    "        return out\n",
    "\n",
    "    def __mul__(self, other):\n",
    "        other = other if isinstance(other, Value) else Value(other)\n",
    "        out = Value(self.data * other.data, (self, other), '*')\n",
    "\n",
    "        def _backward():\n",
    "            self.grad += other.data * out.grad\n",
    "            other.grad += self.data * out.grad\n",
    "        out._backward = _backward\n",
    "\n",
    "        return out\n",
    "\n",
    "    def __pow__(self, other):\n",
    "        assert isinstance(other, (int, float)), \"only supporting int/float powers for now\"\n",
    "        out = Value(self.data**other, (self,), f'**{other}')\n",
    "\n",
    "        def _backward():\n",
    "            self.grad += (other * self.data**(other-1)) * out.grad\n",
    "        out._backward = _backward\n",
    "\n",
    "        return out\n",
    "\n",
    "    def tanh(self): #dont need atomic function of, up to us how complicated \n",
    "        x = self.data\n",
    "        t = (math.exp(2*x)-1)/ (math.exp(2*x)+1)\n",
    "        out = Value(t, (self, ),'tanh') #tuple is the children of this node \n",
    "\n",
    "        def _backward():\n",
    "            self.grad += (1-t**2) * out.grad\n",
    "        out._backward = _backward\n",
    "        return out\n",
    "\n",
    "\n",
    "    def backward(self):\n",
    "\n",
    "        # topological order all of the children in the graph\n",
    "        topo = []\n",
    "        visited = set()\n",
    "        def build_topo(v):\n",
    "            if v not in visited:\n",
    "                visited.add(v)\n",
    "                for child in v._prev:\n",
    "                    build_topo(child)\n",
    "                topo.append(v)\n",
    "        build_topo(self)\n",
    "\n",
    "        # go one variable at a time and apply the chain rule to get its gradient\n",
    "        self.grad = 1\n",
    "        for v in reversed(topo):\n",
    "            v._backward()\n",
    "\n",
    "    def __neg__(self): # -self\n",
    "        return self * -1\n",
    "\n",
    "    def __radd__(self, other): # other + self\n",
    "        return self + other\n",
    "\n",
    "    def __sub__(self, other): # self - other\n",
    "        return self + (-other)\n",
    "\n",
    "    def __rsub__(self, other): # other - self\n",
    "        return other + (-self)\n",
    "\n",
    "    def __rmul__(self, other): # other * self\n",
    "        return self * other\n",
    "\n",
    "    def __truediv__(self, other): # self / other\n",
    "        return self * other**-1\n",
    "\n",
    "    def __rtruediv__(self, other): # other / self\n",
    "        return other * self**-1\n",
    "\n",
    "    def __repr__(self):\n",
    "        return f\"Value(data={self.data}, grad={self.grad})\""
   ]
  },
  {
   "cell_type": "code",
   "execution_count": 10,
   "id": "f11b5e4a-25b0-4786-9181-3454e0535f42",
   "metadata": {},
   "outputs": [
    {
     "data": {
      "text/plain": [
       "Value(data=-2)"
      ]
     },
     "execution_count": 10,
     "metadata": {},
     "output_type": "execute_result"
    }
   ],
   "source": [
    "a= Value(2)\n",
    "b = Value(4)\n",
    "a / b\n",
    "a - b"
   ]
  },
  {
   "cell_type": "code",
   "execution_count": 90,
   "id": "5621c441-8318-4367-a3dd-ab9e15e70b7a",
   "metadata": {},
   "outputs": [],
   "source": [
    "obj1 = Value(3)\n",
    "a = Value(2, label= 'a')\n",
    "b = Value(-3, label='b')\n",
    "c = Value(10, label='c')\n",
    "#a + b #internally a.__add__(b)\n",
    "e=a*b; e.label = 'e'\n",
    "d=e + c; d.label = 'd'\n",
    "f = Value(-2, label='f')\n",
    "L = d * f; L.label='L' #overal output"
   ]
  },
  {
   "cell_type": "code",
   "execution_count": 12,
   "id": "2f1c86a4-19dd-40fd-9d78-ba395b35ba44",
   "metadata": {},
   "outputs": [
    {
     "data": {
      "text/plain": [
       "{Value(data=-6), Value(data=10)}"
      ]
     },
     "execution_count": 12,
     "metadata": {},
     "output_type": "execute_result"
    }
   ],
   "source": [
    "d._children"
   ]
  },
  {
   "cell_type": "code",
   "execution_count": 13,
   "id": "3ff9508c-8a97-46d5-b21a-d5d1e6da79b2",
   "metadata": {},
   "outputs": [
    {
     "data": {
      "text/plain": [
       "'+'"
      ]
     },
     "execution_count": 13,
     "metadata": {},
     "output_type": "execute_result"
    }
   ],
   "source": [
    "d._op"
   ]
  },
  {
   "cell_type": "markdown",
   "id": "4759ef18-0310-4d83-bd3b-16a8733b4369",
   "metadata": {},
   "source": [
    "## Graphical visualization "
   ]
  },
  {
   "cell_type": "code",
   "execution_count": 2,
   "id": "b0d4191b-cb00-4f2d-a228-5bfc2eacc006",
   "metadata": {},
   "outputs": [],
   "source": [
    "#visualualize in graph\n",
    "#trace is building the graph\n",
    "def trace(root):\n",
    "    #build a set of all nodes and edges in a graph\n",
    "    nodes, edges = set(), set()\n",
    "    def build_graph(v):\n",
    "        if v not in nodes:\n",
    "            nodes.add(v)\n",
    "            for child in v._prev:\n",
    "                edges.add((child, v))\n",
    "                build_graph(child)\n",
    "    build_graph(root)\n",
    "    return nodes, edges\n",
    "\n",
    "def draw_dot(root):\n",
    "    dot = Digraph(format= 'svg', graph_attr={'rankdir':'LR'})\n",
    "    nodes, edges = trace(root)\n",
    "\n",
    "    for n in nodes:\n",
    "        #for any value in graph, create a rectangular ('record') for it \n",
    "        dot.node(name=str(id(n)), label=\"{%s | data %.3f | grad %.3f}\" % (n.label, n.data, n.grad), shape='record') #label = {%s | data %.4f | grad%.4f}\" % (n.label, n.data)\n",
    "        if n._op:\n",
    "            #if this value is a result of an +/* operation, create an op node for it \n",
    "            dot.node(str(id(n)) + n._op, label = n._op)\n",
    "            #connect it to the corresponding node \n",
    "            dot.edge(str(id(n)) + n._op, str(id(n)))\n",
    "\n",
    "    for n1, n2 in edges:\n",
    "        #connect n1 to the op node of n2\n",
    "        dot.edge(str(id(n1)),str(id(n2)) + n2._op)\n",
    "    return dot    "
   ]
  },
  {
   "cell_type": "code",
   "execution_count": 91,
   "id": "dd917c08-093e-4907-89e4-618f6cbc27d8",
   "metadata": {},
   "outputs": [
    {
     "data": {
      "image/svg+xml": [
       "<?xml version=\"1.0\" encoding=\"UTF-8\" standalone=\"no\"?>\n",
       "<!DOCTYPE svg PUBLIC \"-//W3C//DTD SVG 1.1//EN\"\n",
       " \"http://www.w3.org/Graphics/SVG/1.1/DTD/svg11.dtd\">\n",
       "<!-- Generated by graphviz version 9.0.0 (20230911.1827)\n",
       " -->\n",
       "<!-- Pages: 1 -->\n",
       "<svg width=\"1086pt\" height=\"154pt\"\n",
       " viewBox=\"0.00 0.00 1085.75 154.00\" xmlns=\"http://www.w3.org/2000/svg\" xmlns:xlink=\"http://www.w3.org/1999/xlink\">\n",
       "<g id=\"graph0\" class=\"graph\" transform=\"scale(1 1) rotate(0) translate(4 150)\">\n",
       "<polygon fill=\"white\" stroke=\"none\" points=\"-4,4 -4,-150 1081.75,-150 1081.75,4 -4,4\"/>\n",
       "<!-- 4684899488 -->\n",
       "<g id=\"node1\" class=\"node\">\n",
       "<title>4684899488</title>\n",
       "<polygon fill=\"none\" stroke=\"black\" points=\"301.88,-27.5 301.88,-63.5 475.88,-63.5 475.88,-27.5 301.88,-27.5\"/>\n",
       "<text text-anchor=\"middle\" x=\"312.88\" y=\"-40.7\" font-family=\"Times,serif\" font-size=\"14.00\">e</text>\n",
       "<polyline fill=\"none\" stroke=\"black\" points=\"323.88,-28 323.88,-63.5\"/>\n",
       "<text text-anchor=\"middle\" x=\"362.62\" y=\"-40.7\" font-family=\"Times,serif\" font-size=\"14.00\">data &#45;6.000</text>\n",
       "<polyline fill=\"none\" stroke=\"black\" points=\"401.38,-28 401.38,-63.5\"/>\n",
       "<text text-anchor=\"middle\" x=\"438.62\" y=\"-40.7\" font-family=\"Times,serif\" font-size=\"14.00\">grad 0.000</text>\n",
       "</g>\n",
       "<!-- 4684902224+ -->\n",
       "<g id=\"node8\" class=\"node\">\n",
       "<title>4684902224+</title>\n",
       "<ellipse fill=\"none\" stroke=\"black\" cx=\"540\" cy=\"-72.5\" rx=\"27\" ry=\"18\"/>\n",
       "<text text-anchor=\"middle\" x=\"540\" y=\"-67.45\" font-family=\"Times,serif\" font-size=\"14.00\">+</text>\n",
       "</g>\n",
       "<!-- 4684899488&#45;&gt;4684902224+ -->\n",
       "<g id=\"edge4\" class=\"edge\">\n",
       "<title>4684899488&#45;&gt;4684902224+</title>\n",
       "<path fill=\"none\" stroke=\"black\" d=\"M476.19,-61.13C485.36,-62.79 494.3,-64.41 502.41,-65.87\"/>\n",
       "<polygon fill=\"black\" stroke=\"black\" points=\"501.69,-69.3 512.15,-67.64 502.94,-62.41 501.69,-69.3\"/>\n",
       "</g>\n",
       "<!-- 4684899488* -->\n",
       "<g id=\"node2\" class=\"node\">\n",
       "<title>4684899488*</title>\n",
       "<ellipse fill=\"none\" stroke=\"black\" cx=\"237.75\" cy=\"-45.5\" rx=\"27\" ry=\"18\"/>\n",
       "<text text-anchor=\"middle\" x=\"237.75\" y=\"-40.45\" font-family=\"Times,serif\" font-size=\"14.00\">*</text>\n",
       "</g>\n",
       "<!-- 4684899488*&#45;&gt;4684899488 -->\n",
       "<g id=\"edge1\" class=\"edge\">\n",
       "<title>4684899488*&#45;&gt;4684899488</title>\n",
       "<path fill=\"none\" stroke=\"black\" d=\"M265.07,-45.5C272.56,-45.5 281.19,-45.5 290.32,-45.5\"/>\n",
       "<polygon fill=\"black\" stroke=\"black\" points=\"290.17,-49 300.17,-45.5 290.17,-42 290.17,-49\"/>\n",
       "</g>\n",
       "<!-- 4684896416 -->\n",
       "<g id=\"node3\" class=\"node\">\n",
       "<title>4684896416</title>\n",
       "<polygon fill=\"none\" stroke=\"black\" points=\"300.75,-82.5 300.75,-118.5 477,-118.5 477,-82.5 300.75,-82.5\"/>\n",
       "<text text-anchor=\"middle\" x=\"311.75\" y=\"-95.7\" font-family=\"Times,serif\" font-size=\"14.00\">c</text>\n",
       "<polyline fill=\"none\" stroke=\"black\" points=\"322.75,-83 322.75,-118.5\"/>\n",
       "<text text-anchor=\"middle\" x=\"362.62\" y=\"-95.7\" font-family=\"Times,serif\" font-size=\"14.00\">data 10.000</text>\n",
       "<polyline fill=\"none\" stroke=\"black\" points=\"402.5,-83 402.5,-118.5\"/>\n",
       "<text text-anchor=\"middle\" x=\"439.75\" y=\"-95.7\" font-family=\"Times,serif\" font-size=\"14.00\">grad 0.000</text>\n",
       "</g>\n",
       "<!-- 4684896416&#45;&gt;4684902224+ -->\n",
       "<g id=\"edge5\" class=\"edge\">\n",
       "<title>4684896416&#45;&gt;4684902224+</title>\n",
       "<path fill=\"none\" stroke=\"black\" d=\"M477.48,-84.05C486.24,-82.41 494.75,-80.81 502.51,-79.35\"/>\n",
       "<polygon fill=\"black\" stroke=\"black\" points=\"502.97,-82.83 512.15,-77.54 501.68,-75.95 502.97,-82.83\"/>\n",
       "</g>\n",
       "<!-- 4684893968 -->\n",
       "<g id=\"node4\" class=\"node\">\n",
       "<title>4684893968</title>\n",
       "<polygon fill=\"none\" stroke=\"black\" points=\"901.5,-81.5 901.5,-117.5 1077.75,-117.5 1077.75,-81.5 901.5,-81.5\"/>\n",
       "<text text-anchor=\"middle\" x=\"913.62\" y=\"-94.7\" font-family=\"Times,serif\" font-size=\"14.00\">L</text>\n",
       "<polyline fill=\"none\" stroke=\"black\" points=\"925.75,-82 925.75,-117.5\"/>\n",
       "<text text-anchor=\"middle\" x=\"964.5\" y=\"-94.7\" font-family=\"Times,serif\" font-size=\"14.00\">data &#45;8.000</text>\n",
       "<polyline fill=\"none\" stroke=\"black\" points=\"1003.25,-82 1003.25,-117.5\"/>\n",
       "<text text-anchor=\"middle\" x=\"1040.5\" y=\"-94.7\" font-family=\"Times,serif\" font-size=\"14.00\">grad 0.000</text>\n",
       "</g>\n",
       "<!-- 4684893968* -->\n",
       "<g id=\"node5\" class=\"node\">\n",
       "<title>4684893968*</title>\n",
       "<ellipse fill=\"none\" stroke=\"black\" cx=\"838.5\" cy=\"-99.5\" rx=\"27\" ry=\"18\"/>\n",
       "<text text-anchor=\"middle\" x=\"838.5\" y=\"-94.45\" font-family=\"Times,serif\" font-size=\"14.00\">*</text>\n",
       "</g>\n",
       "<!-- 4684893968*&#45;&gt;4684893968 -->\n",
       "<g id=\"edge2\" class=\"edge\">\n",
       "<title>4684893968*&#45;&gt;4684893968</title>\n",
       "<path fill=\"none\" stroke=\"black\" d=\"M865.82,-99.5C872.99,-99.5 881.21,-99.5 889.92,-99.5\"/>\n",
       "<polygon fill=\"black\" stroke=\"black\" points=\"889.66,-103 899.66,-99.5 889.66,-96 889.66,-103\"/>\n",
       "</g>\n",
       "<!-- 4684898624 -->\n",
       "<g id=\"node6\" class=\"node\">\n",
       "<title>4684898624</title>\n",
       "<polygon fill=\"none\" stroke=\"black\" points=\"2.62,-55.5 2.62,-91.5 172.12,-91.5 172.12,-55.5 2.62,-55.5\"/>\n",
       "<text text-anchor=\"middle\" x=\"13.62\" y=\"-68.7\" font-family=\"Times,serif\" font-size=\"14.00\">a</text>\n",
       "<polyline fill=\"none\" stroke=\"black\" points=\"24.62,-56 24.62,-91.5\"/>\n",
       "<text text-anchor=\"middle\" x=\"61.12\" y=\"-68.7\" font-family=\"Times,serif\" font-size=\"14.00\">data 2.000</text>\n",
       "<polyline fill=\"none\" stroke=\"black\" points=\"97.62,-56 97.62,-91.5\"/>\n",
       "<text text-anchor=\"middle\" x=\"134.88\" y=\"-68.7\" font-family=\"Times,serif\" font-size=\"14.00\">grad 0.000</text>\n",
       "</g>\n",
       "<!-- 4684898624&#45;&gt;4684899488* -->\n",
       "<g id=\"edge8\" class=\"edge\">\n",
       "<title>4684898624&#45;&gt;4684899488*</title>\n",
       "<path fill=\"none\" stroke=\"black\" d=\"M172.53,-57.62C182.25,-55.79 191.73,-54 200.29,-52.38\"/>\n",
       "<polygon fill=\"black\" stroke=\"black\" points=\"200.68,-55.87 209.86,-50.58 199.38,-48.99 200.68,-55.87\"/>\n",
       "</g>\n",
       "<!-- 4684902224 -->\n",
       "<g id=\"node7\" class=\"node\">\n",
       "<title>4684902224</title>\n",
       "<polygon fill=\"none\" stroke=\"black\" points=\"604.12,-54.5 604.12,-90.5 774.38,-90.5 774.38,-54.5 604.12,-54.5\"/>\n",
       "<text text-anchor=\"middle\" x=\"615.5\" y=\"-67.7\" font-family=\"Times,serif\" font-size=\"14.00\">d</text>\n",
       "<polyline fill=\"none\" stroke=\"black\" points=\"626.88,-55 626.88,-90.5\"/>\n",
       "<text text-anchor=\"middle\" x=\"663.38\" y=\"-67.7\" font-family=\"Times,serif\" font-size=\"14.00\">data 4.000</text>\n",
       "<polyline fill=\"none\" stroke=\"black\" points=\"699.88,-55 699.88,-90.5\"/>\n",
       "<text text-anchor=\"middle\" x=\"737.12\" y=\"-67.7\" font-family=\"Times,serif\" font-size=\"14.00\">grad 0.000</text>\n",
       "</g>\n",
       "<!-- 4684902224&#45;&gt;4684893968* -->\n",
       "<g id=\"edge9\" class=\"edge\">\n",
       "<title>4684902224&#45;&gt;4684893968*</title>\n",
       "<path fill=\"none\" stroke=\"black\" d=\"M774.63,-87.97C783.78,-89.65 792.7,-91.29 800.82,-92.77\"/>\n",
       "<polygon fill=\"black\" stroke=\"black\" points=\"800.11,-96.2 810.58,-94.56 801.38,-89.32 800.11,-96.2\"/>\n",
       "</g>\n",
       "<!-- 4684902224+&#45;&gt;4684902224 -->\n",
       "<g id=\"edge3\" class=\"edge\">\n",
       "<title>4684902224+&#45;&gt;4684902224</title>\n",
       "<path fill=\"none\" stroke=\"black\" d=\"M567.33,-72.5C574.79,-72.5 583.39,-72.5 592.48,-72.5\"/>\n",
       "<polygon fill=\"black\" stroke=\"black\" points=\"592.26,-76 602.26,-72.5 592.26,-69 592.26,-76\"/>\n",
       "</g>\n",
       "<!-- 4684902320 -->\n",
       "<g id=\"node9\" class=\"node\">\n",
       "<title>4684902320</title>\n",
       "<polygon fill=\"none\" stroke=\"black\" points=\"603,-109.5 603,-145.5 775.5,-145.5 775.5,-109.5 603,-109.5\"/>\n",
       "<text text-anchor=\"middle\" x=\"613.25\" y=\"-122.7\" font-family=\"Times,serif\" font-size=\"14.00\">f</text>\n",
       "<polyline fill=\"none\" stroke=\"black\" points=\"623.5,-110 623.5,-145.5\"/>\n",
       "<text text-anchor=\"middle\" x=\"662.25\" y=\"-122.7\" font-family=\"Times,serif\" font-size=\"14.00\">data &#45;2.000</text>\n",
       "<polyline fill=\"none\" stroke=\"black\" points=\"701,-110 701,-145.5\"/>\n",
       "<text text-anchor=\"middle\" x=\"738.25\" y=\"-122.7\" font-family=\"Times,serif\" font-size=\"14.00\">grad 0.000</text>\n",
       "</g>\n",
       "<!-- 4684902320&#45;&gt;4684893968* -->\n",
       "<g id=\"edge7\" class=\"edge\">\n",
       "<title>4684902320&#45;&gt;4684893968*</title>\n",
       "<path fill=\"none\" stroke=\"black\" d=\"M775.91,-111.21C784.65,-109.55 793.15,-107.93 800.92,-106.46\"/>\n",
       "<polygon fill=\"black\" stroke=\"black\" points=\"801.4,-109.93 810.57,-104.62 800.1,-103.05 801.4,-109.93\"/>\n",
       "</g>\n",
       "<!-- 4684904912 -->\n",
       "<g id=\"node10\" class=\"node\">\n",
       "<title>4684904912</title>\n",
       "<polygon fill=\"none\" stroke=\"black\" points=\"0,-0.5 0,-36.5 174.75,-36.5 174.75,-0.5 0,-0.5\"/>\n",
       "<text text-anchor=\"middle\" x=\"11.38\" y=\"-13.7\" font-family=\"Times,serif\" font-size=\"14.00\">b</text>\n",
       "<polyline fill=\"none\" stroke=\"black\" points=\"22.75,-1 22.75,-36.5\"/>\n",
       "<text text-anchor=\"middle\" x=\"61.5\" y=\"-13.7\" font-family=\"Times,serif\" font-size=\"14.00\">data &#45;3.000</text>\n",
       "<polyline fill=\"none\" stroke=\"black\" points=\"100.25,-1 100.25,-36.5\"/>\n",
       "<text text-anchor=\"middle\" x=\"137.5\" y=\"-13.7\" font-family=\"Times,serif\" font-size=\"14.00\">grad 0.000</text>\n",
       "</g>\n",
       "<!-- 4684904912&#45;&gt;4684899488* -->\n",
       "<g id=\"edge6\" class=\"edge\">\n",
       "<title>4684904912&#45;&gt;4684899488*</title>\n",
       "<path fill=\"none\" stroke=\"black\" d=\"M175.11,-34.28C183.87,-35.88 192.39,-37.43 200.16,-38.84\"/>\n",
       "<polygon fill=\"black\" stroke=\"black\" points=\"199.36,-42.25 209.83,-40.6 200.62,-35.37 199.36,-42.25\"/>\n",
       "</g>\n",
       "</g>\n",
       "</svg>\n"
      ],
      "text/plain": [
       "<graphviz.graphs.Digraph at 0x1173dc760>"
      ]
     },
     "execution_count": 91,
     "metadata": {},
     "output_type": "execute_result"
    }
   ],
   "source": [
    "draw_dot(L)"
   ]
  },
  {
   "cell_type": "markdown",
   "id": "3352d579-bdab-4987-a3d8-16f163d7a7d0",
   "metadata": {},
   "source": [
    "we know how d impact L, and we know how c impact d(dd/dc) (plus sign d = e + c), now we wanna know how c impact L!\n",
    "dd / dc=1\n",
    "dd/ de = 1 (local derivative bc this have no clue of the whole network derivative L that we know!)\n",
    "acheieved by Chain Rule\n",
    "d = e + c \n",
    "\n",
    "WANT:\n",
    "dL / dc = (dL/dd) * (dd/dc) second one is 1 bc of the plus sign so it sounds like it just passed it thro!\n",
    "\n",
    "KNOW:\n",
    "dL/dd\n",
    "dd / dc\n",
    "d = e + c\n",
    "\n",
    "\n",
    "\n",
    "L = d * f\n",
    "dl/dd = ? f\n",
    "\n",
    "dL/dc\n"
   ]
  },
  {
   "cell_type": "code",
   "execution_count": 59,
   "id": "6c6c4321-eb04-4138-87b9-b9998edd7d2f",
   "metadata": {},
   "outputs": [],
   "source": [
    "c.grad = -2\n",
    "e.grad = -2\n",
    "\n",
    "\n",
    "d.grad = -2\n",
    "f.grad = 4"
   ]
  },
  {
   "cell_type": "markdown",
   "id": "5628544a-296e-48c6-b9f7-b11ad6b2e684",
   "metadata": {},
   "source": [
    "again for a , b\n",
    "\n",
    "dL / de = -2\n",
    "e = a * b\n",
    "\n",
    "dL / da = (dL/de) * (de/da) = -2 * b = -2 * -3 = 6"
   ]
  },
  {
   "cell_type": "code",
   "execution_count": 72,
   "id": "a6b52362-0134-44cc-a168-eaffedc2e7b6",
   "metadata": {},
   "outputs": [],
   "source": [
    "a.grad = -2 * -3\n",
    "b.grad = -2 * 2"
   ]
  },
  {
   "cell_type": "markdown",
   "id": "e215b93b-f442-444c-9193-28c7bf74eec0",
   "metadata": {},
   "source": [
    "## Manual backpro; simple expression; exp1"
   ]
  },
  {
   "cell_type": "code",
   "execution_count": 75,
   "id": "5f2b6189-0fc8-4282-a661-35e6661a6f5b",
   "metadata": {},
   "outputs": [],
   "source": [
    "#what is the derivate of L with respect to L/ f to L\n",
    "#in other word if we change f a lil bit, how does it affect the l \n",
    "def lol():\n",
    "    h = 0.001\n",
    "    a = Value(2, label= 'a')\n",
    "    b = Value(-3, label='b')\n",
    "    c = Value(10, label='c')\n",
    "    #a + b #internally a.__add__(b)\n",
    "    e=a*b; e.label = 'e'\n",
    "    d=e + c; d.label = 'd'\n",
    "    f = Value(-2, label='f')\n",
    "    L = d * f; L.label='L' #overal output\n",
    "    L1 = L.data\n",
    "\n",
    "    a = Value(2, label= 'a') #2 +h change a w respect to a\n",
    "    #a.data += h\n",
    "    b = Value(-3, label='b')\n",
    "    b.data += h\n",
    "    c = Value(10, label='c')\n",
    "    #a + b #internally a.__add__(b)\n",
    "    e=a*b; e.label = 'e'\n",
    "    #e.data += h\n",
    "    d=e + c; d.label = 'd'\n",
    "    f = Value(-2, label='f')\n",
    "    L = d * f; L.label='L' #overal output\n",
    "    L2  = L.data  #chsnge l W respect to L \n",
    "\n",
    "    print((L2 - L1)/h)"
   ]
  },
  {
   "cell_type": "code",
   "execution_count": 76,
   "id": "3c7cda8f-8028-4b37-bff6-a1d111ed6bd4",
   "metadata": {},
   "outputs": [
    {
     "name": "stdout",
     "output_type": "stream",
     "text": [
      "-3.9999999999995595\n"
     ]
    }
   ],
   "source": [
    "lol()"
   ]
  },
  {
   "cell_type": "code",
   "execution_count": 33,
   "id": "f5cae234-55c6-4033-999f-f1eaa45d2c74",
   "metadata": {},
   "outputs": [],
   "source": [
    "L.grad = 1.0"
   ]
  },
  {
   "attachments": {
    "30df2597-7d50-446e-875b-0cdec4a73ec0.jpeg": {
     "image/jpeg": "[encoded data removed]"
    }
   },
   "cell_type": "markdown",
   "id": "e7b74db1-7c7b-448d-861d-fea81e13cead",
   "metadata": {},
   "source": [
    "## Manual backpro; simple expression; exp2; a Neuron\n",
    "![neuron_model.jpeg](attachment:30df2597-7d50-446e-875b-0cdec4a73ec0.jpeg)"
   ]
  },
  {
   "cell_type": "code",
   "execution_count": 80,
   "id": "d0e23bcb-83ac-4776-b88b-cd11cd22d70b",
   "metadata": {},
   "outputs": [
    {
     "data": {
      "image/png": "[encoded data removed]",
      "text/plain": [
       "<Figure size 640x480 with 1 Axes>"
      ]
     },
     "metadata": {},
     "output_type": "display_data"
    }
   ],
   "source": [
    "#bias innner triger happiness # f---> activation function kinda likea squating function \n",
    "plt.plot(np.arange(-5,5,0.2), np.tanh(np.arange(-5,5,0.2))) ; plt.grid()"
   ]
  },
  {
   "cell_type": "code",
   "execution_count": 17,
   "id": "2cc70911-359b-4e95-9354-572adb88ff40",
   "metadata": {},
   "outputs": [],
   "source": [
    "#inputs x1,x2\n",
    "x1 = Value(2, label='x1')\n",
    "x2 = Value(0.0, label='x2')\n",
    "\n",
    "#weights for inputs\n",
    "w1 = Value(-3.0, label='w1')\n",
    "w2 = Value(1.0, label='w2')\n",
    "\n",
    "#bias\n",
    "b = Value(6.88137358, label ='b')\n",
    "#according to model; x1*w1 + x2*w2 + b  ----> raw body without activation function \n",
    "x1w1 = x1*w1; x1w1.label = 'x1*w1'\n",
    "x2w2 = x2*w2; x2w2.label = 'x2*w2'\n",
    "x1w1x2w2 = x1w1 + x2w2; x1w1x2w2.label= 'w1*x1 + w2*x2'\n",
    "n = x1w1x2w2 + b; n.label = 'n' \n",
    "o = n.tanh(); o.label = 'o'\n",
    "o.backward()"
   ]
  },
  {
   "cell_type": "code",
   "execution_count": 18,
   "id": "6146ee03-c291-4c73-b40b-47b6e8c7a4f0",
   "metadata": {},
   "outputs": [
    {
     "data": {
      "image/svg+xml": [
       "<?xml version=\"1.0\" encoding=\"UTF-8\" standalone=\"no\"?>\n",
       "<!DOCTYPE svg PUBLIC \"-//W3C//DTD SVG 1.1//EN\"\n",
       " \"http://www.w3.org/Graphics/SVG/1.1/DTD/svg11.dtd\">\n",
       "<!-- Generated by graphviz version 9.0.0 (20230911.1827)\n",
       " -->\n",
       "<!-- Pages: 1 -->\n",
       "<svg width=\"1499pt\" height=\"210pt\"\n",
       " viewBox=\"0.00 0.00 1499.00 210.00\" xmlns=\"http://www.w3.org/2000/svg\" xmlns:xlink=\"http://www.w3.org/1999/xlink\">\n",
       "<g id=\"graph0\" class=\"graph\" transform=\"scale(1 1) rotate(0) translate(4 206)\">\n",
       "<polygon fill=\"white\" stroke=\"none\" points=\"-4,4 -4,-206 1495,-206 1495,4 -4,4\"/>\n",
       "<!-- 4688111136 -->\n",
       "<g id=\"node1\" class=\"node\">\n",
       "<title>4688111136</title>\n",
       "<polygon fill=\"none\" stroke=\"black\" points=\"312.75,-55.5 312.75,-91.5 513,-91.5 513,-55.5 312.75,-55.5\"/>\n",
       "<text text-anchor=\"middle\" x=\"339.12\" y=\"-68.7\" font-family=\"Times,serif\" font-size=\"14.00\">x2*w2</text>\n",
       "<polyline fill=\"none\" stroke=\"black\" points=\"365.5,-56 365.5,-91.5\"/>\n",
       "<text text-anchor=\"middle\" x=\"402\" y=\"-68.7\" font-family=\"Times,serif\" font-size=\"14.00\">data 0.000</text>\n",
       "<polyline fill=\"none\" stroke=\"black\" points=\"438.5,-56 438.5,-91.5\"/>\n",
       "<text text-anchor=\"middle\" x=\"475.75\" y=\"-68.7\" font-family=\"Times,serif\" font-size=\"14.00\">grad 0.500</text>\n",
       "</g>\n",
       "<!-- 4688113392+ -->\n",
       "<g id=\"node10\" class=\"node\">\n",
       "<title>4688113392+</title>\n",
       "<ellipse fill=\"none\" stroke=\"black\" cx=\"578.25\" cy=\"-100.5\" rx=\"27\" ry=\"18\"/>\n",
       "<text text-anchor=\"middle\" x=\"578.25\" y=\"-95.45\" font-family=\"Times,serif\" font-size=\"14.00\">+</text>\n",
       "</g>\n",
       "<!-- 4688111136&#45;&gt;4688113392+ -->\n",
       "<g id=\"edge7\" class=\"edge\">\n",
       "<title>4688111136&#45;&gt;4688113392+</title>\n",
       "<path fill=\"none\" stroke=\"black\" d=\"M513.15,-89.91C522.78,-91.5 532.06,-93.03 540.44,-94.42\"/>\n",
       "<polygon fill=\"black\" stroke=\"black\" points=\"539.68,-97.84 550.11,-96.02 540.82,-90.93 539.68,-97.84\"/>\n",
       "</g>\n",
       "<!-- 4688111136* -->\n",
       "<g id=\"node2\" class=\"node\">\n",
       "<title>4688111136*</title>\n",
       "<ellipse fill=\"none\" stroke=\"black\" cx=\"247.5\" cy=\"-73.5\" rx=\"27\" ry=\"18\"/>\n",
       "<text text-anchor=\"middle\" x=\"247.5\" y=\"-68.45\" font-family=\"Times,serif\" font-size=\"14.00\">*</text>\n",
       "</g>\n",
       "<!-- 4688111136*&#45;&gt;4688111136 -->\n",
       "<g id=\"edge1\" class=\"edge\">\n",
       "<title>4688111136*&#45;&gt;4688111136</title>\n",
       "<path fill=\"none\" stroke=\"black\" d=\"M274.75,-73.5C282.46,-73.5 291.43,-73.5 301.01,-73.5\"/>\n",
       "<polygon fill=\"black\" stroke=\"black\" points=\"300.99,-77 310.99,-73.5 300.99,-70 300.99,-77\"/>\n",
       "</g>\n",
       "<!-- 4356285984 -->\n",
       "<g id=\"node3\" class=\"node\">\n",
       "<title>4356285984</title>\n",
       "<polygon fill=\"none\" stroke=\"black\" points=\"0,-165.5 0,-201.5 184.5,-201.5 184.5,-165.5 0,-165.5\"/>\n",
       "<text text-anchor=\"middle\" x=\"16.25\" y=\"-178.7\" font-family=\"Times,serif\" font-size=\"14.00\">w1</text>\n",
       "<polyline fill=\"none\" stroke=\"black\" points=\"32.5,-166 32.5,-201.5\"/>\n",
       "<text text-anchor=\"middle\" x=\"71.25\" y=\"-178.7\" font-family=\"Times,serif\" font-size=\"14.00\">data &#45;3.000</text>\n",
       "<polyline fill=\"none\" stroke=\"black\" points=\"110,-166 110,-201.5\"/>\n",
       "<text text-anchor=\"middle\" x=\"147.25\" y=\"-178.7\" font-family=\"Times,serif\" font-size=\"14.00\">grad 1.000</text>\n",
       "</g>\n",
       "<!-- 4688115552* -->\n",
       "<g id=\"node15\" class=\"node\">\n",
       "<title>4688115552*</title>\n",
       "<ellipse fill=\"none\" stroke=\"black\" cx=\"247.5\" cy=\"-128.5\" rx=\"27\" ry=\"18\"/>\n",
       "<text text-anchor=\"middle\" x=\"247.5\" y=\"-123.45\" font-family=\"Times,serif\" font-size=\"14.00\">*</text>\n",
       "</g>\n",
       "<!-- 4356285984&#45;&gt;4688115552* -->\n",
       "<g id=\"edge9\" class=\"edge\">\n",
       "<title>4356285984&#45;&gt;4688115552*</title>\n",
       "<path fill=\"none\" stroke=\"black\" d=\"M159.39,-165.09C167.9,-162.39 176.45,-159.49 184.5,-156.5 194.47,-152.79 205.11,-148.23 214.7,-143.87\"/>\n",
       "<polygon fill=\"black\" stroke=\"black\" points=\"216.03,-147.11 223.62,-139.72 213.08,-140.76 216.03,-147.11\"/>\n",
       "</g>\n",
       "<!-- 4356287040 -->\n",
       "<g id=\"node4\" class=\"node\">\n",
       "<title>4356287040</title>\n",
       "<polygon fill=\"none\" stroke=\"black\" points=\"1.5,-110.5 1.5,-146.5 183,-146.5 183,-110.5 1.5,-110.5\"/>\n",
       "<text text-anchor=\"middle\" x=\"16.25\" y=\"-123.7\" font-family=\"Times,serif\" font-size=\"14.00\">x1</text>\n",
       "<polyline fill=\"none\" stroke=\"black\" points=\"31,-111 31,-146.5\"/>\n",
       "<text text-anchor=\"middle\" x=\"67.5\" y=\"-123.7\" font-family=\"Times,serif\" font-size=\"14.00\">data 2.000</text>\n",
       "<polyline fill=\"none\" stroke=\"black\" points=\"104,-111 104,-146.5\"/>\n",
       "<text text-anchor=\"middle\" x=\"143.5\" y=\"-123.7\" font-family=\"Times,serif\" font-size=\"14.00\">grad &#45;1.500</text>\n",
       "</g>\n",
       "<!-- 4356287040&#45;&gt;4688115552* -->\n",
       "<g id=\"edge8\" class=\"edge\">\n",
       "<title>4356287040&#45;&gt;4688115552*</title>\n",
       "<path fill=\"none\" stroke=\"black\" d=\"M183.28,-128.5C192.2,-128.5 200.86,-128.5 208.77,-128.5\"/>\n",
       "<polygon fill=\"black\" stroke=\"black\" points=\"208.62,-132 218.62,-128.5 208.62,-125 208.62,-132\"/>\n",
       "</g>\n",
       "<!-- 4356287088 -->\n",
       "<g id=\"node5\" class=\"node\">\n",
       "<title>4356287088</title>\n",
       "<polygon fill=\"none\" stroke=\"black\" points=\"2.25,-55.5 2.25,-91.5 182.25,-91.5 182.25,-55.5 2.25,-55.5\"/>\n",
       "<text text-anchor=\"middle\" x=\"18.5\" y=\"-68.7\" font-family=\"Times,serif\" font-size=\"14.00\">w2</text>\n",
       "<polyline fill=\"none\" stroke=\"black\" points=\"34.75,-56 34.75,-91.5\"/>\n",
       "<text text-anchor=\"middle\" x=\"71.25\" y=\"-68.7\" font-family=\"Times,serif\" font-size=\"14.00\">data 1.000</text>\n",
       "<polyline fill=\"none\" stroke=\"black\" points=\"107.75,-56 107.75,-91.5\"/>\n",
       "<text text-anchor=\"middle\" x=\"145\" y=\"-68.7\" font-family=\"Times,serif\" font-size=\"14.00\">grad 0.000</text>\n",
       "</g>\n",
       "<!-- 4356287088&#45;&gt;4688111136* -->\n",
       "<g id=\"edge6\" class=\"edge\">\n",
       "<title>4356287088&#45;&gt;4688111136*</title>\n",
       "<path fill=\"none\" stroke=\"black\" d=\"M182.4,-73.5C191.6,-73.5 200.55,-73.5 208.71,-73.5\"/>\n",
       "<polygon fill=\"black\" stroke=\"black\" points=\"208.51,-77 218.51,-73.5 208.51,-70 208.51,-77\"/>\n",
       "</g>\n",
       "<!-- 4688113296 -->\n",
       "<g id=\"node6\" class=\"node\">\n",
       "<title>4688113296</title>\n",
       "<polygon fill=\"none\" stroke=\"black\" points=\"1024.5,-109.5 1024.5,-145.5 1194.75,-145.5 1194.75,-109.5 1024.5,-109.5\"/>\n",
       "<text text-anchor=\"middle\" x=\"1035.88\" y=\"-122.7\" font-family=\"Times,serif\" font-size=\"14.00\">n</text>\n",
       "<polyline fill=\"none\" stroke=\"black\" points=\"1047.25,-110 1047.25,-145.5\"/>\n",
       "<text text-anchor=\"middle\" x=\"1083.75\" y=\"-122.7\" font-family=\"Times,serif\" font-size=\"14.00\">data 0.881</text>\n",
       "<polyline fill=\"none\" stroke=\"black\" points=\"1120.25,-110 1120.25,-145.5\"/>\n",
       "<text text-anchor=\"middle\" x=\"1157.5\" y=\"-122.7\" font-family=\"Times,serif\" font-size=\"14.00\">grad 0.500</text>\n",
       "</g>\n",
       "<!-- 4688115024tanh -->\n",
       "<g id=\"node13\" class=\"node\">\n",
       "<title>4688115024tanh</title>\n",
       "<ellipse fill=\"none\" stroke=\"black\" cx=\"1257.75\" cy=\"-127.5\" rx=\"27\" ry=\"18\"/>\n",
       "<text text-anchor=\"middle\" x=\"1257.75\" y=\"-122.45\" font-family=\"Times,serif\" font-size=\"14.00\">tanh</text>\n",
       "</g>\n",
       "<!-- 4688113296&#45;&gt;4688115024tanh -->\n",
       "<g id=\"edge12\" class=\"edge\">\n",
       "<title>4688113296&#45;&gt;4688115024tanh</title>\n",
       "<path fill=\"none\" stroke=\"black\" d=\"M1195.2,-127.5C1203.47,-127.5 1211.54,-127.5 1218.96,-127.5\"/>\n",
       "<polygon fill=\"black\" stroke=\"black\" points=\"1218.89,-131 1228.89,-127.5 1218.89,-124 1218.89,-131\"/>\n",
       "</g>\n",
       "<!-- 4688113296+ -->\n",
       "<g id=\"node7\" class=\"node\">\n",
       "<title>4688113296+</title>\n",
       "<ellipse fill=\"none\" stroke=\"black\" cx=\"961.5\" cy=\"-127.5\" rx=\"27\" ry=\"18\"/>\n",
       "<text text-anchor=\"middle\" x=\"961.5\" y=\"-122.45\" font-family=\"Times,serif\" font-size=\"14.00\">+</text>\n",
       "</g>\n",
       "<!-- 4688113296+&#45;&gt;4688113296 -->\n",
       "<g id=\"edge2\" class=\"edge\">\n",
       "<title>4688113296+&#45;&gt;4688113296</title>\n",
       "<path fill=\"none\" stroke=\"black\" d=\"M988.96,-127.5C996.05,-127.5 1004.15,-127.5 1012.71,-127.5\"/>\n",
       "<polygon fill=\"black\" stroke=\"black\" points=\"1012.68,-131 1022.68,-127.5 1012.68,-124 1012.68,-131\"/>\n",
       "</g>\n",
       "<!-- 4356278928 -->\n",
       "<g id=\"node8\" class=\"node\">\n",
       "<title>4356278928</title>\n",
       "<polygon fill=\"none\" stroke=\"black\" points=\"684.75,-137.5 684.75,-173.5 855,-173.5 855,-137.5 684.75,-137.5\"/>\n",
       "<text text-anchor=\"middle\" x=\"696.12\" y=\"-150.7\" font-family=\"Times,serif\" font-size=\"14.00\">b</text>\n",
       "<polyline fill=\"none\" stroke=\"black\" points=\"707.5,-138 707.5,-173.5\"/>\n",
       "<text text-anchor=\"middle\" x=\"744\" y=\"-150.7\" font-family=\"Times,serif\" font-size=\"14.00\">data 6.881</text>\n",
       "<polyline fill=\"none\" stroke=\"black\" points=\"780.5,-138 780.5,-173.5\"/>\n",
       "<text text-anchor=\"middle\" x=\"817.75\" y=\"-150.7\" font-family=\"Times,serif\" font-size=\"14.00\">grad 0.500</text>\n",
       "</g>\n",
       "<!-- 4356278928&#45;&gt;4688113296+ -->\n",
       "<g id=\"edge10\" class=\"edge\">\n",
       "<title>4356278928&#45;&gt;4688113296+</title>\n",
       "<path fill=\"none\" stroke=\"black\" d=\"M855.43,-143.01C879.42,-139.47 904.3,-135.8 923.83,-132.91\"/>\n",
       "<polygon fill=\"black\" stroke=\"black\" points=\"924.07,-136.42 933.45,-131.49 923.05,-129.49 924.07,-136.42\"/>\n",
       "</g>\n",
       "<!-- 4688113392 -->\n",
       "<g id=\"node9\" class=\"node\">\n",
       "<title>4688113392</title>\n",
       "<polygon fill=\"none\" stroke=\"black\" points=\"641.25,-82.5 641.25,-118.5 898.5,-118.5 898.5,-82.5 641.25,-82.5\"/>\n",
       "<text text-anchor=\"middle\" x=\"693.88\" y=\"-95.7\" font-family=\"Times,serif\" font-size=\"14.00\">w1*x1 + w2*x2</text>\n",
       "<polyline fill=\"none\" stroke=\"black\" points=\"746.5,-83 746.5,-118.5\"/>\n",
       "<text text-anchor=\"middle\" x=\"785.25\" y=\"-95.7\" font-family=\"Times,serif\" font-size=\"14.00\">data &#45;6.000</text>\n",
       "<polyline fill=\"none\" stroke=\"black\" points=\"824,-83 824,-118.5\"/>\n",
       "<text text-anchor=\"middle\" x=\"861.25\" y=\"-95.7\" font-family=\"Times,serif\" font-size=\"14.00\">grad 0.500</text>\n",
       "</g>\n",
       "<!-- 4688113392&#45;&gt;4688113296+ -->\n",
       "<g id=\"edge14\" class=\"edge\">\n",
       "<title>4688113392&#45;&gt;4688113296+</title>\n",
       "<path fill=\"none\" stroke=\"black\" d=\"M898.93,-118.73C907.56,-119.96 915.77,-121.13 923.21,-122.19\"/>\n",
       "<polygon fill=\"black\" stroke=\"black\" points=\"922.71,-125.65 933.1,-123.6 923.69,-118.72 922.71,-125.65\"/>\n",
       "</g>\n",
       "<!-- 4688113392+&#45;&gt;4688113392 -->\n",
       "<g id=\"edge3\" class=\"edge\">\n",
       "<title>4688113392+&#45;&gt;4688113392</title>\n",
       "<path fill=\"none\" stroke=\"black\" d=\"M605.62,-100.5C612.63,-100.5 620.71,-100.5 629.45,-100.5\"/>\n",
       "<polygon fill=\"black\" stroke=\"black\" points=\"629.32,-104 639.32,-100.5 629.32,-97 629.32,-104\"/>\n",
       "</g>\n",
       "<!-- 4356278592 -->\n",
       "<g id=\"node11\" class=\"node\">\n",
       "<title>4356278592</title>\n",
       "<polygon fill=\"none\" stroke=\"black\" points=\"3.75,-0.5 3.75,-36.5 180.75,-36.5 180.75,-0.5 3.75,-0.5\"/>\n",
       "<text text-anchor=\"middle\" x=\"18.5\" y=\"-13.7\" font-family=\"Times,serif\" font-size=\"14.00\">x2</text>\n",
       "<polyline fill=\"none\" stroke=\"black\" points=\"33.25,-1 33.25,-36.5\"/>\n",
       "<text text-anchor=\"middle\" x=\"69.75\" y=\"-13.7\" font-family=\"Times,serif\" font-size=\"14.00\">data 0.000</text>\n",
       "<polyline fill=\"none\" stroke=\"black\" points=\"106.25,-1 106.25,-36.5\"/>\n",
       "<text text-anchor=\"middle\" x=\"143.5\" y=\"-13.7\" font-family=\"Times,serif\" font-size=\"14.00\">grad 0.500</text>\n",
       "</g>\n",
       "<!-- 4356278592&#45;&gt;4688111136* -->\n",
       "<g id=\"edge11\" class=\"edge\">\n",
       "<title>4356278592&#45;&gt;4688111136*</title>\n",
       "<path fill=\"none\" stroke=\"black\" d=\"M156.39,-36.86C165.87,-39.91 175.49,-43.17 184.5,-46.5 194.34,-50.14 204.87,-54.53 214.4,-58.7\"/>\n",
       "<polygon fill=\"black\" stroke=\"black\" points=\"212.71,-61.78 223.27,-62.65 215.56,-55.38 212.71,-61.78\"/>\n",
       "</g>\n",
       "<!-- 4688115024 -->\n",
       "<g id=\"node12\" class=\"node\">\n",
       "<title>4688115024</title>\n",
       "<polygon fill=\"none\" stroke=\"black\" points=\"1320.75,-109.5 1320.75,-145.5 1491,-145.5 1491,-109.5 1320.75,-109.5\"/>\n",
       "<text text-anchor=\"middle\" x=\"1332.12\" y=\"-122.7\" font-family=\"Times,serif\" font-size=\"14.00\">o</text>\n",
       "<polyline fill=\"none\" stroke=\"black\" points=\"1343.5,-110 1343.5,-145.5\"/>\n",
       "<text text-anchor=\"middle\" x=\"1380\" y=\"-122.7\" font-family=\"Times,serif\" font-size=\"14.00\">data 0.707</text>\n",
       "<polyline fill=\"none\" stroke=\"black\" points=\"1416.5,-110 1416.5,-145.5\"/>\n",
       "<text text-anchor=\"middle\" x=\"1453.75\" y=\"-122.7\" font-family=\"Times,serif\" font-size=\"14.00\">grad 1.000</text>\n",
       "</g>\n",
       "<!-- 4688115024tanh&#45;&gt;4688115024 -->\n",
       "<g id=\"edge4\" class=\"edge\">\n",
       "<title>4688115024tanh&#45;&gt;4688115024</title>\n",
       "<path fill=\"none\" stroke=\"black\" d=\"M1285.21,-127.5C1292.3,-127.5 1300.4,-127.5 1308.96,-127.5\"/>\n",
       "<polygon fill=\"black\" stroke=\"black\" points=\"1308.93,-131 1318.93,-127.5 1308.93,-124 1308.93,-131\"/>\n",
       "</g>\n",
       "<!-- 4688115552 -->\n",
       "<g id=\"node14\" class=\"node\">\n",
       "<title>4688115552</title>\n",
       "<polygon fill=\"none\" stroke=\"black\" points=\"310.5,-110.5 310.5,-146.5 515.25,-146.5 515.25,-110.5 310.5,-110.5\"/>\n",
       "<text text-anchor=\"middle\" x=\"336.88\" y=\"-123.7\" font-family=\"Times,serif\" font-size=\"14.00\">x1*w1</text>\n",
       "<polyline fill=\"none\" stroke=\"black\" points=\"363.25,-111 363.25,-146.5\"/>\n",
       "<text text-anchor=\"middle\" x=\"402\" y=\"-123.7\" font-family=\"Times,serif\" font-size=\"14.00\">data &#45;6.000</text>\n",
       "<polyline fill=\"none\" stroke=\"black\" points=\"440.75,-111 440.75,-146.5\"/>\n",
       "<text text-anchor=\"middle\" x=\"478\" y=\"-123.7\" font-family=\"Times,serif\" font-size=\"14.00\">grad 0.500</text>\n",
       "</g>\n",
       "<!-- 4688115552&#45;&gt;4688113392+ -->\n",
       "<g id=\"edge13\" class=\"edge\">\n",
       "<title>4688115552&#45;&gt;4688113392+</title>\n",
       "<path fill=\"none\" stroke=\"black\" d=\"M515.48,-111.09C524.36,-109.56 532.9,-108.1 540.66,-106.77\"/>\n",
       "<polygon fill=\"black\" stroke=\"black\" points=\"541,-110.26 550.27,-105.12 539.82,-103.36 541,-110.26\"/>\n",
       "</g>\n",
       "<!-- 4688115552*&#45;&gt;4688115552 -->\n",
       "<g id=\"edge5\" class=\"edge\">\n",
       "<title>4688115552*&#45;&gt;4688115552</title>\n",
       "<path fill=\"none\" stroke=\"black\" d=\"M274.75,-128.5C281.85,-128.5 290.01,-128.5 298.74,-128.5\"/>\n",
       "<polygon fill=\"black\" stroke=\"black\" points=\"298.55,-132 308.55,-128.5 298.55,-125 298.55,-132\"/>\n",
       "</g>\n",
       "</g>\n",
       "</svg>\n"
      ],
      "text/plain": [
       "<graphviz.graphs.Digraph at 0x103a78400>"
      ]
     },
     "execution_count": 18,
     "metadata": {},
     "output_type": "execute_result"
    }
   ],
   "source": [
    "draw_dot(o)"
   ]
  },
  {
   "cell_type": "code",
   "execution_count": 207,
   "id": "eb452751-94bf-4f87-b164-aee97cc99f79",
   "metadata": {},
   "outputs": [],
   "source": [
    "#same but nistead of using tanh, we use exp \n",
    "#inputs x1,x2\n",
    "x1 = Value(2, label='x1')\n",
    "x2 = Value(0.0, label='x2')\n",
    "\n",
    "#weights for inputs\n",
    "w1 = Value(-3.0, label='w1')\n",
    "w2 = Value(1.0, label='w2')\n",
    "\n",
    "#bias\n",
    "b = Value(6.88137358, label ='b')\n",
    "#according to model; x1*w1 + x2*w2 + b  ----> raw body without activation function \n",
    "x1w1 = x1*w1; x1w1.label = 'x1*w1'\n",
    "x2w2 = x2*w2; x2w2.label = 'x2*w2'\n",
    "x1w1x2w2 = x1w1 + x2w2; x1w1x2w2.label= 'w1*x1 + w2*x2'\n",
    "n = x1w1x2w2 + b; n.label = 'n' \n",
    "e = (2*n).exp(); #variable\n",
    "o = (e-1) / (e+1)\n",
    "o.label = 'o'\n",
    "o.backward()"
   ]
  },
  {
   "cell_type": "code",
   "execution_count": 208,
   "id": "342ce5aa-d76a-4be7-9257-b8c0df082d8d",
   "metadata": {},
   "outputs": [
    {
     "data": {
      "image/svg+xml": [
       "<?xml version=\"1.0\" encoding=\"UTF-8\" standalone=\"no\"?>\n",
       "<!DOCTYPE svg PUBLIC \"-//W3C//DTD SVG 1.1//EN\"\n",
       " \"http://www.w3.org/Graphics/SVG/1.1/DTD/svg11.dtd\">\n",
       "<!-- Generated by graphviz version 9.0.0 (20230911.1827)\n",
       " -->\n",
       "<!-- Pages: 1 -->\n",
       "<svg width=\"2794pt\" height=\"236pt\"\n",
       " viewBox=\"0.00 0.00 2794.25 236.00\" xmlns=\"http://www.w3.org/2000/svg\" xmlns:xlink=\"http://www.w3.org/1999/xlink\">\n",
       "<g id=\"graph0\" class=\"graph\" transform=\"scale(1 1) rotate(0) translate(4 232)\">\n",
       "<polygon fill=\"white\" stroke=\"none\" points=\"-4,4 -4,-232 2790.25,-232 2790.25,4 -4,4\"/>\n",
       "<!-- 4767043584 -->\n",
       "<g id=\"node1\" class=\"node\">\n",
       "<title>4767043584</title>\n",
       "<polygon fill=\"none\" stroke=\"black\" points=\"641.25,-82.5 641.25,-118.5 898.5,-118.5 898.5,-82.5 641.25,-82.5\"/>\n",
       "<text text-anchor=\"middle\" x=\"693.88\" y=\"-95.7\" font-family=\"Times,serif\" font-size=\"14.00\">w1*x1 + w2*x2</text>\n",
       "<polyline fill=\"none\" stroke=\"black\" points=\"746.5,-83 746.5,-118.5\"/>\n",
       "<text text-anchor=\"middle\" x=\"785.25\" y=\"-95.7\" font-family=\"Times,serif\" font-size=\"14.00\">data &#45;6.000</text>\n",
       "<polyline fill=\"none\" stroke=\"black\" points=\"824,-83 824,-118.5\"/>\n",
       "<text text-anchor=\"middle\" x=\"861.25\" y=\"-95.7\" font-family=\"Times,serif\" font-size=\"14.00\">grad 0.500</text>\n",
       "</g>\n",
       "<!-- 4767042960+ -->\n",
       "<g id=\"node25\" class=\"node\">\n",
       "<title>4767042960+</title>\n",
       "<ellipse fill=\"none\" stroke=\"black\" cx=\"961.5\" cy=\"-127.5\" rx=\"27\" ry=\"18\"/>\n",
       "<text text-anchor=\"middle\" x=\"961.5\" y=\"-122.45\" font-family=\"Times,serif\" font-size=\"14.00\">+</text>\n",
       "</g>\n",
       "<!-- 4767043584&#45;&gt;4767042960+ -->\n",
       "<g id=\"edge24\" class=\"edge\">\n",
       "<title>4767043584&#45;&gt;4767042960+</title>\n",
       "<path fill=\"none\" stroke=\"black\" d=\"M898.93,-118.73C907.56,-119.96 915.77,-121.13 923.21,-122.19\"/>\n",
       "<polygon fill=\"black\" stroke=\"black\" points=\"922.71,-125.65 933.1,-123.6 923.69,-118.72 922.71,-125.65\"/>\n",
       "</g>\n",
       "<!-- 4767043584+ -->\n",
       "<g id=\"node2\" class=\"node\">\n",
       "<title>4767043584+</title>\n",
       "<ellipse fill=\"none\" stroke=\"black\" cx=\"578.25\" cy=\"-100.5\" rx=\"27\" ry=\"18\"/>\n",
       "<text text-anchor=\"middle\" x=\"578.25\" y=\"-95.45\" font-family=\"Times,serif\" font-size=\"14.00\">+</text>\n",
       "</g>\n",
       "<!-- 4767043584+&#45;&gt;4767043584 -->\n",
       "<g id=\"edge1\" class=\"edge\">\n",
       "<title>4767043584+&#45;&gt;4767043584</title>\n",
       "<path fill=\"none\" stroke=\"black\" d=\"M605.62,-100.5C612.63,-100.5 620.71,-100.5 629.45,-100.5\"/>\n",
       "<polygon fill=\"black\" stroke=\"black\" points=\"629.32,-104 639.32,-100.5 629.32,-97 629.32,-104\"/>\n",
       "</g>\n",
       "<!-- 4767044112 -->\n",
       "<g id=\"node3\" class=\"node\">\n",
       "<title>4767044112</title>\n",
       "<polygon fill=\"none\" stroke=\"black\" points=\"1614,-191.5 1614,-227.5 1785.75,-227.5 1785.75,-191.5 1614,-191.5\"/>\n",
       "<text text-anchor=\"middle\" x=\"1623.88\" y=\"-204.7\" font-family=\"Times,serif\" font-size=\"14.00\"> </text>\n",
       "<polyline fill=\"none\" stroke=\"black\" points=\"1633.75,-192 1633.75,-227.5\"/>\n",
       "<text text-anchor=\"middle\" x=\"1670.25\" y=\"-204.7\" font-family=\"Times,serif\" font-size=\"14.00\">data 1.000</text>\n",
       "<polyline fill=\"none\" stroke=\"black\" points=\"1706.75,-192 1706.75,-227.5\"/>\n",
       "<text text-anchor=\"middle\" x=\"1746.25\" y=\"-204.7\" font-family=\"Times,serif\" font-size=\"14.00\">grad &#45;0.104</text>\n",
       "</g>\n",
       "<!-- 4767044208+ -->\n",
       "<g id=\"node14\" class=\"node\">\n",
       "<title>4767044208+</title>\n",
       "<ellipse fill=\"none\" stroke=\"black\" cx=\"1848.75\" cy=\"-181.5\" rx=\"27\" ry=\"18\"/>\n",
       "<text text-anchor=\"middle\" x=\"1848.75\" y=\"-176.45\" font-family=\"Times,serif\" font-size=\"14.00\">+</text>\n",
       "</g>\n",
       "<!-- 4767044112&#45;&gt;4767044208+ -->\n",
       "<g id=\"edge19\" class=\"edge\">\n",
       "<title>4767044112&#45;&gt;4767044208+</title>\n",
       "<path fill=\"none\" stroke=\"black\" d=\"M1785.89,-193.29C1794.73,-191.61 1803.35,-189.96 1811.21,-188.47\"/>\n",
       "<polygon fill=\"black\" stroke=\"black\" points=\"1811.82,-191.91 1820.99,-186.6 1810.51,-185.04 1811.82,-191.91\"/>\n",
       "</g>\n",
       "<!-- 4767041088 -->\n",
       "<g id=\"node4\" class=\"node\">\n",
       "<title>4767041088</title>\n",
       "<polygon fill=\"none\" stroke=\"black\" points=\"2322.75,-161.5 2322.75,-197.5 2490,-197.5 2490,-161.5 2322.75,-161.5\"/>\n",
       "<text text-anchor=\"middle\" x=\"2332.62\" y=\"-174.7\" font-family=\"Times,serif\" font-size=\"14.00\"> </text>\n",
       "<polyline fill=\"none\" stroke=\"black\" points=\"2342.5,-162 2342.5,-197.5\"/>\n",
       "<text text-anchor=\"middle\" x=\"2379\" y=\"-174.7\" font-family=\"Times,serif\" font-size=\"14.00\">data 0.146</text>\n",
       "<polyline fill=\"none\" stroke=\"black\" points=\"2415.5,-162 2415.5,-197.5\"/>\n",
       "<text text-anchor=\"middle\" x=\"2452.75\" y=\"-174.7\" font-family=\"Times,serif\" font-size=\"14.00\">grad 4.828</text>\n",
       "</g>\n",
       "<!-- 4767045792* -->\n",
       "<g id=\"node12\" class=\"node\">\n",
       "<title>4767045792*</title>\n",
       "<ellipse fill=\"none\" stroke=\"black\" cx=\"2553\" cy=\"-153.5\" rx=\"27\" ry=\"18\"/>\n",
       "<text text-anchor=\"middle\" x=\"2553\" y=\"-148.45\" font-family=\"Times,serif\" font-size=\"14.00\">*</text>\n",
       "</g>\n",
       "<!-- 4767041088&#45;&gt;4767045792* -->\n",
       "<g id=\"edge27\" class=\"edge\">\n",
       "<title>4767041088&#45;&gt;4767045792*</title>\n",
       "<path fill=\"none\" stroke=\"black\" d=\"M2490.25,-164.6C2498.96,-163.03 2507.47,-161.5 2515.25,-160.11\"/>\n",
       "<polygon fill=\"black\" stroke=\"black\" points=\"2515.71,-163.58 2524.94,-158.37 2514.47,-156.69 2515.71,-163.58\"/>\n",
       "</g>\n",
       "<!-- 4767041088**&#45;1 -->\n",
       "<g id=\"node5\" class=\"node\">\n",
       "<title>4767041088**&#45;1</title>\n",
       "<ellipse fill=\"none\" stroke=\"black\" cx=\"2203.12\" cy=\"-181.5\" rx=\"27.81\" ry=\"18\"/>\n",
       "<text text-anchor=\"middle\" x=\"2203.12\" y=\"-176.45\" font-family=\"Times,serif\" font-size=\"14.00\">**&#45;1</text>\n",
       "</g>\n",
       "<!-- 4767041088**&#45;1&#45;&gt;4767041088 -->\n",
       "<g id=\"edge2\" class=\"edge\">\n",
       "<title>4767041088**&#45;1&#45;&gt;4767041088</title>\n",
       "<path fill=\"none\" stroke=\"black\" d=\"M2231.27,-181.23C2252.1,-181.02 2282.18,-180.72 2311.49,-180.43\"/>\n",
       "<polygon fill=\"black\" stroke=\"black\" points=\"2311.19,-183.94 2321.15,-180.34 2311.12,-176.94 2311.19,-183.94\"/>\n",
       "</g>\n",
       "<!-- 4767043152 -->\n",
       "<g id=\"node6\" class=\"node\">\n",
       "<title>4767043152</title>\n",
       "<polygon fill=\"none\" stroke=\"black\" points=\"1.5,-165.5 1.5,-201.5 183,-201.5 183,-165.5 1.5,-165.5\"/>\n",
       "<text text-anchor=\"middle\" x=\"16.25\" y=\"-178.7\" font-family=\"Times,serif\" font-size=\"14.00\">x1</text>\n",
       "<polyline fill=\"none\" stroke=\"black\" points=\"31,-166 31,-201.5\"/>\n",
       "<text text-anchor=\"middle\" x=\"67.5\" y=\"-178.7\" font-family=\"Times,serif\" font-size=\"14.00\">data 2.000</text>\n",
       "<polyline fill=\"none\" stroke=\"black\" points=\"104,-166 104,-201.5\"/>\n",
       "<text text-anchor=\"middle\" x=\"143.5\" y=\"-178.7\" font-family=\"Times,serif\" font-size=\"14.00\">grad &#45;1.500</text>\n",
       "</g>\n",
       "<!-- 4767041232* -->\n",
       "<g id=\"node16\" class=\"node\">\n",
       "<title>4767041232*</title>\n",
       "<ellipse fill=\"none\" stroke=\"black\" cx=\"247.5\" cy=\"-128.5\" rx=\"27\" ry=\"18\"/>\n",
       "<text text-anchor=\"middle\" x=\"247.5\" y=\"-123.45\" font-family=\"Times,serif\" font-size=\"14.00\">*</text>\n",
       "</g>\n",
       "<!-- 4767043152&#45;&gt;4767041232* -->\n",
       "<g id=\"edge17\" class=\"edge\">\n",
       "<title>4767043152&#45;&gt;4767041232*</title>\n",
       "<path fill=\"none\" stroke=\"black\" d=\"M159.39,-165.09C167.9,-162.39 176.45,-159.49 184.5,-156.5 194.47,-152.79 205.11,-148.23 214.7,-143.87\"/>\n",
       "<polygon fill=\"black\" stroke=\"black\" points=\"216.03,-147.11 223.62,-139.72 213.08,-140.76 216.03,-147.11\"/>\n",
       "</g>\n",
       "<!-- 4767044496 -->\n",
       "<g id=\"node7\" class=\"node\">\n",
       "<title>4767044496</title>\n",
       "<polygon fill=\"none\" stroke=\"black\" points=\"3.75,-55.5 3.75,-91.5 180.75,-91.5 180.75,-55.5 3.75,-55.5\"/>\n",
       "<text text-anchor=\"middle\" x=\"18.5\" y=\"-68.7\" font-family=\"Times,serif\" font-size=\"14.00\">x2</text>\n",
       "<polyline fill=\"none\" stroke=\"black\" points=\"33.25,-56 33.25,-91.5\"/>\n",
       "<text text-anchor=\"middle\" x=\"69.75\" y=\"-68.7\" font-family=\"Times,serif\" font-size=\"14.00\">data 0.000</text>\n",
       "<polyline fill=\"none\" stroke=\"black\" points=\"106.25,-56 106.25,-91.5\"/>\n",
       "<text text-anchor=\"middle\" x=\"143.5\" y=\"-68.7\" font-family=\"Times,serif\" font-size=\"14.00\">grad 0.500</text>\n",
       "</g>\n",
       "<!-- 4767048576* -->\n",
       "<g id=\"node23\" class=\"node\">\n",
       "<title>4767048576*</title>\n",
       "<ellipse fill=\"none\" stroke=\"black\" cx=\"247.5\" cy=\"-73.5\" rx=\"27\" ry=\"18\"/>\n",
       "<text text-anchor=\"middle\" x=\"247.5\" y=\"-68.45\" font-family=\"Times,serif\" font-size=\"14.00\">*</text>\n",
       "</g>\n",
       "<!-- 4767044496&#45;&gt;4767048576* -->\n",
       "<g id=\"edge21\" class=\"edge\">\n",
       "<title>4767044496&#45;&gt;4767048576*</title>\n",
       "<path fill=\"none\" stroke=\"black\" d=\"M181.06,-73.5C190.7,-73.5 200.1,-73.5 208.62,-73.5\"/>\n",
       "<polygon fill=\"black\" stroke=\"black\" points=\"208.52,-77 218.52,-73.5 208.52,-70 208.52,-77\"/>\n",
       "</g>\n",
       "<!-- 4767043200 -->\n",
       "<g id=\"node8\" class=\"node\">\n",
       "<title>4767043200</title>\n",
       "<polygon fill=\"none\" stroke=\"black\" points=\"2119.5,-108.5 2119.5,-144.5 2286.75,-144.5 2286.75,-108.5 2119.5,-108.5\"/>\n",
       "<text text-anchor=\"middle\" x=\"2129.38\" y=\"-121.7\" font-family=\"Times,serif\" font-size=\"14.00\"> </text>\n",
       "<polyline fill=\"none\" stroke=\"black\" points=\"2139.25,-109 2139.25,-144.5\"/>\n",
       "<text text-anchor=\"middle\" x=\"2175.75\" y=\"-121.7\" font-family=\"Times,serif\" font-size=\"14.00\">data 4.828</text>\n",
       "<polyline fill=\"none\" stroke=\"black\" points=\"2212.25,-109 2212.25,-144.5\"/>\n",
       "<text text-anchor=\"middle\" x=\"2249.5\" y=\"-121.7\" font-family=\"Times,serif\" font-size=\"14.00\">grad 0.146</text>\n",
       "</g>\n",
       "<!-- 4767043200&#45;&gt;4767045792* -->\n",
       "<g id=\"edge26\" class=\"edge\">\n",
       "<title>4767043200&#45;&gt;4767045792*</title>\n",
       "<path fill=\"none\" stroke=\"black\" d=\"M2287.01,-132.93C2359.13,-138.53 2460.33,-146.39 2514.42,-150.58\"/>\n",
       "<polygon fill=\"black\" stroke=\"black\" points=\"2514.1,-154.07 2524.34,-151.35 2514.64,-147.09 2514.1,-154.07\"/>\n",
       "</g>\n",
       "<!-- 4767043200+ -->\n",
       "<g id=\"node9\" class=\"node\">\n",
       "<title>4767043200+</title>\n",
       "<ellipse fill=\"none\" stroke=\"black\" cx=\"1848.75\" cy=\"-126.5\" rx=\"27\" ry=\"18\"/>\n",
       "<text text-anchor=\"middle\" x=\"1848.75\" y=\"-121.45\" font-family=\"Times,serif\" font-size=\"14.00\">+</text>\n",
       "</g>\n",
       "<!-- 4767043200+&#45;&gt;4767043200 -->\n",
       "<g id=\"edge3\" class=\"edge\">\n",
       "<title>4767043200+&#45;&gt;4767043200</title>\n",
       "<path fill=\"none\" stroke=\"black\" d=\"M1876.24,-126.5C1924.75,-126.5 2030.03,-126.5 2107.86,-126.5\"/>\n",
       "<polygon fill=\"black\" stroke=\"black\" points=\"2107.63,-130 2117.63,-126.5 2107.63,-123 2107.63,-130\"/>\n",
       "</g>\n",
       "<!-- 4767041664 -->\n",
       "<g id=\"node10\" class=\"node\">\n",
       "<title>4767041664</title>\n",
       "<polygon fill=\"none\" stroke=\"black\" points=\"2.25,-0.5 2.25,-36.5 182.25,-36.5 182.25,-0.5 2.25,-0.5\"/>\n",
       "<text text-anchor=\"middle\" x=\"18.5\" y=\"-13.7\" font-family=\"Times,serif\" font-size=\"14.00\">w2</text>\n",
       "<polyline fill=\"none\" stroke=\"black\" points=\"34.75,-1 34.75,-36.5\"/>\n",
       "<text text-anchor=\"middle\" x=\"71.25\" y=\"-13.7\" font-family=\"Times,serif\" font-size=\"14.00\">data 1.000</text>\n",
       "<polyline fill=\"none\" stroke=\"black\" points=\"107.75,-1 107.75,-36.5\"/>\n",
       "<text text-anchor=\"middle\" x=\"145\" y=\"-13.7\" font-family=\"Times,serif\" font-size=\"14.00\">grad 0.000</text>\n",
       "</g>\n",
       "<!-- 4767041664&#45;&gt;4767048576* -->\n",
       "<g id=\"edge28\" class=\"edge\">\n",
       "<title>4767041664&#45;&gt;4767048576*</title>\n",
       "<path fill=\"none\" stroke=\"black\" d=\"M159.39,-36.91C167.9,-39.61 176.45,-42.51 184.5,-45.5 194.47,-49.21 205.11,-53.77 214.7,-58.13\"/>\n",
       "<polygon fill=\"black\" stroke=\"black\" points=\"213.08,-61.24 223.62,-62.28 216.03,-54.89 213.08,-61.24\"/>\n",
       "</g>\n",
       "<!-- 4767045792 -->\n",
       "<g id=\"node11\" class=\"node\">\n",
       "<title>4767045792</title>\n",
       "<polygon fill=\"none\" stroke=\"black\" points=\"2616,-135.5 2616,-171.5 2786.25,-171.5 2786.25,-135.5 2616,-135.5\"/>\n",
       "<text text-anchor=\"middle\" x=\"2627.38\" y=\"-148.7\" font-family=\"Times,serif\" font-size=\"14.00\">o</text>\n",
       "<polyline fill=\"none\" stroke=\"black\" points=\"2638.75,-136 2638.75,-171.5\"/>\n",
       "<text text-anchor=\"middle\" x=\"2675.25\" y=\"-148.7\" font-family=\"Times,serif\" font-size=\"14.00\">data 0.707</text>\n",
       "<polyline fill=\"none\" stroke=\"black\" points=\"2711.75,-136 2711.75,-171.5\"/>\n",
       "<text text-anchor=\"middle\" x=\"2749\" y=\"-148.7\" font-family=\"Times,serif\" font-size=\"14.00\">grad 1.000</text>\n",
       "</g>\n",
       "<!-- 4767045792*&#45;&gt;4767045792 -->\n",
       "<g id=\"edge4\" class=\"edge\">\n",
       "<title>4767045792*&#45;&gt;4767045792</title>\n",
       "<path fill=\"none\" stroke=\"black\" d=\"M2580.46,-153.5C2587.55,-153.5 2595.65,-153.5 2604.21,-153.5\"/>\n",
       "<polygon fill=\"black\" stroke=\"black\" points=\"2604.18,-157 2614.18,-153.5 2604.18,-150 2604.18,-157\"/>\n",
       "</g>\n",
       "<!-- 4767044208 -->\n",
       "<g id=\"node13\" class=\"node\">\n",
       "<title>4767044208</title>\n",
       "<polygon fill=\"none\" stroke=\"black\" points=\"1911.75,-163.5 1911.75,-199.5 2083.5,-199.5 2083.5,-163.5 1911.75,-163.5\"/>\n",
       "<text text-anchor=\"middle\" x=\"1921.62\" y=\"-176.7\" font-family=\"Times,serif\" font-size=\"14.00\"> </text>\n",
       "<polyline fill=\"none\" stroke=\"black\" points=\"1931.5,-164 1931.5,-199.5\"/>\n",
       "<text text-anchor=\"middle\" x=\"1968\" y=\"-176.7\" font-family=\"Times,serif\" font-size=\"14.00\">data 6.828</text>\n",
       "<polyline fill=\"none\" stroke=\"black\" points=\"2004.5,-164 2004.5,-199.5\"/>\n",
       "<text text-anchor=\"middle\" x=\"2044\" y=\"-176.7\" font-family=\"Times,serif\" font-size=\"14.00\">grad &#45;0.104</text>\n",
       "</g>\n",
       "<!-- 4767044208&#45;&gt;4767041088**&#45;1 -->\n",
       "<g id=\"edge11\" class=\"edge\">\n",
       "<title>4767044208&#45;&gt;4767041088**&#45;1</title>\n",
       "<path fill=\"none\" stroke=\"black\" d=\"M2083.75,-181.5C2111.44,-181.5 2140.83,-181.5 2163.4,-181.5\"/>\n",
       "<polygon fill=\"black\" stroke=\"black\" points=\"2163.34,-185 2173.34,-181.5 2163.34,-178 2163.34,-185\"/>\n",
       "</g>\n",
       "<!-- 4767044208+&#45;&gt;4767044208 -->\n",
       "<g id=\"edge5\" class=\"edge\">\n",
       "<title>4767044208+&#45;&gt;4767044208</title>\n",
       "<path fill=\"none\" stroke=\"black\" d=\"M1876.01,-181.5C1883.2,-181.5 1891.44,-181.5 1900.17,-181.5\"/>\n",
       "<polygon fill=\"black\" stroke=\"black\" points=\"1899.92,-185 1909.92,-181.5 1899.92,-178 1899.92,-185\"/>\n",
       "</g>\n",
       "<!-- 4767041232 -->\n",
       "<g id=\"node15\" class=\"node\">\n",
       "<title>4767041232</title>\n",
       "<polygon fill=\"none\" stroke=\"black\" points=\"310.5,-110.5 310.5,-146.5 515.25,-146.5 515.25,-110.5 310.5,-110.5\"/>\n",
       "<text text-anchor=\"middle\" x=\"336.88\" y=\"-123.7\" font-family=\"Times,serif\" font-size=\"14.00\">x1*w1</text>\n",
       "<polyline fill=\"none\" stroke=\"black\" points=\"363.25,-111 363.25,-146.5\"/>\n",
       "<text text-anchor=\"middle\" x=\"402\" y=\"-123.7\" font-family=\"Times,serif\" font-size=\"14.00\">data &#45;6.000</text>\n",
       "<polyline fill=\"none\" stroke=\"black\" points=\"440.75,-111 440.75,-146.5\"/>\n",
       "<text text-anchor=\"middle\" x=\"478\" y=\"-123.7\" font-family=\"Times,serif\" font-size=\"14.00\">grad 0.500</text>\n",
       "</g>\n",
       "<!-- 4767041232&#45;&gt;4767043584+ -->\n",
       "<g id=\"edge23\" class=\"edge\">\n",
       "<title>4767041232&#45;&gt;4767043584+</title>\n",
       "<path fill=\"none\" stroke=\"black\" d=\"M515.48,-111.09C524.36,-109.56 532.9,-108.1 540.66,-106.77\"/>\n",
       "<polygon fill=\"black\" stroke=\"black\" points=\"541,-110.26 550.27,-105.12 539.82,-103.36 541,-110.26\"/>\n",
       "</g>\n",
       "<!-- 4767041232*&#45;&gt;4767041232 -->\n",
       "<g id=\"edge6\" class=\"edge\">\n",
       "<title>4767041232*&#45;&gt;4767041232</title>\n",
       "<path fill=\"none\" stroke=\"black\" d=\"M274.75,-128.5C281.85,-128.5 290.01,-128.5 298.74,-128.5\"/>\n",
       "<polygon fill=\"black\" stroke=\"black\" points=\"298.55,-132 308.55,-128.5 298.55,-125 298.55,-132\"/>\n",
       "</g>\n",
       "<!-- 4767047904 -->\n",
       "<g id=\"node17\" class=\"node\">\n",
       "<title>4767047904</title>\n",
       "<polygon fill=\"none\" stroke=\"black\" points=\"1026,-164.5 1026,-200.5 1193.25,-200.5 1193.25,-164.5 1026,-164.5\"/>\n",
       "<text text-anchor=\"middle\" x=\"1035.88\" y=\"-177.7\" font-family=\"Times,serif\" font-size=\"14.00\"> </text>\n",
       "<polyline fill=\"none\" stroke=\"black\" points=\"1045.75,-165 1045.75,-200.5\"/>\n",
       "<text text-anchor=\"middle\" x=\"1082.25\" y=\"-177.7\" font-family=\"Times,serif\" font-size=\"14.00\">data 2.000</text>\n",
       "<polyline fill=\"none\" stroke=\"black\" points=\"1118.75,-165 1118.75,-200.5\"/>\n",
       "<text text-anchor=\"middle\" x=\"1156\" y=\"-177.7\" font-family=\"Times,serif\" font-size=\"14.00\">grad 0.220</text>\n",
       "</g>\n",
       "<!-- 4767043488* -->\n",
       "<g id=\"node27\" class=\"node\">\n",
       "<title>4767043488*</title>\n",
       "<ellipse fill=\"none\" stroke=\"black\" cx=\"1257.75\" cy=\"-154.5\" rx=\"27\" ry=\"18\"/>\n",
       "<text text-anchor=\"middle\" x=\"1257.75\" y=\"-149.45\" font-family=\"Times,serif\" font-size=\"14.00\">*</text>\n",
       "</g>\n",
       "<!-- 4767047904&#45;&gt;4767043488* -->\n",
       "<g id=\"edge20\" class=\"edge\">\n",
       "<title>4767047904&#45;&gt;4767043488*</title>\n",
       "<path fill=\"none\" stroke=\"black\" d=\"M1193.51,-166.62C1202.88,-164.82 1212.03,-163.07 1220.33,-161.48\"/>\n",
       "<polygon fill=\"black\" stroke=\"black\" points=\"1220.78,-164.96 1229.94,-159.64 1219.46,-158.08 1220.78,-164.96\"/>\n",
       "</g>\n",
       "<!-- 4767043344 -->\n",
       "<g id=\"node18\" class=\"node\">\n",
       "<title>4767043344</title>\n",
       "<polygon fill=\"none\" stroke=\"black\" points=\"1614,-81.5 1614,-117.5 1785.75,-117.5 1785.75,-81.5 1614,-81.5\"/>\n",
       "<text text-anchor=\"middle\" x=\"1623.88\" y=\"-94.7\" font-family=\"Times,serif\" font-size=\"14.00\"> </text>\n",
       "<polyline fill=\"none\" stroke=\"black\" points=\"1633.75,-82 1633.75,-117.5\"/>\n",
       "<text text-anchor=\"middle\" x=\"1672.5\" y=\"-94.7\" font-family=\"Times,serif\" font-size=\"14.00\">data &#45;1.000</text>\n",
       "<polyline fill=\"none\" stroke=\"black\" points=\"1711.25,-82 1711.25,-117.5\"/>\n",
       "<text text-anchor=\"middle\" x=\"1748.5\" y=\"-94.7\" font-family=\"Times,serif\" font-size=\"14.00\">grad 0.146</text>\n",
       "</g>\n",
       "<!-- 4767043344&#45;&gt;4767043200+ -->\n",
       "<g id=\"edge13\" class=\"edge\">\n",
       "<title>4767043344&#45;&gt;4767043200+</title>\n",
       "<path fill=\"none\" stroke=\"black\" d=\"M1785.89,-115.13C1794.65,-116.74 1803.19,-118.31 1810.98,-119.74\"/>\n",
       "<polygon fill=\"black\" stroke=\"black\" points=\"1810.22,-123.16 1820.69,-121.53 1811.49,-116.27 1810.22,-123.16\"/>\n",
       "</g>\n",
       "<!-- 4767048528 -->\n",
       "<g id=\"node19\" class=\"node\">\n",
       "<title>4767048528</title>\n",
       "<polygon fill=\"none\" stroke=\"black\" points=\"0,-110.5 0,-146.5 184.5,-146.5 184.5,-110.5 0,-110.5\"/>\n",
       "<text text-anchor=\"middle\" x=\"16.25\" y=\"-123.7\" font-family=\"Times,serif\" font-size=\"14.00\">w1</text>\n",
       "<polyline fill=\"none\" stroke=\"black\" points=\"32.5,-111 32.5,-146.5\"/>\n",
       "<text text-anchor=\"middle\" x=\"71.25\" y=\"-123.7\" font-family=\"Times,serif\" font-size=\"14.00\">data &#45;3.000</text>\n",
       "<polyline fill=\"none\" stroke=\"black\" points=\"110,-111 110,-146.5\"/>\n",
       "<text text-anchor=\"middle\" x=\"147.25\" y=\"-123.7\" font-family=\"Times,serif\" font-size=\"14.00\">grad 1.000</text>\n",
       "</g>\n",
       "<!-- 4767048528&#45;&gt;4767041232* -->\n",
       "<g id=\"edge12\" class=\"edge\">\n",
       "<title>4767048528&#45;&gt;4767041232*</title>\n",
       "<path fill=\"none\" stroke=\"black\" d=\"M184.61,-128.5C193.01,-128.5 201.16,-128.5 208.64,-128.5\"/>\n",
       "<polygon fill=\"black\" stroke=\"black\" points=\"208.64,-132 218.64,-128.5 208.64,-125 208.64,-132\"/>\n",
       "</g>\n",
       "<!-- 4767043440 -->\n",
       "<g id=\"node20\" class=\"node\">\n",
       "<title>4767043440</title>\n",
       "<polygon fill=\"none\" stroke=\"black\" points=\"1616.25,-136.5 1616.25,-172.5 1783.5,-172.5 1783.5,-136.5 1616.25,-136.5\"/>\n",
       "<text text-anchor=\"middle\" x=\"1626.12\" y=\"-149.7\" font-family=\"Times,serif\" font-size=\"14.00\"> </text>\n",
       "<polyline fill=\"none\" stroke=\"black\" points=\"1636,-137 1636,-172.5\"/>\n",
       "<text text-anchor=\"middle\" x=\"1672.5\" y=\"-149.7\" font-family=\"Times,serif\" font-size=\"14.00\">data 5.828</text>\n",
       "<polyline fill=\"none\" stroke=\"black\" points=\"1709,-137 1709,-172.5\"/>\n",
       "<text text-anchor=\"middle\" x=\"1746.25\" y=\"-149.7\" font-family=\"Times,serif\" font-size=\"14.00\">grad 0.043</text>\n",
       "</g>\n",
       "<!-- 4767043440&#45;&gt;4767043200+ -->\n",
       "<g id=\"edge15\" class=\"edge\">\n",
       "<title>4767043440&#45;&gt;4767043200+</title>\n",
       "<path fill=\"none\" stroke=\"black\" d=\"M1783.76,-138.7C1793.31,-136.88 1802.64,-135.1 1811.1,-133.49\"/>\n",
       "<polygon fill=\"black\" stroke=\"black\" points=\"1811.75,-136.93 1820.92,-131.61 1810.44,-130.05 1811.75,-136.93\"/>\n",
       "</g>\n",
       "<!-- 4767043440&#45;&gt;4767044208+ -->\n",
       "<g id=\"edge22\" class=\"edge\">\n",
       "<title>4767043440&#45;&gt;4767044208+</title>\n",
       "<path fill=\"none\" stroke=\"black\" d=\"M1783.76,-169.74C1793.31,-171.49 1802.64,-173.21 1811.1,-174.76\"/>\n",
       "<polygon fill=\"black\" stroke=\"black\" points=\"1810.45,-178.2 1820.92,-176.57 1811.72,-171.32 1810.45,-178.2\"/>\n",
       "</g>\n",
       "<!-- 4767043440exp -->\n",
       "<g id=\"node21\" class=\"node\">\n",
       "<title>4767043440exp</title>\n",
       "<ellipse fill=\"none\" stroke=\"black\" cx=\"1551\" cy=\"-154.5\" rx=\"27\" ry=\"18\"/>\n",
       "<text text-anchor=\"middle\" x=\"1551\" y=\"-149.45\" font-family=\"Times,serif\" font-size=\"14.00\">exp</text>\n",
       "</g>\n",
       "<!-- 4767043440exp&#45;&gt;4767043440 -->\n",
       "<g id=\"edge7\" class=\"edge\">\n",
       "<title>4767043440exp&#45;&gt;4767043440</title>\n",
       "<path fill=\"none\" stroke=\"black\" d=\"M1578.26,-154.5C1586.03,-154.5 1595.02,-154.5 1604.52,-154.5\"/>\n",
       "<polygon fill=\"black\" stroke=\"black\" points=\"1604.35,-158 1614.35,-154.5 1604.35,-151 1604.35,-158\"/>\n",
       "</g>\n",
       "<!-- 4767048576 -->\n",
       "<g id=\"node22\" class=\"node\">\n",
       "<title>4767048576</title>\n",
       "<polygon fill=\"none\" stroke=\"black\" points=\"312.75,-55.5 312.75,-91.5 513,-91.5 513,-55.5 312.75,-55.5\"/>\n",
       "<text text-anchor=\"middle\" x=\"339.12\" y=\"-68.7\" font-family=\"Times,serif\" font-size=\"14.00\">x2*w2</text>\n",
       "<polyline fill=\"none\" stroke=\"black\" points=\"365.5,-56 365.5,-91.5\"/>\n",
       "<text text-anchor=\"middle\" x=\"402\" y=\"-68.7\" font-family=\"Times,serif\" font-size=\"14.00\">data 0.000</text>\n",
       "<polyline fill=\"none\" stroke=\"black\" points=\"438.5,-56 438.5,-91.5\"/>\n",
       "<text text-anchor=\"middle\" x=\"475.75\" y=\"-68.7\" font-family=\"Times,serif\" font-size=\"14.00\">grad 0.500</text>\n",
       "</g>\n",
       "<!-- 4767048576&#45;&gt;4767043584+ -->\n",
       "<g id=\"edge18\" class=\"edge\">\n",
       "<title>4767048576&#45;&gt;4767043584+</title>\n",
       "<path fill=\"none\" stroke=\"black\" d=\"M513.15,-89.91C522.78,-91.5 532.06,-93.03 540.44,-94.42\"/>\n",
       "<polygon fill=\"black\" stroke=\"black\" points=\"539.68,-97.84 550.11,-96.02 540.82,-90.93 539.68,-97.84\"/>\n",
       "</g>\n",
       "<!-- 4767048576*&#45;&gt;4767048576 -->\n",
       "<g id=\"edge8\" class=\"edge\">\n",
       "<title>4767048576*&#45;&gt;4767048576</title>\n",
       "<path fill=\"none\" stroke=\"black\" d=\"M274.75,-73.5C282.46,-73.5 291.43,-73.5 301.01,-73.5\"/>\n",
       "<polygon fill=\"black\" stroke=\"black\" points=\"300.99,-77 310.99,-73.5 300.99,-70 300.99,-77\"/>\n",
       "</g>\n",
       "<!-- 4767042960 -->\n",
       "<g id=\"node24\" class=\"node\">\n",
       "<title>4767042960</title>\n",
       "<polygon fill=\"none\" stroke=\"black\" points=\"1024.5,-109.5 1024.5,-145.5 1194.75,-145.5 1194.75,-109.5 1024.5,-109.5\"/>\n",
       "<text text-anchor=\"middle\" x=\"1035.88\" y=\"-122.7\" font-family=\"Times,serif\" font-size=\"14.00\">n</text>\n",
       "<polyline fill=\"none\" stroke=\"black\" points=\"1047.25,-110 1047.25,-145.5\"/>\n",
       "<text text-anchor=\"middle\" x=\"1083.75\" y=\"-122.7\" font-family=\"Times,serif\" font-size=\"14.00\">data 0.881</text>\n",
       "<polyline fill=\"none\" stroke=\"black\" points=\"1120.25,-110 1120.25,-145.5\"/>\n",
       "<text text-anchor=\"middle\" x=\"1157.5\" y=\"-122.7\" font-family=\"Times,serif\" font-size=\"14.00\">grad 0.500</text>\n",
       "</g>\n",
       "<!-- 4767042960&#45;&gt;4767043488* -->\n",
       "<g id=\"edge16\" class=\"edge\">\n",
       "<title>4767042960&#45;&gt;4767043488*</title>\n",
       "<path fill=\"none\" stroke=\"black\" d=\"M1195.2,-143.13C1203.92,-144.74 1212.41,-146.31 1220.17,-147.74\"/>\n",
       "<polygon fill=\"black\" stroke=\"black\" points=\"1219.35,-151.15 1229.82,-149.52 1220.62,-144.27 1219.35,-151.15\"/>\n",
       "</g>\n",
       "<!-- 4767042960+&#45;&gt;4767042960 -->\n",
       "<g id=\"edge9\" class=\"edge\">\n",
       "<title>4767042960+&#45;&gt;4767042960</title>\n",
       "<path fill=\"none\" stroke=\"black\" d=\"M988.96,-127.5C996.05,-127.5 1004.15,-127.5 1012.71,-127.5\"/>\n",
       "<polygon fill=\"black\" stroke=\"black\" points=\"1012.68,-131 1022.68,-127.5 1012.68,-124 1012.68,-131\"/>\n",
       "</g>\n",
       "<!-- 4767043488 -->\n",
       "<g id=\"node26\" class=\"node\">\n",
       "<title>4767043488</title>\n",
       "<polygon fill=\"none\" stroke=\"black\" points=\"1320.75,-136.5 1320.75,-172.5 1488,-172.5 1488,-136.5 1320.75,-136.5\"/>\n",
       "<text text-anchor=\"middle\" x=\"1330.62\" y=\"-149.7\" font-family=\"Times,serif\" font-size=\"14.00\"> </text>\n",
       "<polyline fill=\"none\" stroke=\"black\" points=\"1340.5,-137 1340.5,-172.5\"/>\n",
       "<text text-anchor=\"middle\" x=\"1377\" y=\"-149.7\" font-family=\"Times,serif\" font-size=\"14.00\">data 1.763</text>\n",
       "<polyline fill=\"none\" stroke=\"black\" points=\"1413.5,-137 1413.5,-172.5\"/>\n",
       "<text text-anchor=\"middle\" x=\"1450.75\" y=\"-149.7\" font-family=\"Times,serif\" font-size=\"14.00\">grad 0.250</text>\n",
       "</g>\n",
       "<!-- 4767043488&#45;&gt;4767043440exp -->\n",
       "<g id=\"edge14\" class=\"edge\">\n",
       "<title>4767043488&#45;&gt;4767043440exp</title>\n",
       "<path fill=\"none\" stroke=\"black\" d=\"M1488.25,-154.5C1496.51,-154.5 1504.59,-154.5 1512.04,-154.5\"/>\n",
       "<polygon fill=\"black\" stroke=\"black\" points=\"1512.01,-158 1522.01,-154.5 1512.01,-151 1512.01,-158\"/>\n",
       "</g>\n",
       "<!-- 4767043488*&#45;&gt;4767043488 -->\n",
       "<g id=\"edge10\" class=\"edge\">\n",
       "<title>4767043488*&#45;&gt;4767043488</title>\n",
       "<path fill=\"none\" stroke=\"black\" d=\"M1284.94,-154.5C1292.15,-154.5 1300.41,-154.5 1309.15,-154.5\"/>\n",
       "<polygon fill=\"black\" stroke=\"black\" points=\"1308.9,-158 1318.9,-154.5 1308.9,-151 1308.9,-158\"/>\n",
       "</g>\n",
       "<!-- 4767048672 -->\n",
       "<g id=\"node28\" class=\"node\">\n",
       "<title>4767048672</title>\n",
       "<polygon fill=\"none\" stroke=\"black\" points=\"684.75,-137.5 684.75,-173.5 855,-173.5 855,-137.5 684.75,-137.5\"/>\n",
       "<text text-anchor=\"middle\" x=\"696.12\" y=\"-150.7\" font-family=\"Times,serif\" font-size=\"14.00\">b</text>\n",
       "<polyline fill=\"none\" stroke=\"black\" points=\"707.5,-138 707.5,-173.5\"/>\n",
       "<text text-anchor=\"middle\" x=\"744\" y=\"-150.7\" font-family=\"Times,serif\" font-size=\"14.00\">data 6.881</text>\n",
       "<polyline fill=\"none\" stroke=\"black\" points=\"780.5,-138 780.5,-173.5\"/>\n",
       "<text text-anchor=\"middle\" x=\"817.75\" y=\"-150.7\" font-family=\"Times,serif\" font-size=\"14.00\">grad 0.500</text>\n",
       "</g>\n",
       "<!-- 4767048672&#45;&gt;4767042960+ -->\n",
       "<g id=\"edge25\" class=\"edge\">\n",
       "<title>4767048672&#45;&gt;4767042960+</title>\n",
       "<path fill=\"none\" stroke=\"black\" d=\"M855.43,-143.01C879.42,-139.47 904.3,-135.8 923.83,-132.91\"/>\n",
       "<polygon fill=\"black\" stroke=\"black\" points=\"924.07,-136.42 933.45,-131.49 923.05,-129.49 924.07,-136.42\"/>\n",
       "</g>\n",
       "</g>\n",
       "</svg>\n"
      ],
      "text/plain": [
       "<graphviz.graphs.Digraph at 0x11c235420>"
      ]
     },
     "execution_count": 208,
     "metadata": {},
     "output_type": "execute_result"
    }
   ],
   "source": [
    "draw_dot(o)"
   ]
  },
  {
   "cell_type": "code",
   "execution_count": 176,
   "id": "f45bc61f-cafc-4390-9fce-88a1d0832fa6",
   "metadata": {},
   "outputs": [],
   "source": [
    "#with the new topo backward\n",
    "o.backward()"
   ]
  },
  {
   "cell_type": "code",
   "execution_count": 167,
   "id": "f33cfad5-2442-4e17-b0ca-1bdc18a288e0",
   "metadata": {},
   "outputs": [
    {
     "data": {
      "text/plain": [
       "0.7158008515293363"
      ]
     },
     "execution_count": 167,
     "metadata": {},
     "output_type": "execute_result"
    }
   ],
   "source": [
    "o.grad = 1 #deriative of o wres to o is 1\n",
    "#local deriv of tanh so; o = tanh(n) ---> do/dn = 1- tanh**2 ---> i - o**2\n",
    "o.data"
   ]
  },
  {
   "cell_type": "code",
   "execution_count": null,
   "id": "1648ccd8-90fa-4872-9fc0-c8301b0f7730",
   "metadata": {},
   "outputs": [],
   "source": []
  },
  {
   "cell_type": "code",
   "execution_count": 113,
   "id": "52a7e768-262b-4595-b7d4-6d3d81f7a5c2",
   "metadata": {},
   "outputs": [],
   "source": [
    "n.grad = 1 - (o.data)**2"
   ]
  },
  {
   "cell_type": "code",
   "execution_count": 114,
   "id": "cc013e0c-9c80-470b-8d8e-251825bcf5de",
   "metadata": {},
   "outputs": [
    {
     "data": {
      "text/plain": [
       "0.4876291409498771"
      ]
     },
     "execution_count": 114,
     "metadata": {},
     "output_type": "execute_result"
    }
   ],
   "source": [
    "n.grad"
   ]
  },
  {
   "cell_type": "code",
   "execution_count": 128,
   "id": "af44b90c-d493-4844-bc66-6c850685fa93",
   "metadata": {},
   "outputs": [],
   "source": [
    "#so;\n",
    "n.grad = 0.5\n",
    "o.grad = 1\n",
    "\n",
    "#now we get to '+' which is like a distributer if the gradient; so;\n",
    "b.grad = 0.5\n",
    "x1w1x2w2.grad = 0.5\n",
    "\n",
    "#agian\n",
    "x1w1.grad = 0.5\n",
    "x2w2.grad = 0.5\n",
    "\n",
    "#mul\n",
    "x2.grad = w2.data * x2w2.grad \n",
    "w2.grad = x2.data * x2w2.grad #chain rule\n",
    "\n",
    "\n",
    "#again\n",
    "x1.grad = w1.data * x1w1.grad\n",
    "w1.grad = x1.data * x1w1.grad"
   ]
  },
  {
   "cell_type": "code",
   "execution_count": 136,
   "id": "44121f10-3ae3-4a11-b0a5-b9019d46530c",
   "metadata": {},
   "outputs": [],
   "source": [
    "# calculate by the backward function instesad of manual \n",
    "o.grad = 1.0\n",
    "o._backward()"
   ]
  },
  {
   "cell_type": "code",
   "execution_count": 138,
   "id": "931320bb-7573-4857-accf-c15f27b94dc6",
   "metadata": {},
   "outputs": [],
   "source": [
    "n._backward()"
   ]
  },
  {
   "cell_type": "code",
   "execution_count": 140,
   "id": "bf5a6c4b-c2cb-4ccb-8103-1a2fd9196bff",
   "metadata": {},
   "outputs": [],
   "source": [
    "b._backward() #leafnode"
   ]
  },
  {
   "cell_type": "code",
   "execution_count": 142,
   "id": "4d759670-7bd4-47fd-a0a0-97051d50854e",
   "metadata": {},
   "outputs": [],
   "source": [
    "x1w1x2w2._backward()"
   ]
  },
  {
   "cell_type": "code",
   "execution_count": 144,
   "id": "27d90f25-4a5f-4aa9-9f5c-cc3c4a984c06",
   "metadata": {},
   "outputs": [],
   "source": [
    "x1w1._backward()"
   ]
  },
  {
   "cell_type": "code",
   "execution_count": 146,
   "id": "b0759715-93f2-40e2-99fe-85c6b47e8e2f",
   "metadata": {},
   "outputs": [],
   "source": [
    "x2w2._backward()"
   ]
  },
  {
   "cell_type": "markdown",
   "id": "648f9332-a7fb-4337-977a-dcf655f3d661",
   "metadata": {},
   "source": [
    "## topo sort "
   ]
  },
  {
   "cell_type": "code",
   "execution_count": 162,
   "id": "7df9a675-434b-472a-acf2-de1e21d7f17a",
   "metadata": {},
   "outputs": [],
   "source": [
    "o.grad = 1\n",
    "topo = []\n",
    "visited = set()\n",
    "def build_topo(v):\n",
    "    if v not in visited:\n",
    "        visited.add(v) #mark as visied \n",
    "        for child in v._children:\n",
    "            build_topo(child)\n",
    "        topo.append(v) #after all children are processed go and add yourself \n",
    "build_topo(o)\n",
    "\n",
    "for node in reversed(topo):\n",
    "    node._backward()\n"
   ]
  },
  {
   "cell_type": "markdown",
   "id": "44ca5b68-a9c6-4aa2-adca-74881689577b",
   "metadata": {},
   "source": [
    "## error fixed; arise when we are using the variable more than once! (overriding gradient)"
   ]
  },
  {
   "cell_type": "code",
   "execution_count": 185,
   "id": "91767b60-3da2-4759-b78a-591d4b7a65c7",
   "metadata": {},
   "outputs": [
    {
     "data": {
      "image/svg+xml": [
       "<?xml version=\"1.0\" encoding=\"UTF-8\" standalone=\"no\"?>\n",
       "<!DOCTYPE svg PUBLIC \"-//W3C//DTD SVG 1.1//EN\"\n",
       " \"http://www.w3.org/Graphics/SVG/1.1/DTD/svg11.dtd\">\n",
       "<!-- Generated by graphviz version 9.0.0 (20230911.1827)\n",
       " -->\n",
       "<!-- Pages: 1 -->\n",
       "<svg width=\"474pt\" height=\"45pt\"\n",
       " viewBox=\"0.00 0.00 473.75 45.00\" xmlns=\"http://www.w3.org/2000/svg\" xmlns:xlink=\"http://www.w3.org/1999/xlink\">\n",
       "<g id=\"graph0\" class=\"graph\" transform=\"scale(1 1) rotate(0) translate(4 41)\">\n",
       "<polygon fill=\"white\" stroke=\"none\" points=\"-4,4 -4,-41 469.75,-41 469.75,4 -4,4\"/>\n",
       "<!-- 4808874288 -->\n",
       "<g id=\"node1\" class=\"node\">\n",
       "<title>4808874288</title>\n",
       "<polygon fill=\"none\" stroke=\"black\" points=\"0,-0.5 0,-36.5 169.5,-36.5 169.5,-0.5 0,-0.5\"/>\n",
       "<text text-anchor=\"middle\" x=\"11\" y=\"-13.7\" font-family=\"Times,serif\" font-size=\"14.00\">a</text>\n",
       "<polyline fill=\"none\" stroke=\"black\" points=\"22,-1 22,-36.5\"/>\n",
       "<text text-anchor=\"middle\" x=\"58.5\" y=\"-13.7\" font-family=\"Times,serif\" font-size=\"14.00\">data 2.000</text>\n",
       "<polyline fill=\"none\" stroke=\"black\" points=\"95,-1 95,-36.5\"/>\n",
       "<text text-anchor=\"middle\" x=\"132.25\" y=\"-13.7\" font-family=\"Times,serif\" font-size=\"14.00\">grad 2.000</text>\n",
       "</g>\n",
       "<!-- 4808878416+ -->\n",
       "<g id=\"node3\" class=\"node\">\n",
       "<title>4808878416+</title>\n",
       "<ellipse fill=\"none\" stroke=\"black\" cx=\"232.5\" cy=\"-18.5\" rx=\"27\" ry=\"18\"/>\n",
       "<text text-anchor=\"middle\" x=\"232.5\" y=\"-13.45\" font-family=\"Times,serif\" font-size=\"14.00\">+</text>\n",
       "</g>\n",
       "<!-- 4808874288&#45;&gt;4808878416+ -->\n",
       "<g id=\"edge2\" class=\"edge\">\n",
       "<title>4808874288&#45;&gt;4808878416+</title>\n",
       "<path fill=\"none\" stroke=\"black\" d=\"M169.69,-18.5C177.98,-18.5 186.07,-18.5 193.53,-18.5\"/>\n",
       "<polygon fill=\"black\" stroke=\"black\" points=\"193.51,-22 203.51,-18.5 193.51,-15 193.51,-22\"/>\n",
       "</g>\n",
       "<!-- 4808878416 -->\n",
       "<g id=\"node2\" class=\"node\">\n",
       "<title>4808878416</title>\n",
       "<polygon fill=\"none\" stroke=\"black\" points=\"295.5,-0.5 295.5,-36.5 465.75,-36.5 465.75,-0.5 295.5,-0.5\"/>\n",
       "<text text-anchor=\"middle\" x=\"306.88\" y=\"-13.7\" font-family=\"Times,serif\" font-size=\"14.00\">b</text>\n",
       "<polyline fill=\"none\" stroke=\"black\" points=\"318.25,-1 318.25,-36.5\"/>\n",
       "<text text-anchor=\"middle\" x=\"354.75\" y=\"-13.7\" font-family=\"Times,serif\" font-size=\"14.00\">data 4.000</text>\n",
       "<polyline fill=\"none\" stroke=\"black\" points=\"391.25,-1 391.25,-36.5\"/>\n",
       "<text text-anchor=\"middle\" x=\"428.5\" y=\"-13.7\" font-family=\"Times,serif\" font-size=\"14.00\">grad 1.000</text>\n",
       "</g>\n",
       "<!-- 4808878416+&#45;&gt;4808878416 -->\n",
       "<g id=\"edge1\" class=\"edge\">\n",
       "<title>4808878416+&#45;&gt;4808878416</title>\n",
       "<path fill=\"none\" stroke=\"black\" d=\"M259.96,-18.5C267.05,-18.5 275.15,-18.5 283.71,-18.5\"/>\n",
       "<polygon fill=\"black\" stroke=\"black\" points=\"283.68,-22 293.68,-18.5 283.68,-15 283.68,-22\"/>\n",
       "</g>\n",
       "</g>\n",
       "</svg>\n"
      ],
      "text/plain": [
       "<graphviz.graphs.Digraph at 0x11ea1a4a0>"
      ]
     },
     "execution_count": 185,
     "metadata": {},
     "output_type": "execute_result"
    }
   ],
   "source": [
    "a = Value(2, label='a')\n",
    "b = a + a; b.label = 'b'\n",
    "\n",
    "b.backward()\n",
    "draw_dot(b)"
   ]
  },
  {
   "cell_type": "code",
   "execution_count": 186,
   "id": "03f8004b-0260-46d7-b19b-6f0afc69e19e",
   "metadata": {},
   "outputs": [
    {
     "data": {
      "image/svg+xml": [
       "<?xml version=\"1.0\" encoding=\"UTF-8\" standalone=\"no\"?>\n",
       "<!DOCTYPE svg PUBLIC \"-//W3C//DTD SVG 1.1//EN\"\n",
       " \"http://www.w3.org/Graphics/SVG/1.1/DTD/svg11.dtd\">\n",
       "<!-- Generated by graphviz version 9.0.0 (20230911.1827)\n",
       " -->\n",
       "<!-- Pages: 1 -->\n",
       "<svg width=\"786pt\" height=\"100pt\"\n",
       " viewBox=\"0.00 0.00 785.75 100.00\" xmlns=\"http://www.w3.org/2000/svg\" xmlns:xlink=\"http://www.w3.org/1999/xlink\">\n",
       "<g id=\"graph0\" class=\"graph\" transform=\"scale(1 1) rotate(0) translate(4 96)\">\n",
       "<polygon fill=\"white\" stroke=\"none\" points=\"-4,4 -4,-96 781.75,-96 781.75,4 -4,4\"/>\n",
       "<!-- 4808883312 -->\n",
       "<g id=\"node1\" class=\"node\">\n",
       "<title>4808883312</title>\n",
       "<polygon fill=\"none\" stroke=\"black\" points=\"605.25,-27.5 605.25,-63.5 777.75,-63.5 777.75,-27.5 605.25,-27.5\"/>\n",
       "<text text-anchor=\"middle\" x=\"615.5\" y=\"-40.7\" font-family=\"Times,serif\" font-size=\"14.00\">f</text>\n",
       "<polyline fill=\"none\" stroke=\"black\" points=\"625.75,-28 625.75,-63.5\"/>\n",
       "<text text-anchor=\"middle\" x=\"664.5\" y=\"-40.7\" font-family=\"Times,serif\" font-size=\"14.00\">data &#45;6.000</text>\n",
       "<polyline fill=\"none\" stroke=\"black\" points=\"703.25,-28 703.25,-63.5\"/>\n",
       "<text text-anchor=\"middle\" x=\"740.5\" y=\"-40.7\" font-family=\"Times,serif\" font-size=\"14.00\">grad 1.000</text>\n",
       "</g>\n",
       "<!-- 4808883312* -->\n",
       "<g id=\"node2\" class=\"node\">\n",
       "<title>4808883312*</title>\n",
       "<ellipse fill=\"none\" stroke=\"black\" cx=\"542.25\" cy=\"-45.5\" rx=\"27\" ry=\"18\"/>\n",
       "<text text-anchor=\"middle\" x=\"542.25\" y=\"-40.45\" font-family=\"Times,serif\" font-size=\"14.00\">*</text>\n",
       "</g>\n",
       "<!-- 4808883312*&#45;&gt;4808883312 -->\n",
       "<g id=\"edge1\" class=\"edge\">\n",
       "<title>4808883312*&#45;&gt;4808883312</title>\n",
       "<path fill=\"none\" stroke=\"black\" d=\"M569.58,-45.5C576.65,-45.5 584.74,-45.5 593.3,-45.5\"/>\n",
       "<polygon fill=\"black\" stroke=\"black\" points=\"593.27,-49 603.27,-45.5 593.27,-42 593.27,-49\"/>\n",
       "</g>\n",
       "<!-- 4808882304 -->\n",
       "<g id=\"node3\" class=\"node\">\n",
       "<title>4808882304</title>\n",
       "<polygon fill=\"none\" stroke=\"black\" points=\"304.88,-55.5 304.88,-91.5 478.88,-91.5 478.88,-55.5 304.88,-55.5\"/>\n",
       "<text text-anchor=\"middle\" x=\"315.88\" y=\"-68.7\" font-family=\"Times,serif\" font-size=\"14.00\">c</text>\n",
       "<polyline fill=\"none\" stroke=\"black\" points=\"326.88,-56 326.88,-91.5\"/>\n",
       "<text text-anchor=\"middle\" x=\"363.38\" y=\"-68.7\" font-family=\"Times,serif\" font-size=\"14.00\">data 1.000</text>\n",
       "<polyline fill=\"none\" stroke=\"black\" points=\"399.88,-56 399.88,-91.5\"/>\n",
       "<text text-anchor=\"middle\" x=\"439.38\" y=\"-68.7\" font-family=\"Times,serif\" font-size=\"14.00\">grad &#45;6.000</text>\n",
       "</g>\n",
       "<!-- 4808882304&#45;&gt;4808883312* -->\n",
       "<g id=\"edge5\" class=\"edge\">\n",
       "<title>4808882304&#45;&gt;4808883312*</title>\n",
       "<path fill=\"none\" stroke=\"black\" d=\"M479.19,-57.21C488.08,-55.53 496.73,-53.9 504.61,-52.41\"/>\n",
       "<polygon fill=\"black\" stroke=\"black\" points=\"505.25,-55.85 514.43,-50.56 503.95,-48.98 505.25,-55.85\"/>\n",
       "</g>\n",
       "<!-- 4808882304+ -->\n",
       "<g id=\"node4\" class=\"node\">\n",
       "<title>4808882304+</title>\n",
       "<ellipse fill=\"none\" stroke=\"black\" cx=\"241.5\" cy=\"-73.5\" rx=\"27\" ry=\"18\"/>\n",
       "<text text-anchor=\"middle\" x=\"241.5\" y=\"-68.45\" font-family=\"Times,serif\" font-size=\"14.00\">+</text>\n",
       "</g>\n",
       "<!-- 4808882304+&#45;&gt;4808882304 -->\n",
       "<g id=\"edge2\" class=\"edge\">\n",
       "<title>4808882304+&#45;&gt;4808882304</title>\n",
       "<path fill=\"none\" stroke=\"black\" d=\"M268.68,-73.5C275.94,-73.5 284.26,-73.5 293.09,-73.5\"/>\n",
       "<polygon fill=\"black\" stroke=\"black\" points=\"292.97,-77 302.97,-73.5 292.97,-70 292.97,-77\"/>\n",
       "</g>\n",
       "<!-- 4808868576 -->\n",
       "<g id=\"node5\" class=\"node\">\n",
       "<title>4808868576</title>\n",
       "<polygon fill=\"none\" stroke=\"black\" points=\"0,-55.5 0,-91.5 178.5,-91.5 178.5,-55.5 0,-55.5\"/>\n",
       "<text text-anchor=\"middle\" x=\"11\" y=\"-68.7\" font-family=\"Times,serif\" font-size=\"14.00\">a</text>\n",
       "<polyline fill=\"none\" stroke=\"black\" points=\"22,-56 22,-91.5\"/>\n",
       "<text text-anchor=\"middle\" x=\"60.75\" y=\"-68.7\" font-family=\"Times,serif\" font-size=\"14.00\">data &#45;2.000</text>\n",
       "<polyline fill=\"none\" stroke=\"black\" points=\"99.5,-56 99.5,-91.5\"/>\n",
       "<text text-anchor=\"middle\" x=\"139\" y=\"-68.7\" font-family=\"Times,serif\" font-size=\"14.00\">grad &#45;3.000</text>\n",
       "</g>\n",
       "<!-- 4808868576&#45;&gt;4808882304+ -->\n",
       "<g id=\"edge7\" class=\"edge\">\n",
       "<title>4808868576&#45;&gt;4808882304+</title>\n",
       "<path fill=\"none\" stroke=\"black\" d=\"M178.95,-73.5C187.28,-73.5 195.37,-73.5 202.8,-73.5\"/>\n",
       "<polygon fill=\"black\" stroke=\"black\" points=\"202.74,-77 212.74,-73.5 202.74,-70 202.74,-77\"/>\n",
       "</g>\n",
       "<!-- 4808874768* -->\n",
       "<g id=\"node8\" class=\"node\">\n",
       "<title>4808874768*</title>\n",
       "<ellipse fill=\"none\" stroke=\"black\" cx=\"241.5\" cy=\"-18.5\" rx=\"27\" ry=\"18\"/>\n",
       "<text text-anchor=\"middle\" x=\"241.5\" y=\"-13.45\" font-family=\"Times,serif\" font-size=\"14.00\">*</text>\n",
       "</g>\n",
       "<!-- 4808868576&#45;&gt;4808874768* -->\n",
       "<g id=\"edge9\" class=\"edge\">\n",
       "<title>4808868576&#45;&gt;4808874768*</title>\n",
       "<path fill=\"none\" stroke=\"black\" d=\"M153.73,-55.14C162.12,-52.41 170.55,-49.5 178.5,-46.5 188.46,-42.75 199.08,-38.17 208.68,-33.81\"/>\n",
       "<polygon fill=\"black\" stroke=\"black\" points=\"210,-37.05 217.6,-29.67 207.06,-30.7 210,-37.05\"/>\n",
       "</g>\n",
       "<!-- 4808876784 -->\n",
       "<g id=\"node6\" class=\"node\">\n",
       "<title>4808876784</title>\n",
       "<polygon fill=\"none\" stroke=\"black\" points=\"1.88,-0.5 1.88,-36.5 176.62,-36.5 176.62,-0.5 1.88,-0.5\"/>\n",
       "<text text-anchor=\"middle\" x=\"13.25\" y=\"-13.7\" font-family=\"Times,serif\" font-size=\"14.00\">b</text>\n",
       "<polyline fill=\"none\" stroke=\"black\" points=\"24.62,-1 24.62,-36.5\"/>\n",
       "<text text-anchor=\"middle\" x=\"61.12\" y=\"-13.7\" font-family=\"Times,serif\" font-size=\"14.00\">data 3.000</text>\n",
       "<polyline fill=\"none\" stroke=\"black\" points=\"97.62,-1 97.62,-36.5\"/>\n",
       "<text text-anchor=\"middle\" x=\"137.12\" y=\"-13.7\" font-family=\"Times,serif\" font-size=\"14.00\">grad &#45;8.000</text>\n",
       "</g>\n",
       "<!-- 4808876784&#45;&gt;4808882304+ -->\n",
       "<g id=\"edge8\" class=\"edge\">\n",
       "<title>4808876784&#45;&gt;4808882304+</title>\n",
       "<path fill=\"none\" stroke=\"black\" d=\"M151.3,-36.96C160.47,-40 169.77,-43.22 178.5,-46.5 188.32,-50.19 198.84,-54.59 208.38,-58.76\"/>\n",
       "<polygon fill=\"black\" stroke=\"black\" points=\"206.69,-61.84 217.25,-62.7 209.53,-55.44 206.69,-61.84\"/>\n",
       "</g>\n",
       "<!-- 4808876784&#45;&gt;4808874768* -->\n",
       "<g id=\"edge6\" class=\"edge\">\n",
       "<title>4808876784&#45;&gt;4808874768*</title>\n",
       "<path fill=\"none\" stroke=\"black\" d=\"M176.78,-18.5C185.9,-18.5 194.78,-18.5 202.89,-18.5\"/>\n",
       "<polygon fill=\"black\" stroke=\"black\" points=\"202.62,-22 212.62,-18.5 202.62,-15 202.62,-22\"/>\n",
       "</g>\n",
       "<!-- 4808874768 -->\n",
       "<g id=\"node7\" class=\"node\">\n",
       "<title>4808874768</title>\n",
       "<polygon fill=\"none\" stroke=\"black\" points=\"304.5,-0.5 304.5,-36.5 479.25,-36.5 479.25,-0.5 304.5,-0.5\"/>\n",
       "<text text-anchor=\"middle\" x=\"315.88\" y=\"-13.7\" font-family=\"Times,serif\" font-size=\"14.00\">d</text>\n",
       "<polyline fill=\"none\" stroke=\"black\" points=\"327.25,-1 327.25,-36.5\"/>\n",
       "<text text-anchor=\"middle\" x=\"366\" y=\"-13.7\" font-family=\"Times,serif\" font-size=\"14.00\">data &#45;6.000</text>\n",
       "<polyline fill=\"none\" stroke=\"black\" points=\"404.75,-1 404.75,-36.5\"/>\n",
       "<text text-anchor=\"middle\" x=\"442\" y=\"-13.7\" font-family=\"Times,serif\" font-size=\"14.00\">grad 1.000</text>\n",
       "</g>\n",
       "<!-- 4808874768&#45;&gt;4808883312* -->\n",
       "<g id=\"edge4\" class=\"edge\">\n",
       "<title>4808874768&#45;&gt;4808883312*</title>\n",
       "<path fill=\"none\" stroke=\"black\" d=\"M479.61,-34.28C488.37,-35.88 496.89,-37.43 504.66,-38.84\"/>\n",
       "<polygon fill=\"black\" stroke=\"black\" points=\"503.86,-42.25 514.33,-40.6 505.12,-35.37 503.86,-42.25\"/>\n",
       "</g>\n",
       "<!-- 4808874768*&#45;&gt;4808874768 -->\n",
       "<g id=\"edge3\" class=\"edge\">\n",
       "<title>4808874768*&#45;&gt;4808874768</title>\n",
       "<path fill=\"none\" stroke=\"black\" d=\"M268.68,-18.5C275.88,-18.5 284.13,-18.5 292.88,-18.5\"/>\n",
       "<polygon fill=\"black\" stroke=\"black\" points=\"292.66,-22 302.66,-18.5 292.66,-15 292.66,-22\"/>\n",
       "</g>\n",
       "</g>\n",
       "</svg>\n"
      ],
      "text/plain": [
       "<graphviz.graphs.Digraph at 0x11ea19030>"
      ]
     },
     "execution_count": 186,
     "metadata": {},
     "output_type": "execute_result"
    }
   ],
   "source": [
    "a = Value(-2, label='a')\n",
    "b = Value(3, label='b')\n",
    "\n",
    "c = a +b; c.label= 'c'\n",
    "d= a * b; d.label='d'\n",
    "\n",
    "f = d * c; f.label='f'\n",
    "\n",
    "f.backward()\n",
    "draw_dot(f)"
   ]
  },
  {
   "cell_type": "markdown",
   "id": "3e7ef806-bc00-46b4-a931-36a33e61c1fa",
   "metadata": {},
   "source": [
    "## w/PyTorch"
   ]
  },
  {
   "cell_type": "code",
   "execution_count": 19,
   "id": "8678232f-70d6-4f19-9028-d4c06dc62c9c",
   "metadata": {},
   "outputs": [],
   "source": [
    "import torch"
   ]
  },
  {
   "cell_type": "code",
   "execution_count": 31,
   "id": "dacf617e-d8b1-42ca-bd05-c435821c4beb",
   "metadata": {},
   "outputs": [
    {
     "name": "stdout",
     "output_type": "stream",
     "text": [
      "0.7071064519863152\n",
      "---TORCH-----\n",
      "x1 -1.500001396677975\n",
      "w1 1.00000093111865\n",
      "x2 -0.500000465559325\n",
      "w2 0.0\n"
     ]
    }
   ],
   "source": [
    "#inputs\n",
    "x1 = torch.Tensor([2.0]).double() ;x1.requires_grad = True #becasue by default it thinks its a leaf node\n",
    "x2 = torch.Tensor([0.0]).double() ;x2.requires_grad = True\n",
    "\n",
    "w1 = torch.Tensor([-3.0]).double() ;w1.requires_grad = True\n",
    "w2 = torch.Tensor([-1.0]).double() ;w2.requires_grad = True\n",
    "# bias\n",
    "b = torch.Tensor([6.881373]).double() ;b.requires_grad = True\n",
    "\n",
    "# n = ws + b\n",
    "n = w1*x1 + w2*x2 + b\n",
    "# tanh classifier\n",
    "o = torch.tanh(n)\n",
    "\n",
    "print(o.data.item())\n",
    "o.backward()\n",
    "\n",
    "\n",
    "print(\"---TORCH-----\")\n",
    "print('x1', x1.grad.item())\n",
    "print('w1', w1.grad.item())\n",
    "print('x2', x2.grad.item())\n",
    "print('w2', w2.grad.item())"
   ]
  },
  {
   "cell_type": "code",
   "execution_count": 32,
   "id": "a8b8e163-a5e0-4e80-b749-fff2ebaa614e",
   "metadata": {},
   "outputs": [
    {
     "data": {
      "text/plain": [
       "tensor([0.7071], dtype=torch.float64, grad_fn=<TanhBackward0>)"
      ]
     },
     "execution_count": 32,
     "metadata": {},
     "output_type": "execute_result"
    }
   ],
   "source": [
    "o"
   ]
  },
  {
   "cell_type": "code",
   "execution_count": 33,
   "id": "3b029fe7-5fe7-498a-bd1f-12fac3e8a786",
   "metadata": {},
   "outputs": [
    {
     "data": {
      "text/plain": [
       "0.7071064519863152"
      ]
     },
     "execution_count": 33,
     "metadata": {},
     "output_type": "execute_result"
    }
   ],
   "source": [
    "o.item()"
   ]
  },
  {
   "cell_type": "markdown",
   "id": "43022871-ffbd-4ec7-bbdc-fb6b1ac1cf01",
   "metadata": {},
   "source": [
    "## building Neuron\n"
   ]
  },
  {
   "cell_type": "code",
   "execution_count": 6,
   "id": "ccf1e47d-c538-46e1-b116-9c0dc3fd67e7",
   "metadata": {},
   "outputs": [],
   "source": [
    "class Neuron:\n",
    "    def __init__(self, nin): #number of neurons\n",
    "        self.w = [Value(random.uniform(-1,1)) for _ in range(nin)]\n",
    "        self.b = Value(random.uniform(-1,1))\n",
    "\n",
    "    def __call__(self, x):\n",
    "        # n = wx + b\n",
    "        act = sum((wi*xi for wi, xi in zip(self.w, x)), start=self.b)\n",
    "        out = act.tanh()\n",
    "        return out\n",
    "\n",
    "    def parameters(self): #we wanna a convenient function to nudge the w, b based on the gradient info\n",
    "        return self.w + [self.b]\n",
    "        \n",
    "\n",
    "class Layer:\n",
    "    def __init__(self, nin, nout):\n",
    "        self.neurons = [Neuron(nin) for _ in range(nout)] #a layer is a list of neurons and how many neurons (nout)\n",
    "\n",
    "    def __call__(self, x):\n",
    "        outs = [n(x) for n in self.neurons]\n",
    "        return outs[0] if len(outs) == 1 else outs\n",
    "\n",
    "    def parameters(self):\n",
    "        return [p for neuron in self.neurons for p in neuron.parameters()]\n",
    "        # params = []\n",
    "        # for neuron in self.neurons:\n",
    "        # ps = neuron.parameters()\n",
    "        # params.extend(ps)\n",
    "        #return params\n",
    "\n",
    "class MLP:\n",
    "    def __init__(self, nin, nouts):\n",
    "        sz = [nin] + nouts #intire neurons in a single layer\n",
    "        self.layers = [Layer(sz[i], sz[i+1]) for i in range(len(nouts))] #i + i+i current layer and the next one \n",
    "\n",
    "    def __call__(self, x): #call layers sequentially\n",
    "        for layer in self.layers:\n",
    "            x = layer(x)\n",
    "        return x\n",
    "\n",
    "\n",
    "    def parameters(self):\n",
    "        return [p for layer in self.layers for p in layer.parameters()]\n",
    "        "
   ]
  },
  {
   "cell_type": "code",
   "execution_count": 7,
   "id": "6cfd7ae2-c265-434b-9300-3cbf85a778b9",
   "metadata": {},
   "outputs": [
    {
     "data": {
      "text/plain": [
       "Value(data=-0.8674321428478409, grad=0)"
      ]
     },
     "execution_count": 7,
     "metadata": {},
     "output_type": "execute_result"
    }
   ],
   "source": [
    "#simple exp       \n",
    "x = [2.0,3.0, -1.0]\n",
    "n = MLP(3, [4,4,1])\n",
    "n(x)       "
   ]
  },
  {
   "cell_type": "code",
   "execution_count": 145,
   "id": "4cc59703-d288-45d7-9882-3734b5d5c4ad",
   "metadata": {},
   "outputs": [
    {
     "data": {
      "text/plain": [
       "[Value(data=-0.2267167786450992, grad=0),\n",
       " Value(data=-0.587807277143426, grad=0),\n",
       " Value(data=-0.047521310396922534, grad=0),\n",
       " Value(data=0.4054138098901323, grad=0),\n",
       " Value(data=-0.36192519049830163, grad=0),\n",
       " Value(data=0.04681166137872772, grad=0),\n",
       " Value(data=0.005115051012648308, grad=0),\n",
       " Value(data=-0.5196236485459906, grad=0),\n",
       " Value(data=-0.06724123622080302, grad=0),\n",
       " Value(data=0.02123922322516303, grad=0),\n",
       " Value(data=-0.2883297604184427, grad=0),\n",
       " Value(data=0.26818689515963867, grad=0),\n",
       " Value(data=-0.9594599465260625, grad=0),\n",
       " Value(data=0.6339773678803426, grad=0),\n",
       " Value(data=-0.21008545438270576, grad=0),\n",
       " Value(data=-0.8225688564424616, grad=0),\n",
       " Value(data=0.7879607786243275, grad=0),\n",
       " Value(data=0.44772579722644035, grad=0),\n",
       " Value(data=0.918207139061918, grad=0),\n",
       " Value(data=0.2983159190729441, grad=0),\n",
       " Value(data=-0.30127667518464696, grad=0),\n",
       " Value(data=0.5043970627834204, grad=0),\n",
       " Value(data=-0.18449909799278408, grad=0),\n",
       " Value(data=-0.1117282025085855, grad=0),\n",
       " Value(data=0.44686089779733074, grad=0),\n",
       " Value(data=0.8519529147878684, grad=0),\n",
       " Value(data=0.013856569212752134, grad=0),\n",
       " Value(data=0.47807362756803773, grad=0),\n",
       " Value(data=-0.7693084886473189, grad=0),\n",
       " Value(data=-0.6655332906282214, grad=0),\n",
       " Value(data=-0.1317458919704939, grad=0),\n",
       " Value(data=-0.4036780719704711, grad=0),\n",
       " Value(data=-0.1465514066584397, grad=0),\n",
       " Value(data=-0.8769797647610302, grad=0),\n",
       " Value(data=0.5922195994623041, grad=0),\n",
       " Value(data=0.1228388530513096, grad=0),\n",
       " Value(data=0.830318291927058, grad=0),\n",
       " Value(data=-0.5238422936641602, grad=0),\n",
       " Value(data=-0.0019134218489127441, grad=0),\n",
       " Value(data=0.1583646498228135, grad=0),\n",
       " Value(data=-0.8914707653939071, grad=0)]"
      ]
     },
     "execution_count": 145,
     "metadata": {},
     "output_type": "execute_result"
    }
   ],
   "source": [
    "n.parameters() #all the parameters (w and b of entire network ;))"
   ]
  },
  {
   "cell_type": "code",
   "execution_count": 97,
   "id": "d4c9c318-b381-4b63-98a5-94b12befb9b3",
   "metadata": {},
   "outputs": [
    {
     "data": {
      "text/plain": [
       "41"
      ]
     },
     "execution_count": 97,
     "metadata": {},
     "output_type": "execute_result"
    }
   ],
   "source": [
    "len(n.parameters())"
   ]
  },
  {
   "attachments": {
    "57aa585c-aa67-4789-8bb0-1e5aeb4d1d57.jpeg": {
     "image/jpeg": "[encoded data removed]"
    }
   },
   "cell_type": "markdown",
   "id": "3b4eda8d-1fb7-4fe5-b4a4-d01cae5e6a15",
   "metadata": {},
   "source": [
    "![neural_net2.jpeg](attachment:57aa585c-aa67-4789-8bb0-1e5aeb4d1d57.jpeg)"
   ]
  },
  {
   "cell_type": "code",
   "execution_count": 22,
   "id": "7e51570e-f0d1-47e6-8a74-7db25d49741d",
   "metadata": {},
   "outputs": [],
   "source": [
    "#draw_dot(n(x))"
   ]
  },
  {
   "cell_type": "markdown",
   "id": "5047f6cb-1207-4267-bfb4-adb2c4b2b345",
   "metadata": {},
   "source": [
    "## tiny dataset"
   ]
  },
  {
   "cell_type": "code",
   "execution_count": 162,
   "id": "c9e09001-f349-41a7-89b0-ca38bcbcabe1",
   "metadata": {},
   "outputs": [],
   "source": [
    "#xs = np.random.randint(-2,4, size=(4,3))"
   ]
  },
  {
   "cell_type": "code",
   "execution_count": 14,
   "id": "9533f2dd-2365-4a6c-8ea9-3d520c6754ff",
   "metadata": {},
   "outputs": [],
   "source": [
    "xs = [\n",
    "    [2.0,3.0,-1.0],\n",
    "    [3.0,-1.0,0.5],\n",
    "    [0.5,1.0,1.0],\n",
    "    [1.0,1.0,-1.0],\n",
    "]\n",
    "\n",
    "ys = [1.0, -1.0, -1.0, 1.0] #desired output"
   ]
  },
  {
   "cell_type": "code",
   "execution_count": 23,
   "id": "c59ced8b-2808-4fed-a95d-b1f5fba91c95",
   "metadata": {},
   "outputs": [
    {
     "name": "stdout",
     "output_type": "stream",
     "text": [
      "0 5.156731563710737e-09\n",
      "1 5.156731443762337e-09\n",
      "2 5.156731323782059e-09\n",
      "3 5.156731203849189e-09\n",
      "4 5.156731083884026e-09\n",
      "5 5.156730963919692e-09\n",
      "6 5.156730843939006e-09\n",
      "7 5.156730723990614e-09\n",
      "8 5.156730604042224e-09\n",
      "9 5.1567304840774825e-09\n",
      "10 5.156730364113155e-09\n",
      "11 5.156730244148002e-09\n",
      "12 5.156730124167738e-09\n",
      "13 5.156730004218941e-09\n",
      "14 5.156729884286499e-09\n",
      "15 5.156729764322178e-09\n",
      "16 5.156729644357447e-09\n",
      "17 5.15672952437719e-09\n",
      "18 5.156729404427986e-09\n",
      "19 5.156729284447319e-09\n"
     ]
    },
    {
     "data": {
      "text/plain": [
       "[Value(data=0.9999999999999972, grad=-5.551115123125783e-15),\n",
       " Value(data=-0.9999282137665885, grad=0.0001435724668230609),\n",
       " Value(data=-0.9999981382865332, grad=3.7234269336661185e-06),\n",
       " Value(data=0.9999999999999972, grad=-5.551115123125783e-15)]"
      ]
     },
     "execution_count": 23,
     "metadata": {},
     "output_type": "execute_result"
    }
   ],
   "source": [
    "#clean code \n",
    "#forward pass\n",
    "for k in range(20):\n",
    "    ypred = [n(x) for x in xs] #output nn onthat xs \n",
    "    #how we gotta tune the weights to acheive the desired output; to better predict the desired\n",
    "    #trick for nn is a single number that measures how the network is doing\n",
    "    loss = sum((yout - ygt)**2 for ygt, yout in zip(ys, ypred))\n",
    "\n",
    "    #backward \n",
    "    for p in n.parameters():\n",
    "        p.grad = 0.0\n",
    "    loss.backward()\n",
    "    #update \n",
    "    for p in n.parameters():\n",
    "         p.data += -0.05 * p.grad #update based on the grad n the influence on loss\n",
    "\n",
    "    print(''k, loss.data) #k is current step\n",
    "        \n",
    "    \n",
    "ypred"
   ]
  },
  {
   "cell_type": "code",
   "execution_count": 223,
   "id": "0947664d-ad40-4623-817d-06c6f29e5ee0",
   "metadata": {},
   "outputs": [],
   "source": [
    "#BACKWARD PASS\n",
    "loss.backward()"
   ]
  },
  {
   "cell_type": "code",
   "execution_count": 66,
   "id": "ec47b1e1-17c5-4d32-89ad-ae564b6de645",
   "metadata": {},
   "outputs": [
    {
     "data": {
      "text/plain": [
       "0.04097262312324712"
      ]
     },
     "execution_count": 66,
     "metadata": {},
     "output_type": "execute_result"
    }
   ],
   "source": [
    "n.layers[1].neurons[1].w[1].grad #negative influence on loss so slightly increasing the w for this particular neuron makes the loss to go down!\n",
    "# think of gradient as a vector pointing to the direction of increasing loss, however we wanna decrease the loss so we gotta go the opposite direction"
   ]
  },
  {
   "cell_type": "code",
   "execution_count": 67,
   "id": "69b37eb3-3771-480b-a55f-20a947ec0452",
   "metadata": {},
   "outputs": [
    {
     "data": {
      "text/plain": [
       "-0.6072963233499371"
      ]
     },
     "execution_count": 67,
     "metadata": {},
     "output_type": "execute_result"
    }
   ],
   "source": [
    "n.layers[1].neurons[1].w[1].data"
   ]
  },
  {
   "cell_type": "code",
   "execution_count": 224,
   "id": "7bf17177-34ce-4153-8db1-cdb8fca3fac9",
   "metadata": {},
   "outputs": [],
   "source": [
    "#draw_dot(loss)\n",
    "#forward pass\n",
    "for p in n.parameters():\n",
    "    p.data += -0.004 * p.grad #update based on the grad n the influence on loss "
   ]
  },
  {
   "cell_type": "code",
   "execution_count": 69,
   "id": "b4ffe576-d04f-440b-89fe-3325c3be45b9",
   "metadata": {},
   "outputs": [
    {
     "data": {
      "text/plain": [
       "Value(data=-0.6012233601164377, grad=0)"
      ]
     },
     "execution_count": 69,
     "metadata": {},
     "output_type": "execute_result"
    }
   ],
   "source": [
    "n.layers[1].neurons[1].w[1].data"
   ]
  },
  {
   "cell_type": "code",
   "execution_count": 225,
   "id": "30406152-b386-4362-9786-cf455e95ff59",
   "metadata": {},
   "outputs": [
    {
     "data": {
      "text/plain": [
       "Value(data=0.005377299850747358, grad=0)"
      ]
     },
     "execution_count": 225,
     "metadata": {},
     "output_type": "execute_result"
    }
   ],
   "source": [
    "#----AFTER THE INCLUENCE OF GRAD/LOSS---\n",
    "ypred = [n(x) for x in xs] \n",
    "loss = sum((yout - ygt)**2 for ygt, yout in zip(ys, ypred))\n",
    "loss"
   ]
  },
  {
   "cell_type": "code",
   "execution_count": 11,
   "id": "1793d997-ceeb-4e4e-8637-dc59ed5fbb25",
   "metadata": {},
   "outputs": [
    {
     "data": {
      "text/plain": [
       "[Value(data=0.9999999999999953, grad=-9.325873406851315e-15),\n",
       " Value(data=-0.9999192575522983, grad=0.0001614848954034631),\n",
       " Value(data=-0.999997631800756, grad=4.7363984880810506e-06),\n",
       " Value(data=0.9999999999999953, grad=-9.325873406851315e-15)]"
      ]
     },
     "execution_count": 11,
     "metadata": {},
     "output_type": "execute_result"
    }
   ],
   "source": [
    "ypred"
   ]
  },
  {
   "cell_type": "code",
   "execution_count": 227,
   "id": "f2e6126a-e6e9-4f79-a4d7-77fccb3c45d1",
   "metadata": {},
   "outputs": [
    {
     "data": {
      "text/plain": [
       "[Value(data=-0.07039227313367599, grad=-1.0050154976487942),\n",
       " Value(data=-0.48944994196928, grad=-0.1765574869484957),\n",
       " Value(data=-0.059952143177057576, grad=-1.0701672514634797),\n",
       " Value(data=0.5345803798409088, grad=-0.5292760726151021),\n",
       " Value(data=-0.163938974060473, grad=0.3277957879940503),\n",
       " Value(data=0.2884647173315358, grad=0.4863279512225649),\n",
       " Value(data=0.02007738564093163, grad=-2.0614327267937),\n",
       " Value(data=-0.31748632321810855, grad=-0.3717689667559004),\n",
       " Value(data=-0.8068743249011666, grad=2.562559706761901),\n",
       " Value(data=0.5389357509957834, grad=-8.048612710108063),\n",
       " Value(data=-1.9876771540191074, grad=17.74746901522441),\n",
       " Value(data=-0.3831659276494732, grad=4.475372094719541),\n",
       " Value(data=-0.9016727839154929, grad=-2.79455040934366),\n",
       " Value(data=0.7077416211587376, grad=-3.838320825984861),\n",
       " Value(data=-0.2519429030201898, grad=1.7456222777305268),\n",
       " Value(data=-0.7810285315056096, grad=-1.7534837964321774),\n",
       " Value(data=0.31246318143679047, grad=2.252443332957389),\n",
       " Value(data=0.21906123707216651, grad=-0.5887920496966467),\n",
       " Value(data=1.4792575755118142, grad=-3.57806170503707),\n",
       " Value(data=0.0974636152620672, grad=-0.0221857712489258),\n",
       " Value(data=0.09801476761279408, grad=-0.7262695456520294),\n",
       " Value(data=0.9920842894604603, grad=-1.89521830628373),\n",
       " Value(data=0.03834554708051217, grad=0.8753169421174944),\n",
       " Value(data=-0.6670780663896078, grad=3.948016438248093),\n",
       " Value(data=0.5878415655326631, grad=0.5869703400885402),\n",
       " Value(data=0.5109557914259181, grad=0.0471451684631173),\n",
       " Value(data=0.1616048564623074, grad=-2.71271680733723),\n",
       " Value(data=0.248897513251008, grad=2.774886727499689),\n",
       " Value(data=-1.1291841901041184, grad=6.593754963535677),\n",
       " Value(data=-0.8386992982530581, grad=-1.0832250928300087),\n",
       " Value(data=0.026950355670343477, grad=2.3409460188976),\n",
       " Value(data=-0.46698087702045227, grad=-0.9363475942989307),\n",
       " Value(data=-0.36990521109908936, grad=1.6770698790445238),\n",
       " Value(data=-0.9280127923970872, grad=2.591504584298456),\n",
       " Value(data=0.4042220379047481, grad=-0.022976463110185086),\n",
       " Value(data=0.37128193154997885, grad=0.39018493524502773),\n",
       " Value(data=0.6722896651967772, grad=-7.32227508750424),\n",
       " Value(data=-0.5144337539610251, grad=3.656732230823509),\n",
       " Value(data=-1.1822787542411162, grad=7.064828304786836),\n",
       " Value(data=-0.6836450963157923, grad=6.749676388327516),\n",
       " Value(data=0.02670099736405166, grad=-2.7741090266573214)]"
      ]
     },
     "execution_count": 227,
     "metadata": {},
     "output_type": "execute_result"
    }
   ],
   "source": [
    "# n.parameters() #w and biasws that lead to the upper best output; closest to the desired ys = [1,-1, -1, 1]\n",
    "n.parameters()"
   ]
  },
  {
   "cell_type": "code",
   "execution_count": null,
   "id": "359d29a5-6d66-4634-aef0-daa60a882b5b",
   "metadata": {},
   "outputs": [],
   "source": []
  }
 ],
 "metadata": {
  "kernelspec": {
   "display_name": "Python 3 (ipykernel)",
   "language": "python",
   "name": "python3"
  },
  "language_info": {
   "codemirror_mode": {
    "name": "ipython",
    "version": 3
   },
   "file_extension": ".py",
   "mimetype": "text/x-python",
   "name": "python",
   "nbconvert_exporter": "python",
   "pygments_lexer": "ipython3",
   "version": "3.10.12"
  }
 },
 "nbformat": 4,
 "nbformat_minor": 5
}
