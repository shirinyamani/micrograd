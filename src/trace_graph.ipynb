{
 "cells": [
  {
   "cell_type": "code",
   "execution_count": 1,
   "id": "17be426f-f7d6-45ce-a748-d5e623d926d2",
   "metadata": {},
   "outputs": [],
   "source": [
    "import math\n",
    "import numpy as np\n",
    "import matplotlib.pyplot as plt\n",
    "%matplotlib inline\n",
    "from graphviz import Digraph"
   ]
  },
  {
   "cell_type": "markdown",
   "id": "4723aae7-7a2d-40b0-bf2a-fde976f0ffa0",
   "metadata": {},
   "source": [
    "# be clear what is \"DERIVATIVE\" of one simple function with one input?"
   ]
  },
  {
   "cell_type": "code",
   "execution_count": 2,
   "id": "d68ed5f0-ad6b-4eca-baf5-3e93a49b06b6",
   "metadata": {},
   "outputs": [],
   "source": [
    "def f(x):\n",
    "    return 3*x**2 - 4*x + 5"
   ]
  },
  {
   "cell_type": "code",
   "execution_count": 3,
   "id": "69b25c77-3a3f-4e6a-aac5-245c9b9d66d6",
   "metadata": {},
   "outputs": [
    {
     "data": {
      "text/plain": [
       "20"
      ]
     },
     "execution_count": 3,
     "metadata": {},
     "output_type": "execute_result"
    }
   ],
   "source": [
    "f(3)"
   ]
  },
  {
   "cell_type": "code",
   "execution_count": 4,
   "id": "5f2f275e-0656-4b2c-9d3c-9f5f436f93e4",
   "metadata": {},
   "outputs": [
    {
     "data": {
      "text/plain": [
       "[<matplotlib.lines.Line2D at 0x10f7ba6b0>]"
      ]
     },
     "execution_count": 4,
     "metadata": {},
     "output_type": "execute_result"
    },
    {
     "data": {
      "image/png": "[encoded data removed]",
      "text/plain": [
       "<Figure size 640x480 with 1 Axes>"
      ]
     },
     "metadata": {},
     "output_type": "display_data"
    }
   ],
   "source": [
    "xs = np.arange(-5,5, 0.25) #from -5 t0 5 with step 0.5\n",
    "ys = f(xs)\n",
    "plt.plot(xs,ys)"
   ]
  },
  {
   "cell_type": "code",
   "execution_count": 5,
   "id": "cab1afb1-ce50-4d90-b5f9-a40296f38c56",
   "metadata": {},
   "outputs": [
    {
     "data": {
      "text/plain": [
       "array([100.    ,  91.6875,  83.75  ,  76.1875,  69.    ,  62.1875,\n",
       "        55.75  ,  49.6875,  44.    ,  38.6875,  33.75  ,  29.1875,\n",
       "        25.    ,  21.1875,  17.75  ,  14.6875,  12.    ,   9.6875,\n",
       "         7.75  ,   6.1875,   5.    ,   4.1875,   3.75  ,   3.6875,\n",
       "         4.    ,   4.6875,   5.75  ,   7.1875,   9.    ,  11.1875,\n",
       "        13.75  ,  16.6875,  20.    ,  23.6875,  27.75  ,  32.1875,\n",
       "        37.    ,  42.1875,  47.75  ,  53.6875])"
      ]
     },
     "execution_count": 5,
     "metadata": {},
     "output_type": "execute_result"
    }
   ],
   "source": [
    "ys"
   ]
  },
  {
   "cell_type": "code",
   "execution_count": 6,
   "id": "fd52bcbf-3ec4-4cbd-aadd-1bdddf022efa",
   "metadata": {
    "scrolled": true
   },
   "outputs": [
    {
     "data": {
      "text/plain": [
       "14.000003002223593"
      ]
     },
     "execution_count": 6,
     "metadata": {},
     "output_type": "execute_result"
    }
   ],
   "source": [
    "#definition of derivative\n",
    "h = 0.000001 #tent to zero by formula\n",
    "x = 3 #try -3, 2/3\n",
    "f(x)\n",
    "(f(x + h) - f(x)) / h"
   ]
  },
  {
   "cell_type": "code",
   "execution_count": 7,
   "id": "4aa29528-f4af-4b5d-a4a8-5ee340513a61",
   "metadata": {},
   "outputs": [
    {
     "name": "stdout",
     "output_type": "stream",
     "text": [
      "4\n"
     ]
    }
   ],
   "source": [
    "#lets get more complex function\n",
    "a = 2\n",
    "b = -3\n",
    "c = 10\n",
    "d = a*b + c\n",
    "print(d)"
   ]
  },
  {
   "cell_type": "code",
   "execution_count": 8,
   "id": "c80b82b5-bd02-4046-9a4e-19223cc28de9",
   "metadata": {},
   "outputs": [
    {
     "name": "stdout",
     "output_type": "stream",
     "text": [
      "d1 4\n",
      "d2 3.999699999999999\n",
      "actual slope -3.000000000010772\n"
     ]
    }
   ],
   "source": [
    "h = 0.0001\n",
    "\n",
    "#inputs\n",
    "a = 2\n",
    "b = -3\n",
    "c = 10\n",
    "\n",
    "d1 = a*b + c #initial \n",
    "a += h #bumped a to a positive direction by a lil bit \n",
    "d2 = a*b + c #how its gonna effect \n",
    "\n",
    "\n",
    "\n",
    "print('d1', d1)\n",
    "print('d2', d2)\n",
    "print('actual slope', (d2-d1)/h)"
   ]
  },
  {
   "cell_type": "markdown",
   "id": "e6782227-80e1-4897-8862-6d7aa01c17fb",
   "metadata": {},
   "source": [
    "## Core \"Value\" object of Micrograd"
   ]
  },
  {
   "cell_type": "code",
   "execution_count": 9,
   "id": "a138a1ac-5f98-4e71-a4db-31e427b17fea",
   "metadata": {},
   "outputs": [],
   "source": [
    "class Value:\n",
    "    def __init__(self, data, _children=(), _op='', label=''): #children to kinda relate them to one another!\n",
    "        self.data = data\n",
    "        self._children = set(_children) #children for understanding the created value is from what, e.g. d is from addition of a,b\n",
    "        self._op = _op #from what operation \n",
    "        self.label = label #to create a label for the dat values\n",
    "        self.grad = 0.0 #initial set to zero, meaning slight change in the variables does not impact the loss function \n",
    "        \n",
    "    def __repr__(self):\n",
    "        return f\"Value(data={self.data})\"\n",
    "\n",
    "    def __add__(self, other):\n",
    "        out = Value(self.data + other.data, (self, other), '+')\n",
    "        return out\n",
    "\n",
    "    def __mul__(self, other, _op='*'):\n",
    "        out = Value(self.data * other.data, (self,other), '*')\n",
    "        return out"
   ]
  },
  {
   "cell_type": "code",
   "execution_count": 10,
   "id": "5621c441-8318-4367-a3dd-ab9e15e70b7a",
   "metadata": {},
   "outputs": [],
   "source": [
    "obj1 = Value(3)\n",
    "a = Value(2, label= 'a')\n",
    "b = Value(-3, label='b')\n",
    "c = Value(10, label='c')\n",
    "#a + b #internally a.__add__(b)\n",
    "e=a*b; e.label = 'e'\n",
    "d=e + c; d.label = 'd'\n",
    "f = Value(-2, label='f')\n",
    "L = d * f; L.label='L' #overal output"
   ]
  },
  {
   "cell_type": "code",
   "execution_count": 11,
   "id": "2f1c86a4-19dd-40fd-9d78-ba395b35ba44",
   "metadata": {},
   "outputs": [
    {
     "data": {
      "text/plain": [
       "{Value(data=-6), Value(data=10)}"
      ]
     },
     "execution_count": 11,
     "metadata": {},
     "output_type": "execute_result"
    }
   ],
   "source": [
    "d._children"
   ]
  },
  {
   "cell_type": "code",
   "execution_count": 12,
   "id": "3ff9508c-8a97-46d5-b21a-d5d1e6da79b2",
   "metadata": {},
   "outputs": [
    {
     "data": {
      "text/plain": [
       "'+'"
      ]
     },
     "execution_count": 12,
     "metadata": {},
     "output_type": "execute_result"
    }
   ],
   "source": [
    "d._op"
   ]
  },
  {
   "cell_type": "markdown",
   "id": "4759ef18-0310-4d83-bd3b-16a8733b4369",
   "metadata": {},
   "source": [
    "## Graphical visualization "
   ]
  },
  {
   "cell_type": "code",
   "execution_count": 15,
   "id": "b0d4191b-cb00-4f2d-a228-5bfc2eacc006",
   "metadata": {},
   "outputs": [],
   "source": [
    "#visualualize in graph\n",
    "#trace is building the graph\n",
    "def trace(root):\n",
    "    #build a set of all nodes and edges in a graph\n",
    "    nodes, edges = set(), set()\n",
    "    def build_graph(v):\n",
    "        if v not in nodes:\n",
    "            nodes.add(v)\n",
    "            for child in v._children:\n",
    "                edges.add((child, v))\n",
    "                build_graph(child)\n",
    "    build_graph(root)\n",
    "    return nodes, edges\n",
    "\n",
    "def draw_dot(root):\n",
    "    dot = Digraph(format= 'svg', graph_attr={'rankdir':'LR'})\n",
    "    nodes, edges = trace(root)\n",
    "\n",
    "    for n in nodes:\n",
    "        #for any value in graph, create a rectangular ('record') for it \n",
    "        dot.node(name=str(id(n)), label= f\" data {n.label} = {n.data} | grad = {n.grad}\", shape='record') #label = {%s | data %.4f | grad%.4f}\" % (n.label, n.data)\n",
    "        if n._op:\n",
    "            #if this value is a result of an +/* operation, create an op node for it \n",
    "            dot.node(str(id(n)) + n._op, label = n._op)\n",
    "            #connect it to the corresponding node \n",
    "            dot.edge(str(id(n)) + n._op, str(id(n)))\n",
    "\n",
    "    for n1, n2 in edges:\n",
    "        #connect n1 to the op node of n2\n",
    "        dot.edge(str(id(n1)),str(id(n2)) + n2._op)\n",
    "    return dot    "
   ]
  },
  {
   "cell_type": "code",
   "execution_count": 14,
   "id": "dd917c08-093e-4907-89e4-618f6cbc27d8",
   "metadata": {},
   "outputs": [
    {
     "data": {
      "image/svg+xml": [
       "<?xml version=\"1.0\" encoding=\"UTF-8\" standalone=\"no\"?>\n",
       "<!DOCTYPE svg PUBLIC \"-//W3C//DTD SVG 1.1//EN\"\n",
       " \"http://www.w3.org/Graphics/SVG/1.1/DTD/svg11.dtd\">\n",
       "<!-- Generated by graphviz version 9.0.0 (20230911.1827)\n",
       " -->\n",
       "<!-- Pages: 1 -->\n",
       "<svg width=\"690pt\" height=\"160pt\"\n",
       " viewBox=\"0.00 0.00 690.00 160.00\" xmlns=\"http://www.w3.org/2000/svg\" xmlns:xlink=\"http://www.w3.org/1999/xlink\">\n",
       "<g id=\"graph0\" class=\"graph\" transform=\"scale(1 1) rotate(0) translate(4 156)\">\n",
       "<polygon fill=\"white\" stroke=\"none\" points=\"-4,4 -4,-156 686,-156 686,4 -4,4\"/>\n",
       "<!-- 4555266592 -->\n",
       "<g id=\"node1\" class=\"node\">\n",
       "<title>4555266592</title>\n",
       "<polygon fill=\"none\" stroke=\"black\" points=\"405.5,-102.5 405.5,-151.5 479.25,-151.5 479.25,-102.5 405.5,-102.5\"/>\n",
       "<text text-anchor=\"middle\" x=\"442.38\" y=\"-134.2\" font-family=\"Times,serif\" font-size=\"14.00\">data f = &#45;2</text>\n",
       "<polyline fill=\"none\" stroke=\"black\" points=\"405.5,-127 479.25,-127\"/>\n",
       "<text text-anchor=\"middle\" x=\"442.38\" y=\"-109.7\" font-family=\"Times,serif\" font-size=\"14.00\">grad = 0.0</text>\n",
       "</g>\n",
       "<!-- 4555272640* -->\n",
       "<g id=\"node7\" class=\"node\">\n",
       "<title>4555272640*</title>\n",
       "<ellipse fill=\"none\" stroke=\"black\" cx=\"542.25\" cy=\"-93\" rx=\"27\" ry=\"18\"/>\n",
       "<text text-anchor=\"middle\" x=\"542.25\" y=\"-87.95\" font-family=\"Times,serif\" font-size=\"14.00\">*</text>\n",
       "</g>\n",
       "<!-- 4555266592&#45;&gt;4555272640* -->\n",
       "<g id=\"edge6\" class=\"edge\">\n",
       "<title>4555266592&#45;&gt;4555272640*</title>\n",
       "<path fill=\"none\" stroke=\"black\" d=\"M479.54,-114.44C488.5,-111.32 498.08,-108 506.94,-104.92\"/>\n",
       "<polygon fill=\"black\" stroke=\"black\" points=\"507.97,-108.27 516.27,-101.68 505.67,-101.65 507.97,-108.27\"/>\n",
       "</g>\n",
       "<!-- 4555274368 -->\n",
       "<g id=\"node2\" class=\"node\">\n",
       "<title>4555274368</title>\n",
       "<polygon fill=\"none\" stroke=\"black\" points=\"405.88,-34.5 405.88,-83.5 478.88,-83.5 478.88,-34.5 405.88,-34.5\"/>\n",
       "<text text-anchor=\"middle\" x=\"442.38\" y=\"-66.2\" font-family=\"Times,serif\" font-size=\"14.00\">data d = 4</text>\n",
       "<polyline fill=\"none\" stroke=\"black\" points=\"405.88,-59 478.88,-59\"/>\n",
       "<text text-anchor=\"middle\" x=\"442.38\" y=\"-41.7\" font-family=\"Times,serif\" font-size=\"14.00\">grad = 0.0</text>\n",
       "</g>\n",
       "<!-- 4555274368&#45;&gt;4555272640* -->\n",
       "<g id=\"edge5\" class=\"edge\">\n",
       "<title>4555274368&#45;&gt;4555272640*</title>\n",
       "<path fill=\"none\" stroke=\"black\" d=\"M479.26,-71.47C488.32,-74.61 498.01,-77.98 506.98,-81.1\"/>\n",
       "<polygon fill=\"black\" stroke=\"black\" points=\"505.83,-84.4 516.43,-84.38 508.13,-77.79 505.83,-84.4\"/>\n",
       "</g>\n",
       "<!-- 4555274368+ -->\n",
       "<g id=\"node3\" class=\"node\">\n",
       "<title>4555274368+</title>\n",
       "<ellipse fill=\"none\" stroke=\"black\" cx=\"342.5\" cy=\"-59\" rx=\"27\" ry=\"18\"/>\n",
       "<text text-anchor=\"middle\" x=\"342.5\" y=\"-53.95\" font-family=\"Times,serif\" font-size=\"14.00\">+</text>\n",
       "</g>\n",
       "<!-- 4555274368+&#45;&gt;4555274368 -->\n",
       "<g id=\"edge1\" class=\"edge\">\n",
       "<title>4555274368+&#45;&gt;4555274368</title>\n",
       "<path fill=\"none\" stroke=\"black\" d=\"M369.99,-59C377.54,-59 386,-59 394.38,-59\"/>\n",
       "<polygon fill=\"black\" stroke=\"black\" points=\"394.16,-62.5 404.16,-59 394.16,-55.5 394.16,-62.5\"/>\n",
       "</g>\n",
       "<!-- 4555274896 -->\n",
       "<g id=\"node4\" class=\"node\">\n",
       "<title>4555274896</title>\n",
       "<polygon fill=\"none\" stroke=\"black\" points=\"1.5,-102.5 1.5,-151.5 74.5,-151.5 74.5,-102.5 1.5,-102.5\"/>\n",
       "<text text-anchor=\"middle\" x=\"38\" y=\"-134.2\" font-family=\"Times,serif\" font-size=\"14.00\">data a = 2</text>\n",
       "<polyline fill=\"none\" stroke=\"black\" points=\"1.5,-127 74.5,-127\"/>\n",
       "<text text-anchor=\"middle\" x=\"38\" y=\"-109.7\" font-family=\"Times,serif\" font-size=\"14.00\">grad = 0.0</text>\n",
       "</g>\n",
       "<!-- 4555275232* -->\n",
       "<g id=\"node9\" class=\"node\">\n",
       "<title>4555275232*</title>\n",
       "<ellipse fill=\"none\" stroke=\"black\" cx=\"139\" cy=\"-93\" rx=\"27\" ry=\"18\"/>\n",
       "<text text-anchor=\"middle\" x=\"139\" y=\"-87.95\" font-family=\"Times,serif\" font-size=\"14.00\">*</text>\n",
       "</g>\n",
       "<!-- 4555274896&#45;&gt;4555275232* -->\n",
       "<g id=\"edge9\" class=\"edge\">\n",
       "<title>4555274896&#45;&gt;4555275232*</title>\n",
       "<path fill=\"none\" stroke=\"black\" d=\"M74.74,-114.73C84.11,-111.51 94.2,-108.04 103.5,-104.85\"/>\n",
       "<polygon fill=\"black\" stroke=\"black\" points=\"104.61,-108.17 112.93,-101.61 102.34,-101.55 104.61,-108.17\"/>\n",
       "</g>\n",
       "<!-- 4555275616 -->\n",
       "<g id=\"node5\" class=\"node\">\n",
       "<title>4555275616</title>\n",
       "<polygon fill=\"none\" stroke=\"black\" points=\"0,-34.5 0,-83.5 76,-83.5 76,-34.5 0,-34.5\"/>\n",
       "<text text-anchor=\"middle\" x=\"38\" y=\"-66.2\" font-family=\"Times,serif\" font-size=\"14.00\">data b = &#45;3</text>\n",
       "<polyline fill=\"none\" stroke=\"black\" points=\"0,-59 76,-59\"/>\n",
       "<text text-anchor=\"middle\" x=\"38\" y=\"-41.7\" font-family=\"Times,serif\" font-size=\"14.00\">grad = 0.0</text>\n",
       "</g>\n",
       "<!-- 4555275616&#45;&gt;4555275232* -->\n",
       "<g id=\"edge4\" class=\"edge\">\n",
       "<title>4555275616&#45;&gt;4555275232*</title>\n",
       "<path fill=\"none\" stroke=\"black\" d=\"M76.43,-71.85C85.44,-74.95 95.01,-78.24 103.86,-81.28\"/>\n",
       "<polygon fill=\"black\" stroke=\"black\" points=\"102.56,-84.53 113.16,-84.47 104.83,-77.91 102.56,-84.53\"/>\n",
       "</g>\n",
       "<!-- 4555272640 -->\n",
       "<g id=\"node6\" class=\"node\">\n",
       "<title>4555272640</title>\n",
       "<polygon fill=\"none\" stroke=\"black\" points=\"605.25,-68.5 605.25,-117.5 682,-117.5 682,-68.5 605.25,-68.5\"/>\n",
       "<text text-anchor=\"middle\" x=\"643.62\" y=\"-100.2\" font-family=\"Times,serif\" font-size=\"14.00\">data L = &#45;8</text>\n",
       "<polyline fill=\"none\" stroke=\"black\" points=\"605.25,-93 682,-93\"/>\n",
       "<text text-anchor=\"middle\" x=\"643.62\" y=\"-75.7\" font-family=\"Times,serif\" font-size=\"14.00\">grad = 0.0</text>\n",
       "</g>\n",
       "<!-- 4555272640*&#45;&gt;4555272640 -->\n",
       "<g id=\"edge2\" class=\"edge\">\n",
       "<title>4555272640*&#45;&gt;4555272640</title>\n",
       "<path fill=\"none\" stroke=\"black\" d=\"M569.62,-93C576.97,-93 585.19,-93 593.4,-93\"/>\n",
       "<polygon fill=\"black\" stroke=\"black\" points=\"593.39,-96.5 603.39,-93 593.39,-89.5 593.39,-96.5\"/>\n",
       "</g>\n",
       "<!-- 4555275232 -->\n",
       "<g id=\"node8\" class=\"node\">\n",
       "<title>4555275232</title>\n",
       "<polygon fill=\"none\" stroke=\"black\" points=\"203.12,-68.5 203.12,-117.5 278.38,-117.5 278.38,-68.5 203.12,-68.5\"/>\n",
       "<text text-anchor=\"middle\" x=\"240.75\" y=\"-100.2\" font-family=\"Times,serif\" font-size=\"14.00\">data e = &#45;6</text>\n",
       "<polyline fill=\"none\" stroke=\"black\" points=\"203.12,-93 278.38,-93\"/>\n",
       "<text text-anchor=\"middle\" x=\"240.75\" y=\"-75.7\" font-family=\"Times,serif\" font-size=\"14.00\">grad = 0.0</text>\n",
       "</g>\n",
       "<!-- 4555275232&#45;&gt;4555274368+ -->\n",
       "<g id=\"edge7\" class=\"edge\">\n",
       "<title>4555275232&#45;&gt;4555274368+</title>\n",
       "<path fill=\"none\" stroke=\"black\" d=\"M278.61,-80.44C287.92,-77.26 297.88,-73.87 307.07,-70.74\"/>\n",
       "<polygon fill=\"black\" stroke=\"black\" points=\"308.03,-74.11 316.36,-67.57 305.77,-67.48 308.03,-74.11\"/>\n",
       "</g>\n",
       "<!-- 4555275232*&#45;&gt;4555275232 -->\n",
       "<g id=\"edge3\" class=\"edge\">\n",
       "<title>4555275232*&#45;&gt;4555275232</title>\n",
       "<path fill=\"none\" stroke=\"black\" d=\"M166.47,-93C174.09,-93 182.65,-93 191.16,-93\"/>\n",
       "<polygon fill=\"black\" stroke=\"black\" points=\"191.13,-96.5 201.13,-93 191.13,-89.5 191.13,-96.5\"/>\n",
       "</g>\n",
       "<!-- 4555275760 -->\n",
       "<g id=\"node10\" class=\"node\">\n",
       "<title>4555275760</title>\n",
       "<polygon fill=\"none\" stroke=\"black\" points=\"202,-0.5 202,-49.5 279.5,-49.5 279.5,-0.5 202,-0.5\"/>\n",
       "<text text-anchor=\"middle\" x=\"240.75\" y=\"-32.2\" font-family=\"Times,serif\" font-size=\"14.00\">data c = 10</text>\n",
       "<polyline fill=\"none\" stroke=\"black\" points=\"202,-25 279.5,-25\"/>\n",
       "<text text-anchor=\"middle\" x=\"240.75\" y=\"-7.7\" font-family=\"Times,serif\" font-size=\"14.00\">grad = 0.0</text>\n",
       "</g>\n",
       "<!-- 4555275760&#45;&gt;4555274368+ -->\n",
       "<g id=\"edge8\" class=\"edge\">\n",
       "<title>4555275760&#45;&gt;4555274368+</title>\n",
       "<path fill=\"none\" stroke=\"black\" d=\"M279.75,-37.95C288.8,-41.04 298.42,-44.32 307.29,-47.34\"/>\n",
       "<polygon fill=\"black\" stroke=\"black\" points=\"306.02,-50.6 316.61,-50.52 308.28,-43.98 306.02,-50.6\"/>\n",
       "</g>\n",
       "</g>\n",
       "</svg>\n"
      ],
      "text/plain": [
       "<graphviz.graphs.Digraph at 0x107ed7e80>"
      ]
     },
     "execution_count": 14,
     "metadata": {},
     "output_type": "execute_result"
    }
   ],
   "source": [
    "draw_dot(L)"
   ]
  },
  {
   "cell_type": "markdown",
   "id": "e215b93b-f442-444c-9193-28c7bf74eec0",
   "metadata": {},
   "source": [
    "## Manual backpro; simple expression"
   ]
  },
  {
   "cell_type": "code",
   "execution_count": null,
   "id": "5f2b6189-0fc8-4282-a661-35e6661a6f5b",
   "metadata": {},
   "outputs": [],
   "source": []
  }
 ],
 "metadata": {
  "kernelspec": {
   "display_name": "Python 3 (ipykernel)",
   "language": "python",
   "name": "python3"
  },
  "language_info": {
   "codemirror_mode": {
    "name": "ipython",
    "version": 3
   },
   "file_extension": ".py",
   "mimetype": "text/x-python",
   "name": "python",
   "nbconvert_exporter": "python",
   "pygments_lexer": "ipython3",
   "version": "3.10.12"
  }
 },
 "nbformat": 4,
 "nbformat_minor": 5
}
